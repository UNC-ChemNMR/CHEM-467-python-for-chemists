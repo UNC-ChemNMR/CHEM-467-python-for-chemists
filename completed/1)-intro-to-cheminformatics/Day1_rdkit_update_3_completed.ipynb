{
 "cells": [
  {
   "cell_type": "markdown",
   "metadata": {},
   "source": [
    "# Intro to cheminformatics with RDkit\n",
    "\n",
    "\n",
    "<div class=\"alert alert-block alert-info\">\n",
    "<h2>Objectives:</h2>\n",
    "\n",
    "* Import packages/libraries\n",
    "\n",
    "* SMILES strings\n",
    "\n",
    "* RDKit library\n",
    "\n",
    "* Run functions\n",
    "    * `Chem.MolFromSmiles()`\n",
    "    * `Chem.Draw.MolToImage()`\n",
    "    * `Descriptors.ExactMolWt()`\n",
    "    \n",
    "\n",
    "\n",
    "</div>\n",
    "\n",
    "There are Python libraries that are made for working just with chemical data. One commonly used library in Python for data science (or cheminformatics) is called [RDKit](https://en.wikipedia.org/wiki/RDKit).\n",
    "\n",
    "RDKit provides a molecule object that allows you to manipulate chemical structures. It has capabilities for reading and writing molecular file formats, calculating molecular properties, and performing substructure searches. In addition, it offers a wide range of cheminformatics algorithms such as molecular fingerprint generation, similarity metrics calculation, and molecular descriptor computation. This notebook will only introduce a few RDKit basics and a common molecular format called SMILES. "
   ]
  },
  {
   "cell_type": "markdown",
   "metadata": {},
   "source": [
    "## Simplified Molecular-Input Line-entry System: SMILES \n",
    "\n",
    "SMILES stands for \"Simplified Molecular-Input Line-Entry System\" and is a way to represent molecules as a string of characters. SMILES is basically the cheminformatics version of the condensed formula we learned in gen chem.\n",
    "\n",
    "You can read more about the SMILES syntax at [this tutorial](https://chemicbook.com/2021/02/13/smiles-strings-explained-for-beginners-part-1.html)\n",
    "\n",
    "### SMILES examples\n",
    "\n",
    "| Name              | SMILES      | Rule concepts                                 | Structure                                          |\n",
    "| ----------------- | ----------- | --------------------------------------------- | -------------------------------------------------- |\n",
    "| Ethanol           | CCO         | Atoms: `C` carbon, `O` oxygen<br>             | ![ethanol](images/ethanol.png)                     |\n",
    "| Propargyl bromide | C#CCBr      | Atoms: `Br` bromine<br>Bonds: `#` triple      | ![Propargyl_bromide](images/propargyl_bromide.png) |\n",
    "| 2-Propanone       | CC(=O)C     | Bonds: `=` double<br>Branches: `()`           | ![isopropanone](images/isopropanone.png)           |\n",
    "| Phenol            | c1(O)ccccc1 | Aromatics: `c` lower case<br>Rings: `1.....1` | ![phenol](images/phenol.png)                       |\n",
    "\n",
    "\n",
    "### Look up SMILES:\n",
    "\n",
    "Most of the time, you will not need to write a SMILES string by hand.\n",
    "You will be able to look up a molecule's SMILES string from a web database like:\n",
    "* [PubChem](https://pubchem.ncbi.nlm.nih.gov/compound/Eugenol#section=SMILES) - names and identifiers section\n",
    "\n",
    "    ![pubchem_eugenol](images/pubchem_eugenol.png)\n",
    "    \n",
    "* [Wikipedia](https://en.wikipedia.org/wiki/eugenol) - chemical identifiers panel\n",
    "\n",
    "    ![wiki_eugenol](images/wikipedia_eugenol.png)\n",
    "\n",
    "### SMILES and Chemdraw\n",
    "\n",
    "#### Copy SMILES\n",
    "\n",
    "You can copy a Chemdraw molecule as a SMILES string by:\n",
    "1. Selecting the molecule\n",
    "2. Open the Edit tab\n",
    "3. Copy As > SMILES\n",
    "\n",
    "#### Paste SMILES\n",
    "\n",
    "You can [paste a SMILES structure into ChemDraw](https://people.stfx.ca/blynch/CS%20ChemOffice%202004/CS%20ChemDraw/CS%20ChemDraw%20Help/CD8ch11a5.html) to visualize a structure by:\n",
    "\n",
    "1. Right-clicking\n",
    "2. Special Paste > SMILES\n",
    "\n",
    "![chemdraw_eugenol](images/chemdraw_eugenol.png)"
   ]
  },
  {
   "cell_type": "markdown",
   "metadata": {},
   "source": [
    "<div class=\"alert alert-block alert-warning\">\n",
    "<h3>Exercise</h3>\n",
    "\n",
    "<p> Use online resources to look up the SMILES string for the following structures:\n",
    "<p>\n",
    "    <ul>\n",
    "        <li> What is the SMILES for ethyl acetate?</li>\n",
    "        <li> What is the SMILES for vanillin?</li>\n",
    "        <li> What is the SMILES for amoxicillin?</li>\n",
    "    </ul>\n",
    "</p>\n",
    "\n",
    "You can look up the SMILES strings on <a href=\"https://pubchem.ncbi.nlm.nih.gov/\">PubChem</a> or <a href=\"https://en.wikipedia.org/wiki/Main_Page\">Wikipedia</a>\n",
    "</div>"
   ]
  },
  {
   "cell_type": "code",
   "execution_count": 2,
   "metadata": {},
   "outputs": [],
   "source": [
    "# Fill in your answers here as strings (remember to use quotation marks):\n",
    "ethyl_acetate_smiles = 'O=C(OCC)C'\n",
    "vanillin_smiles = 'c1(C=O)cc(OC)c(O)cc1'\n",
    "amoxicillin_smiles = 'O=C(O)[C@@H]2N3C(=O)[C@@H](NC(=O)[C@@H](c1ccc(O)cc1)N)[C@H]3SC2(C)C'"
   ]
  },
  {
   "cell_type": "markdown",
   "metadata": {},
   "source": [
    "## Importing Packages\n",
    "In Python, we use **packages** (or libraries) to add extra functionality to our programs without having to reinvent the wheel ourselves. For example, RDKit is a library of tools specifically designed for cheminformatics.\n",
    "\n",
    "To import a package, we use the `import` statement. Below, we'll import `rdkit` and `py3Dmol`. We will also directly import some `rdkit` modules (`AllChem`, `rdMolDescriptors`, `Descriptors3D`) that we will be using later in the notebook.\n"
   ]
  },
  {
   "cell_type": "code",
   "execution_count": 3,
   "metadata": {},
   "outputs": [],
   "source": [
    "import rdkit\n",
    "import py3Dmol\n",
    "from rdkit.Chem import AllChem, rdMolDescriptors, Descriptors3D"
   ]
  },
  {
   "cell_type": "markdown",
   "metadata": {},
   "source": [
    "## Creating Molecules with RDKit\n",
    "\n",
    "Throughout this tutorial, it will be helpful to have access to the [RDKit documentation](https://www.rdkit.org/docs/index.html). \n",
    "\n",
    "To get information about molecules in RDKit, we have to first create objects representing molecules. We will use SMILES strings to load our structures into RDkit, although RDKit accepts many other file formats.\n",
    "\n",
    "### Creating molecules using SMILES\n",
    "\n",
    "We can create a representation of ibuprofen using RDKit by using the `MolFromSmiles` function in `rdkit.Chem`."
   ]
  },
  {
   "cell_type": "code",
   "execution_count": 4,
   "metadata": {},
   "outputs": [],
   "source": [
    "ibuprofen_smiles = 'CC(Cc1ccc(cc1)C(C(=O)O)C)C'\n",
    "ibuprofen = rdkit.Chem.MolFromSmiles(ibuprofen_smiles)"
   ]
  },
  {
   "cell_type": "markdown",
   "metadata": {},
   "source": [
    "Let's explore the output of the `Chem.MolFromSmiles()` function using the `print()` and `type()` functions."
   ]
  },
  {
   "cell_type": "code",
   "execution_count": 5,
   "metadata": {},
   "outputs": [
    {
     "name": "stdout",
     "output_type": "stream",
     "text": [
      "<rdkit.Chem.rdchem.Mol object at 0x7fa938543ca0>\n"
     ]
    },
    {
     "data": {
      "text/plain": [
       "rdkit.Chem.rdchem.Mol"
      ]
     },
     "execution_count": 5,
     "metadata": {},
     "output_type": "execute_result"
    }
   ],
   "source": [
    "print(ibuprofen)\n",
    "type(ibuprofen)"
   ]
  },
  {
   "cell_type": "markdown",
   "metadata": {},
   "source": [
    "The `print()` function doesn't known how to represent this object. Instead it informed us that the variable `ibuprofen` is an RDkit `mol` object..\n",
    "\n",
    "<div class=\"alert alert-block alert-success\"> \n",
    "<strong>Python Skills: Python Objects</strong>\n",
    "\n",
    "Most of this functionality is achieved through the RDKit `mol` object. In Python, we use the word \"object\" to refer to a variable type with associated data and methods. \n",
    "One example of an object we have seen in notebooks is a list - we could also call it a \"list object\". An object has `attributes` (data) and `methods`. \n",
    "You access information about objects with the syntax\n",
    "```python\n",
    "object.data\n",
    "```\n",
    "where data is the attribute name.\n",
    "\n",
    "You acceess object methods with the syntax\n",
    "```python\n",
    "object.method(arguments)\n",
    "```\n",
    "\n",
    "For example, for a list \"`append` is a method that was covered in the introductory lesson.\n",
    "\n",
    "```\n",
    "my_list = []\n",
    "my_list.append(1) # \"append\" is a method\n",
    "```\n",
    "</div>   \n",
    "\n",
    "## Draw molecules\n",
    "\n",
    "To interact with our `ibuprofen` molecule object we need to use Rdkit methods associates with an `RDkit.mol` object.\n",
    "\n",
    "We can draw the molecule using the `Chem.Draw.MolToImage()` method."
   ]
  },
  {
   "cell_type": "code",
   "execution_count": 6,
   "metadata": {},
   "outputs": [
    {
     "data": {
      "image/jpeg": "[encoded data removed]",
      "image/png": "[encoded data removed]",
      "text/plain": [
       "<PIL.PngImagePlugin.PngImageFile image mode=RGB size=300x300>"
      ]
     },
     "execution_count": 6,
     "metadata": {},
     "output_type": "execute_result"
    }
   ],
   "source": [
    "rdkit.Chem.Draw.MolToImage(ibuprofen, legend='ibuprofen')"
   ]
  },
  {
   "cell_type": "markdown",
   "metadata": {},
   "source": [
    "Luckily, Jupyter is smart! Jupyter will automatically draw an RDkit `mol` object if it is in the last line of a code cell like this:"
   ]
  },
  {
   "cell_type": "code",
   "execution_count": 7,
   "metadata": {},
   "outputs": [
    {
     "data": {
      "image/png": "[encoded data removed]",
      "text/plain": [
       "<rdkit.Chem.rdchem.Mol at 0x7fa84a9a8ac0>"
      ]
     },
     "execution_count": 7,
     "metadata": {},
     "output_type": "execute_result"
    }
   ],
   "source": [
    "lysine = rdkit.Chem.MolFromSmiles(\"C(CCN)C[C@@H](C(=O)O)N\")\n",
    "lysine"
   ]
  },
  {
   "cell_type": "markdown",
   "metadata": {},
   "source": [
    "<div class=\"alert alert-block alert-warning\"> \n",
    "<h3>Challenge</h3>\n",
    "\n",
    "- Use your smiles strings (named: `ethyl_acetate_smiles`, `vanillin_smiles` `amoxicillin_smiles`) to create RDkit molecule objects (named: `ethyl_acetate`, `vanillin`, `amoxicillin`). <br>\n",
    "- Then, draw each structure in its own code cell. (**Bonus**: try to add a legend using the `legend` argument or change the size of the image using the `size` argument.)\n",
    "\n",
    "</div>"
   ]
  },
  {
   "cell_type": "code",
   "execution_count": 8,
   "metadata": {},
   "outputs": [],
   "source": [
    "ethyl_acetate = rdkit.Chem.MolFromSmiles(ethyl_acetate_smiles)\n",
    "vanillin = rdkit.Chem.MolFromSmiles(vanillin_smiles)\n",
    "amoxicillin = rdkit.Chem.MolFromSmiles(amoxicillin_smiles)"
   ]
  },
  {
   "cell_type": "code",
   "execution_count": 9,
   "metadata": {},
   "outputs": [
    {
     "data": {
      "image/jpeg": "[encoded data removed]",
      "image/png": "[encoded data removed]",
      "text/plain": [
       "<PIL.PngImagePlugin.PngImageFile image mode=RGB size=300x300>"
      ]
     },
     "execution_count": 9,
     "metadata": {},
     "output_type": "execute_result"
    }
   ],
   "source": [
    "rdkit.Chem.Draw.MolToImage(ethyl_acetate, legend='ethyl acetate')"
   ]
  },
  {
   "cell_type": "code",
   "execution_count": 10,
   "metadata": {},
   "outputs": [
    {
     "data": {
      "image/jpeg": "[encoded data removed]",
      "image/png": "[encoded data removed]",
      "text/plain": [
       "<PIL.PngImagePlugin.PngImageFile image mode=RGB size=300x300>"
      ]
     },
     "execution_count": 10,
     "metadata": {},
     "output_type": "execute_result"
    }
   ],
   "source": [
    "rdkit.Chem.Draw.MolToImage(vanillin, legend=\"vanillin\")"
   ]
  },
  {
   "cell_type": "code",
   "execution_count": 11,
   "metadata": {},
   "outputs": [
    {
     "data": {
      "image/png": "[encoded data removed]",
      "text/plain": [
       "<rdkit.Chem.rdchem.Mol at 0x7fa84a9a8c80>"
      ]
     },
     "execution_count": 11,
     "metadata": {},
     "output_type": "execute_result"
    }
   ],
   "source": [
    "amoxicillin"
   ]
  },
  {
   "cell_type": "markdown",
   "metadata": {},
   "source": [
    "## Working with 3D Molecules\n",
    "\n",
    "Visualizing molecules in 3D requires:\n",
    "* Adding hygrogens for proper geometry\n",
    "* Creating a geomertrically accuate conformation\n",
    "* Using energy force fields to minimize the energy of the molecular conformation"
   ]
  },
  {
   "cell_type": "code",
   "execution_count": 12,
   "metadata": {},
   "outputs": [
    {
     "data": {
      "image/png": "[encoded data removed]",
      "text/plain": [
       "<rdkit.Chem.rdchem.Mol at 0x7fa84a9a95b0>"
      ]
     },
     "execution_count": 12,
     "metadata": {},
     "output_type": "execute_result"
    }
   ],
   "source": [
    "# Add Hydrogen atoms to molecule\n",
    "amoxicillin = AllChem.AddHs(amoxicillin)\n",
    "\n",
    "# Create a 3D molecule\n",
    "AllChem.EmbedMolecule(amoxicillin)\n",
    "\n",
    "# Minimize energy of molecular conformation\n",
    "AllChem.MMFFOptimizeMolecule(amoxicillin)\n",
    "\n",
    "amoxicillin"
   ]
  },
  {
   "cell_type": "markdown",
   "metadata": {},
   "source": [
    "## Interactive molecules\n",
    "\n",
    "A package called py3Dmol can even let us interact with our 3D molecule.\n",
    "\n",
    "|  Action   |         Control         |\n",
    "| :-------: | :---------------------: |\n",
    "|  rotate   |  `left click` + `drag`  |\n",
    "| translate | `center click` + `drag` |\n",
    "|   zoom    | `right click` + `drag`  |"
   ]
  },
  {
   "cell_type": "code",
   "execution_count": 13,
   "metadata": {},
   "outputs": [
    {
     "data": {
      "application/3dmoljs_load.v0": "<div id=\"3dmolviewer_17347250492317164\"  style=\"position: relative; width: 640px; height: 480px;\">\n        <p id=\"3dmolwarning_17347250492317164\" style=\"background-color:#ffcccc;color:black\">3Dmol.js failed to load for some reason.  Please check your browser console for error messages.<br></p>\n        </div>\n<script>\n\nvar loadScriptAsync = function(uri){\n  return new Promise((resolve, reject) => {\n    //this is to ignore the existence of requirejs amd\n    var savedexports, savedmodule;\n    if (typeof exports !== 'undefined') savedexports = exports;\n    else exports = {}\n    if (typeof module !== 'undefined') savedmodule = module;\n    else module = {}\n\n    var tag = document.createElement('script');\n    tag.src = uri;\n    tag.async = true;\n    tag.onload = () => {\n        exports = savedexports;\n        module = savedmodule;\n        resolve();\n    };\n  var firstScriptTag = document.getElementsByTagName('script')[0];\n  firstScriptTag.parentNode.insertBefore(tag, firstScriptTag);\n});\n};\n\nif(typeof $3Dmolpromise === 'undefined') {\n$3Dmolpromise = null;\n  $3Dmolpromise = loadScriptAsync('https://cdnjs.cloudflare.com/ajax/libs/3Dmol/2.4.2/3Dmol-min.js');\n}\n\nvar viewer_17347250492317164 = null;\nvar warn = document.getElementById(\"3dmolwarning_17347250492317164\");\nif(warn) {\n    warn.parentNode.removeChild(warn);\n}\n$3Dmolpromise.then(function() {\nviewer_17347250492317164 = $3Dmol.createViewer(document.getElementById(\"3dmolviewer_17347250492317164\"),{backgroundColor:\"white\"});\nviewer_17347250492317164.addModel(\"\\n     RDKit          3D\\n\\n 44 46  0  0  0  0  0  0  0  0999 V2000\\n   -5.2866   -0.7652    0.9522 O   0  0  0  0  0  0  0  0  0  0  0  0\\n   -4.5535   -0.5167    0.0055 C   0  0  0  0  0  0  0  0  0  0  0  0\\n   -4.8883   -0.9649   -1.2208 O   0  0  0  0  0  0  0  0  0  0  0  0\\n   -3.2367    0.2633    0.0817 C   0  0  2  0  0  0  0  0  0  0  0  0\\n   -2.7339    0.5512   -1.2598 N   0  0  0  0  0  0  0  0  0  0  0  0\\n   -1.9500    1.6380   -1.5089 C   0  0  0  0  0  0  0  0  0  0  0  0\\n   -1.9822    2.7609   -1.0608 O   0  0  0  0  0  0  0  0  0  0  0  0\\n   -0.9706    0.8081   -2.3717 C   0  0  1  0  0  0  0  0  0  0  0  0\\n    0.4580    0.9250   -1.9790 N   0  0  0  0  0  0  0  0  0  0  0  0\\n    1.4375    0.1432   -2.5548 C   0  0  0  0  0  0  0  0  0  0  0  0\\n    1.1869   -0.6516   -3.4617 O   0  0  0  0  0  0  0  0  0  0  0  0\\n    2.8730    0.3990   -2.0177 C   0  0  1  0  0  0  0  0  0  0  0  0\\n    2.9693    0.2194   -0.5122 C   0  0  0  0  0  0  0  0  0  0  0  0\\n    3.3911    1.2860    0.2980 C   0  0  0  0  0  0  0  0  0  0  0  0\\n    3.4468    1.1489    1.6874 C   0  0  0  0  0  0  0  0  0  0  0  0\\n    3.0807   -0.0578    2.2720 C   0  0  0  0  0  0  0  0  0  0  0  0\\n    3.1093   -0.2309    3.6239 O   0  0  0  0  0  0  0  0  0  0  0  0\\n    2.6710   -1.1291    1.4912 C   0  0  0  0  0  0  0  0  0  0  0  0\\n    2.6182   -0.9943    0.1029 C   0  0  0  0  0  0  0  0  0  0  0  0\\n    3.8476   -0.4559   -2.7234 N   0  0  0  0  0  0  0  0  0  0  0  0\\n   -1.7851   -0.4060   -1.8507 C   0  0  1  0  0  0  0  0  0  0  0  0\\n   -1.1049   -1.3559   -0.4367 S   0  0  0  0  0  0  0  0  0  0  0  0\\n   -2.1064   -0.4722    0.8458 C   0  0  0  0  0  0  0  0  0  0  0  0\\n   -1.1755    0.5251    1.5592 C   0  0  0  0  0  0  0  0  0  0  0  0\\n   -2.5716   -1.5086    1.8762 C   0  0  0  0  0  0  0  0  0  0  0  0\\n   -5.7409   -1.4267   -1.0846 H   0  0  0  0  0  0  0  0  0  0  0  0\\n   -3.4821    1.2191    0.5625 H   0  0  0  0  0  0  0  0  0  0  0  0\\n   -1.1007    1.0087   -3.4426 H   0  0  0  0  0  0  0  0  0  0  0  0\\n    0.7069    1.5052   -1.1813 H   0  0  0  0  0  0  0  0  0  0  0  0\\n    3.1097    1.4385   -2.2787 H   0  0  0  0  0  0  0  0  0  0  0  0\\n    3.6863    2.2326   -0.1495 H   0  0  0  0  0  0  0  0  0  0  0  0\\n    3.7746    1.9903    2.2909 H   0  0  0  0  0  0  0  0  0  0  0  0\\n    3.4742    0.5706    4.0310 H   0  0  0  0  0  0  0  0  0  0  0  0\\n    2.3889   -2.0681    1.9597 H   0  0  0  0  0  0  0  0  0  0  0  0\\n    2.2860   -1.8424   -0.4920 H   0  0  0  0  0  0  0  0  0  0  0  0\\n    3.6614   -0.3662   -3.7263 H   0  0  0  0  0  0  0  0  0  0  0  0\\n    3.6100   -1.4296   -2.5240 H   0  0  0  0  0  0  0  0  0  0  0  0\\n   -2.2405   -1.0202   -2.6327 H   0  0  0  0  0  0  0  0  0  0  0  0\\n   -0.3603    0.0127    2.0830 H   0  0  0  0  0  0  0  0  0  0  0  0\\n   -0.7201    1.2486    0.8769 H   0  0  0  0  0  0  0  0  0  0  0  0\\n   -1.7318    1.0958    2.3128 H   0  0  0  0  0  0  0  0  0  0  0  0\\n   -3.1915   -1.0360    2.6472 H   0  0  0  0  0  0  0  0  0  0  0  0\\n   -1.7216   -1.9736    2.3924 H   0  0  0  0  0  0  0  0  0  0  0  0\\n   -3.1528   -2.3186    1.4233 H   0  0  0  0  0  0  0  0  0  0  0  0\\n  1  2  2  0\\n  2  3  1  0\\n  2  4  1  0\\n  4  5  1  0\\n  5  6  1  0\\n  6  7  2  0\\n  6  8  1  0\\n  8  9  1  0\\n  9 10  1  0\\n 10 11  2  0\\n 10 12  1  0\\n 12 13  1  0\\n 13 14  2  0\\n 14 15  1  0\\n 15 16  2  0\\n 16 17  1  0\\n 16 18  1  0\\n 18 19  2  0\\n 12 20  1  0\\n  8 21  1  0\\n 21 22  1  0\\n 22 23  1  0\\n 23 24  1  0\\n 23 25  1  0\\n 19 13  1  0\\n 23  4  1  0\\n 21  5  1  0\\n  3 26  1  0\\n  4 27  1  1\\n  8 28  1  6\\n  9 29  1  0\\n 12 30  1  1\\n 14 31  1  0\\n 15 32  1  0\\n 17 33  1  0\\n 18 34  1  0\\n 19 35  1  0\\n 20 36  1  0\\n 20 37  1  0\\n 21 38  1  6\\n 24 39  1  0\\n 24 40  1  0\\n 24 41  1  0\\n 25 42  1  0\\n 25 43  1  0\\n 25 44  1  0\\nM  END\\n\");\nviewer_17347250492317164.setStyle({\"stick\": {}, \"sphere\": {\"scale\": 0.3}});\nviewer_17347250492317164.zoomTo();\nviewer_17347250492317164.render();\n});\n</script>",
      "text/html": [
       "<div id=\"3dmolviewer_17347250492317164\"  style=\"position: relative; width: 640px; height: 480px;\">\n",
       "        <p id=\"3dmolwarning_17347250492317164\" style=\"background-color:#ffcccc;color:black\">3Dmol.js failed to load for some reason.  Please check your browser console for error messages.<br></p>\n",
       "        </div>\n",
       "<script>\n",
       "\n",
       "var loadScriptAsync = function(uri){\n",
       "  return new Promise((resolve, reject) => {\n",
       "    //this is to ignore the existence of requirejs amd\n",
       "    var savedexports, savedmodule;\n",
       "    if (typeof exports !== 'undefined') savedexports = exports;\n",
       "    else exports = {}\n",
       "    if (typeof module !== 'undefined') savedmodule = module;\n",
       "    else module = {}\n",
       "\n",
       "    var tag = document.createElement('script');\n",
       "    tag.src = uri;\n",
       "    tag.async = true;\n",
       "    tag.onload = () => {\n",
       "        exports = savedexports;\n",
       "        module = savedmodule;\n",
       "        resolve();\n",
       "    };\n",
       "  var firstScriptTag = document.getElementsByTagName('script')[0];\n",
       "  firstScriptTag.parentNode.insertBefore(tag, firstScriptTag);\n",
       "});\n",
       "};\n",
       "\n",
       "if(typeof $3Dmolpromise === 'undefined') {\n",
       "$3Dmolpromise = null;\n",
       "  $3Dmolpromise = loadScriptAsync('https://cdnjs.cloudflare.com/ajax/libs/3Dmol/2.4.2/3Dmol-min.js');\n",
       "}\n",
       "\n",
       "var viewer_17347250492317164 = null;\n",
       "var warn = document.getElementById(\"3dmolwarning_17347250492317164\");\n",
       "if(warn) {\n",
       "    warn.parentNode.removeChild(warn);\n",
       "}\n",
       "$3Dmolpromise.then(function() {\n",
       "viewer_17347250492317164 = $3Dmol.createViewer(document.getElementById(\"3dmolviewer_17347250492317164\"),{backgroundColor:\"white\"});\n",
       "viewer_17347250492317164.addModel(\"\\n     RDKit          3D\\n\\n 44 46  0  0  0  0  0  0  0  0999 V2000\\n   -5.2866   -0.7652    0.9522 O   0  0  0  0  0  0  0  0  0  0  0  0\\n   -4.5535   -0.5167    0.0055 C   0  0  0  0  0  0  0  0  0  0  0  0\\n   -4.8883   -0.9649   -1.2208 O   0  0  0  0  0  0  0  0  0  0  0  0\\n   -3.2367    0.2633    0.0817 C   0  0  2  0  0  0  0  0  0  0  0  0\\n   -2.7339    0.5512   -1.2598 N   0  0  0  0  0  0  0  0  0  0  0  0\\n   -1.9500    1.6380   -1.5089 C   0  0  0  0  0  0  0  0  0  0  0  0\\n   -1.9822    2.7609   -1.0608 O   0  0  0  0  0  0  0  0  0  0  0  0\\n   -0.9706    0.8081   -2.3717 C   0  0  1  0  0  0  0  0  0  0  0  0\\n    0.4580    0.9250   -1.9790 N   0  0  0  0  0  0  0  0  0  0  0  0\\n    1.4375    0.1432   -2.5548 C   0  0  0  0  0  0  0  0  0  0  0  0\\n    1.1869   -0.6516   -3.4617 O   0  0  0  0  0  0  0  0  0  0  0  0\\n    2.8730    0.3990   -2.0177 C   0  0  1  0  0  0  0  0  0  0  0  0\\n    2.9693    0.2194   -0.5122 C   0  0  0  0  0  0  0  0  0  0  0  0\\n    3.3911    1.2860    0.2980 C   0  0  0  0  0  0  0  0  0  0  0  0\\n    3.4468    1.1489    1.6874 C   0  0  0  0  0  0  0  0  0  0  0  0\\n    3.0807   -0.0578    2.2720 C   0  0  0  0  0  0  0  0  0  0  0  0\\n    3.1093   -0.2309    3.6239 O   0  0  0  0  0  0  0  0  0  0  0  0\\n    2.6710   -1.1291    1.4912 C   0  0  0  0  0  0  0  0  0  0  0  0\\n    2.6182   -0.9943    0.1029 C   0  0  0  0  0  0  0  0  0  0  0  0\\n    3.8476   -0.4559   -2.7234 N   0  0  0  0  0  0  0  0  0  0  0  0\\n   -1.7851   -0.4060   -1.8507 C   0  0  1  0  0  0  0  0  0  0  0  0\\n   -1.1049   -1.3559   -0.4367 S   0  0  0  0  0  0  0  0  0  0  0  0\\n   -2.1064   -0.4722    0.8458 C   0  0  0  0  0  0  0  0  0  0  0  0\\n   -1.1755    0.5251    1.5592 C   0  0  0  0  0  0  0  0  0  0  0  0\\n   -2.5716   -1.5086    1.8762 C   0  0  0  0  0  0  0  0  0  0  0  0\\n   -5.7409   -1.4267   -1.0846 H   0  0  0  0  0  0  0  0  0  0  0  0\\n   -3.4821    1.2191    0.5625 H   0  0  0  0  0  0  0  0  0  0  0  0\\n   -1.1007    1.0087   -3.4426 H   0  0  0  0  0  0  0  0  0  0  0  0\\n    0.7069    1.5052   -1.1813 H   0  0  0  0  0  0  0  0  0  0  0  0\\n    3.1097    1.4385   -2.2787 H   0  0  0  0  0  0  0  0  0  0  0  0\\n    3.6863    2.2326   -0.1495 H   0  0  0  0  0  0  0  0  0  0  0  0\\n    3.7746    1.9903    2.2909 H   0  0  0  0  0  0  0  0  0  0  0  0\\n    3.4742    0.5706    4.0310 H   0  0  0  0  0  0  0  0  0  0  0  0\\n    2.3889   -2.0681    1.9597 H   0  0  0  0  0  0  0  0  0  0  0  0\\n    2.2860   -1.8424   -0.4920 H   0  0  0  0  0  0  0  0  0  0  0  0\\n    3.6614   -0.3662   -3.7263 H   0  0  0  0  0  0  0  0  0  0  0  0\\n    3.6100   -1.4296   -2.5240 H   0  0  0  0  0  0  0  0  0  0  0  0\\n   -2.2405   -1.0202   -2.6327 H   0  0  0  0  0  0  0  0  0  0  0  0\\n   -0.3603    0.0127    2.0830 H   0  0  0  0  0  0  0  0  0  0  0  0\\n   -0.7201    1.2486    0.8769 H   0  0  0  0  0  0  0  0  0  0  0  0\\n   -1.7318    1.0958    2.3128 H   0  0  0  0  0  0  0  0  0  0  0  0\\n   -3.1915   -1.0360    2.6472 H   0  0  0  0  0  0  0  0  0  0  0  0\\n   -1.7216   -1.9736    2.3924 H   0  0  0  0  0  0  0  0  0  0  0  0\\n   -3.1528   -2.3186    1.4233 H   0  0  0  0  0  0  0  0  0  0  0  0\\n  1  2  2  0\\n  2  3  1  0\\n  2  4  1  0\\n  4  5  1  0\\n  5  6  1  0\\n  6  7  2  0\\n  6  8  1  0\\n  8  9  1  0\\n  9 10  1  0\\n 10 11  2  0\\n 10 12  1  0\\n 12 13  1  0\\n 13 14  2  0\\n 14 15  1  0\\n 15 16  2  0\\n 16 17  1  0\\n 16 18  1  0\\n 18 19  2  0\\n 12 20  1  0\\n  8 21  1  0\\n 21 22  1  0\\n 22 23  1  0\\n 23 24  1  0\\n 23 25  1  0\\n 19 13  1  0\\n 23  4  1  0\\n 21  5  1  0\\n  3 26  1  0\\n  4 27  1  1\\n  8 28  1  6\\n  9 29  1  0\\n 12 30  1  1\\n 14 31  1  0\\n 15 32  1  0\\n 17 33  1  0\\n 18 34  1  0\\n 19 35  1  0\\n 20 36  1  0\\n 20 37  1  0\\n 21 38  1  6\\n 24 39  1  0\\n 24 40  1  0\\n 24 41  1  0\\n 25 42  1  0\\n 25 43  1  0\\n 25 44  1  0\\nM  END\\n\");\n",
       "viewer_17347250492317164.setStyle({\"stick\": {}, \"sphere\": {\"scale\": 0.3}});\n",
       "viewer_17347250492317164.zoomTo();\n",
       "viewer_17347250492317164.render();\n",
       "});\n",
       "</script>"
      ]
     },
     "metadata": {},
     "output_type": "display_data"
    },
    {
     "data": {
      "text/plain": [
       "<py3Dmol.view at 0x7fa84a9aedb0>"
      ]
     },
     "execution_count": 13,
     "metadata": {},
     "output_type": "execute_result"
    }
   ],
   "source": [
    "# Open RDKit molecule in an interactive py3Dmol window\n",
    "py3Dmol.view(\n",
    "    data=rdkit.Chem.MolToMolBlock(amoxicillin),\n",
    "    style={\"stick\": {}, \"sphere\": {\"scale\": 0.3}}\n",
    ")"
   ]
  },
  {
   "cell_type": "markdown",
   "metadata": {},
   "source": [
    "## Working with RDKit Molecules\n",
    "\n",
    "RDKit molecule objects have a number of methods we can use to get more information about the molecule.\n",
    "In the next few cells, we'll look at some methods that can tell us some things about the molecules we've created.\n",
    "\n",
    "<div class=\"alert alert-block alert-success\"> \n",
    "<strong>Jupyter Skills: The Tab Key</strong>\n",
    "\n",
    "When working with Python objects in the Jupyter notebook, you can type a variable or object name to see the methods available on that object.\n",
    "\n",
    "In the cell below, type `ethyl_acetate.` (include a (`.`) at the end), then press the `tab` key. \n",
    "A list of possible methods and attributes will come up.\n",
    "\n",
    "Look through the methods and select the one that gives you the number of atoms in the molecule.\n",
    "\n",
    "</div>\n",
    "\n",
    "**NOTE:** Methods are functions so they require parentheses at the end.\n",
    "\n",
    "```python\n",
    "object.method()\n",
    "```"
   ]
  },
  {
   "cell_type": "code",
   "execution_count": 14,
   "metadata": {},
   "outputs": [
    {
     "data": {
      "text/plain": [
       "6"
      ]
     },
     "execution_count": 14,
     "metadata": {},
     "output_type": "execute_result"
    }
   ],
   "source": [
    "# Pick a method that will determine the number of atom in ibuprofen.\n",
    "\n",
    "ethyl_acetate.GetNumAtoms()"
   ]
  },
  {
   "cell_type": "markdown",
   "metadata": {},
   "source": [
    "<div class=\"alert alert-block alert-success\"> \n",
    "<strong>Python Skills: Getting Help</strong>\n",
    "\n",
    "Is this the number of atoms you expected for ethyl acetate (including hydrogens)? \n",
    "\n",
    "We can use the `help()` function on the method you found in the previous step to find a method argument to figure out a method argument to get the number of atoms we expect.\n",
    "\n",
    "Your code should follow the following syntax:\n",
    "```python\n",
    "help(object.method)\n",
    "```\n",
    "</div>"
   ]
  },
  {
   "cell_type": "code",
   "execution_count": 15,
   "metadata": {},
   "outputs": [
    {
     "name": "stdout",
     "output_type": "stream",
     "text": [
      "Help on method GetNumAtoms:\n",
      "\n",
      "GetNumAtoms(...) method of rdkit.Chem.rdchem.Mol instance\n",
      "    GetNumAtoms( (Mol)self [, (int)onlyHeavy=-1 [, (bool)onlyExplicit=True]]) -> int :\n",
      "        Returns the number of atoms in the molecule.\n",
      "\n",
      "          ARGUMENTS:\n",
      "            - onlyExplicit: (optional) include only explicit atoms (atoms in the molecular graph)\n",
      "                            defaults to 1.\n",
      "          NOTE: the onlyHeavy argument is deprecated\n",
      "\n",
      "\n",
      "        C++ signature :\n",
      "            int GetNumAtoms(RDKit::ROMol [,int=-1 [,bool=True]])\n",
      "\n"
     ]
    }
   ],
   "source": [
    "help(ethyl_acetate.GetNumAtoms)"
   ]
  },
  {
   "cell_type": "markdown",
   "metadata": {},
   "source": [
    "<div class=\"alert alert-block alert-warning\"> \n",
    "<h3>Challenge</h3>\n",
    "\n",
    "Use the **onlyExplicit** argument for the `GetNumAtoms()` function to determine the total number of atoms in acetic_acid (including hydrogens).\n",
    "\n",
    "**Tip:** Some function arguments, like **onlyExplicit**, are either on or off. On: True or 1. Off: False or 0.\n",
    "</div>"
   ]
  },
  {
   "cell_type": "code",
   "execution_count": 20,
   "metadata": {},
   "outputs": [
    {
     "data": {
      "text/plain": [
       "14"
      ]
     },
     "execution_count": 20,
     "metadata": {},
     "output_type": "execute_result"
    }
   ],
   "source": [
    "ethyl_acetate.GetNumAtoms(onlyExplicit=False)"
   ]
  },
  {
   "cell_type": "markdown",
   "metadata": {},
   "source": [
    "## Molecular Descriptors\n",
    "\n",
    "A molecular descriptor is a numerical value that represents some property of a molecule (molecular weight, hydrogen bond donors/acceptors, polar surface area, ect...)\n",
    "\n",
    "RDKit supports the calculation of many molecular descriptors using the [`rdMolDescriptors`](https://www.rdkit.org/docs/source/rdkit.Chem.rdMolDescriptors.html) module. You can see a [full list of RDKit descriptors](https://www.rdkit.org/docs/GettingStartedInPython.html#list-of-available-descriptors).\n",
    "\n",
    "Here is a summary of the documentation for [`rdMolDescriptors.CalcExactMolWt()`](https://www.rdkit.org/docs/source/rdkit.Chem.rdMolDescriptors.html#rdkit.Chem.rdMolDescriptors.CalcExactMolWt) used to calculate molecular weight:\n",
    "\n",
    "#### [`rdMolDescriptors.CalcExactMolWt()`](https://www.rdkit.org/docs/source/rdkit.Chem.rdMolDescriptors.html#rdkit.Chem.rdMolDescriptors.CalcExactMolWt)\n",
    "- **mol** : `Mol`\n",
    "  \n",
    "    The input molecule for which to calculate the exact molecular weight.\n",
    "\n",
    "- **onlyHeavy** : `bool`, *(default: `False`)*\n",
    "\n",
    "    If `True`, only the heavy atoms (non-hydrogen) are considered in the molecular weight calculation.\n",
    "\n",
    "- **Returns** : `float`\n",
    "\n",
    "    The exact molecular weight of the molecule.\n",
    "\n",
    "\n",
    "Let's use the `rdMolDescriptors.CalcExactMolWt()` to calculate the mass of `ibuprofen`."
   ]
  },
  {
   "cell_type": "code",
   "execution_count": 22,
   "metadata": {},
   "outputs": [
    {
     "name": "stdout",
     "output_type": "stream",
     "text": [
      "MolWt all atoms: 206.130679816\n",
      "MolWt heavy atoms: 187.98982924\n"
     ]
    }
   ],
   "source": [
    "# Calculate molecular weight (all atoms)\n",
    "ibuprofen_mw = rdMolDescriptors.CalcExactMolWt(mol=ibuprofen)\n",
    "print('MolWt all atoms:', ibuprofen_mw)\n",
    "\n",
    "# Calculate molecular weight (heavy atoms only)\n",
    "ibuprofen_mw_heavy = rdMolDescriptors.CalcExactMolWt(mol=ibuprofen, onlyHeavy=True)\n",
    "print('MolWt heavy atoms:', ibuprofen_mw_heavy)"
   ]
  },
  {
   "cell_type": "markdown",
   "metadata": {},
   "source": [
    "Here are some examples of other descriptors that RDkit can calculate abridged from the [rdkit.Chem.rdMolDescriptors module documentation](https://www.rdkit.org/docs/source/rdkit.Chem.rdMolDescriptors.html):\n",
    "____\n",
    "\n",
    "### RDKit [`rdMolDescriptors`](https://www.rdkit.org/docs/source/rdkit.Chem.rdMolDescriptors.html) Methods\n",
    "\n",
    "#### `rdMolDescriptors.CalcExactMolWt()`\n",
    "- **mol** : `Mol`\n",
    "  \n",
    "    The input molecule for which to calculate the exact molecular weight.\n",
    "\n",
    "- **onlyHeavy** : `bool`, *(default: `False`)*\n",
    "\n",
    "    If `True`, only the heavy atoms (non-hydrogen) are considered in the molecular weight calculation.\n",
    "\n",
    "- **Returns** : `float`\n",
    "\n",
    "    The exact molecular weight of the molecule.\n",
    "\n",
    "#### `rdMolDescriptors.CalcNumAtoms()`\n",
    "- **mol** : `Mol`\n",
    "  \n",
    "    The input molecule to calculate the total number of atoms.\n",
    "\n",
    "- **Returns** : `int`\n",
    "\n",
    "    The total number of atoms in the molecule.\n",
    "\n",
    "#### `rdMolDescriptors.CalcFractionCSP3()`\n",
    "- **mol** : `Mol`\n",
    "  \n",
    "    The input molecule for which to calculate the fraction of sp3 hybridized carbon atoms.\n",
    "\n",
    "- **Returns** : `float`\n",
    "\n",
    "    The fraction of carbon atoms that are sp3 hybridized in the molecule.\n",
    "\n",
    "#### `rdMolDescriptors.CalcMolFormula()`\n",
    "- **mol** : `Mol`\n",
    "  \n",
    "    The input molecule for which to calculate the molecular formula.\n",
    "\n",
    "- **Returns** : `str`\n",
    "\n",
    "    The molecular formula of the molecule.\n",
    "\n",
    "#### `rdMolDescriptors.CalcNumAliphaticCarbocycles()`\n",
    "- **mol** : `Mol`\n",
    "  \n",
    "    The input molecule to calculate the number of aliphatic carbocycles.\n",
    "\n",
    "- **Returns** : `int`\n",
    "\n",
    "    The number of aliphatic carbocycles in the molecule.\n",
    "\n",
    "#### `rdMolDescriptors.CalcNumAliphaticHeterocycles()`\n",
    "- **mol** : `Mol`\n",
    "  \n",
    "    The input molecule to calculate the number of aliphatic heterocycles.\n",
    "\n",
    "- **Returns** : `int`\n",
    "\n",
    "    The number of aliphatic heterocycles in the molecule.\n",
    "\n",
    "#### `rdMolDescriptors.CalcNumAromaticRings()`\n",
    "- **mol** : `Mol`\n",
    "  \n",
    "    The input molecule for which to calculate the number of aromatic rings.\n",
    "\n",
    "- **Returns** : `int`\n",
    "\n",
    "    The number of aromatic rings in the molecule.\n",
    "\n",
    "#### `rdMolDescriptors.CalcNumAtomStereoCenters()`\n",
    "- **mol** : `Mol`\n",
    "  \n",
    "    The input molecule to calculate the number of atomic stereocenters.\n",
    "\n",
    "- **Returns** : `int`\n",
    "\n",
    "    The total number of atomic stereocenters in the molecule.\n",
    "\n",
    "#### `rdMolDescriptors.CalcNumHBA()`\n",
    "- **mol** : `Mol`\n",
    "  \n",
    "    The input molecule to calculate the number of hydrogen bond acceptors.\n",
    "\n",
    "- **Returns** : `int`\n",
    "\n",
    "    The number of hydrogen bond acceptors in the molecule.\n",
    "\n",
    "#### `rdMolDescriptors.CalcNumHBD()`\n",
    "- **mol** : `Mol`\n",
    "  \n",
    "    The input molecule to calculate the number of hydrogen bond donors.\n",
    "\n",
    "- **Returns** : `int`\n",
    "\n",
    "    The number of hydrogen bond donors in the molecule.\n"
   ]
  },
  {
   "cell_type": "markdown",
   "metadata": {},
   "source": [
    "<div class=\"alert alert-block alert-warning\"> \n",
    "<h3>Challenge</h3>\n",
    "\n",
    "Uses methods from the `rdMolDescritors` module to calculate 3 properties for amoxicillin.\n",
    "\n",
    "Print all three properties.\n",
    "\n",
    "</div>"
   ]
  },
  {
   "cell_type": "code",
   "execution_count": 23,
   "metadata": {},
   "outputs": [
    {
     "name": "stdout",
     "output_type": "stream",
     "text": [
      "Amoxicillin MW: 365.1045417080005, HBD: 4, HBA: 7, Arom_rings: 1\n"
     ]
    }
   ],
   "source": [
    "MW = rdMolDescriptors.CalcExactMolWt(mol=amoxicillin)\n",
    "HBD = rdMolDescriptors.CalcNumHBD(mol=amoxicillin)\n",
    "HBA = rdMolDescriptors.CalcNumHBA(mol=amoxicillin)\n",
    "ALOGP = rdMolDescriptors.CalcNumAromaticRings(mol=amoxicillin)\n",
    "print(f'Amoxicillin MW: {MW}, HBD: {HBD}, HBA: {HBA}, Arom_rings: {ALOGP}')"
   ]
  },
  {
   "cell_type": "markdown",
   "metadata": {},
   "source": [
    "## 3D Molecular Descriptors\n",
    "\n",
    "3D molecular descriptors are numerical values that represent the spatial properties of a molecule. These include characteristics such as:\n",
    "- **Shape:** Molecular volume, surface area, and flexibility.\n",
    "- **Polarity:** Dipole moments and electrostatic properties.\n",
    "- **Accessibility:** Surface areas available for interactions.\n",
    "\n",
    "Before computing 3D descriptors, it is essential to generate a 3D conformation of the molecule.\n",
    "\n",
    "We have already generated energy minimized conformations for `amoxicillin`. Let's using the `Descriptors3D.CalcMolDescriptors3D()` method to calculate serval 3D properties for `amoxicillin`:"
   ]
  },
  {
   "cell_type": "code",
   "execution_count": 24,
   "metadata": {},
   "outputs": [
    {
     "data": {
      "text/plain": [
       "{'PMI1': 1580.6130029938438,\n",
       " 'PMI2': 3391.318093259227,\n",
       " 'PMI3': 4181.273762521054,\n",
       " 'NPR1': 0.37802188824891253,\n",
       " 'NPR2': 0.8110729614638934,\n",
       " 'RadiusOfGyration': 3.5390018118979314,\n",
       " 'InertialShapeFactor': 0.0005131382317668131,\n",
       " 'Eccentricity': 0.9257966580220122,\n",
       " 'Asphericity': 0.25461856515233033,\n",
       " 'SpherocityIndex': 0.3047840056869051,\n",
       " 'PBF': 1.0008668555365028}"
      ]
     },
     "execution_count": 24,
     "metadata": {},
     "output_type": "execute_result"
    }
   ],
   "source": [
    "Descriptors3D.CalcMolDescriptors3D(mol=amoxicillin)"
   ]
  }
 ],
 "metadata": {
  "kernelspec": {
   "display_name": "nmr",
   "language": "python",
   "name": "python3"
  },
  "language_info": {
   "codemirror_mode": {
    "name": "ipython",
    "version": 3
   },
   "file_extension": ".py",
   "mimetype": "text/x-python",
   "name": "python",
   "nbconvert_exporter": "python",
   "pygments_lexer": "ipython3",
   "version": "3.12.5"
  }
 },
 "nbformat": 4,
 "nbformat_minor": 2
}
