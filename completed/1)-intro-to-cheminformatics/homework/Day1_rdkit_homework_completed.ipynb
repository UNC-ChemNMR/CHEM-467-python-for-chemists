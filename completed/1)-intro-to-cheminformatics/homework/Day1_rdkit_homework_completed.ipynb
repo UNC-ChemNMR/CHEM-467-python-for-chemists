{
 "cells": [
  {
   "cell_type": "markdown",
   "metadata": {},
   "source": [
    "# RDkit homework\n",
    "\n",
    "<strong>Author(s):</strong> Seth D. Veenbaas, Jessica A. Nash, The Molecular Sciences Software Institute\n",
    "\n",
    "<div class=\"alert alert-block alert-info\">\n",
    "<h2>Objectives:</h2>\n",
    "\n",
    "- Get the SMILES string of your favorite molecule.\n",
    "- Draw a 2D structure and 3D model of your favorite molecule.\n",
    "- Use `rdkit.chem.rdMolDescriptors` to calculate 4 molecular features. Include the following features:\n",
    "    - molecular weight\n",
    "    - fraction of SP<sub>3</sub> carbons\n",
    "\n",
    "\n",
    "</div>"
   ]
  },
  {
   "cell_type": "code",
   "execution_count": 6,
   "metadata": {},
   "outputs": [],
   "source": [
    "# Import modules from the rdkit library\n",
    "import rdkit\n",
    "from rdkit.Chem import Draw, AllChem, rdMolDescriptors, Descriptors3D\n",
    "import py3Dmol"
   ]
  },
  {
   "cell_type": "markdown",
   "metadata": {},
   "source": [
    "<div class=\"alert alert-block alert-warning\">\n",
    "<h3>Step 1</h3>\n",
    "\n",
    "Determine the SMILES string for your favorite molecule (any complex molecule of your choice).\n",
    "\n",
    "You can look up the SMILES strings on <a href=\"https://pubchem.ncbi.nlm.nih.gov/\">PubChem</a> or <a href=\"https://en.wikipedia.org/wiki/Main_Page\">Wikipedia</a>\n",
    "\n",
    "**Tip**: Use quotation marks around your SMILES string like this:\n",
    "```python\n",
    "acetic_acid_smiles = \"CC(=O)O\"\n",
    "```\n",
    "</div>"
   ]
  },
  {
   "cell_type": "code",
   "execution_count": 7,
   "metadata": {},
   "outputs": [],
   "source": [
    "# Save the SMILES of your favorite molecule to a variable\n",
    "Camptothecin_smiles = r'O=C\\1N4\\C(=C/C2=C/1COC(=O)[C@]2(O)CC)c3nc5c(cc3C4)cccc5'\n"
   ]
  },
  {
   "cell_type": "markdown",
   "metadata": {},
   "source": [
    "<div class=\"alert alert-block alert-warning\">\n",
    "<h3>Step 2</h3>\n",
    "\n",
    "Use RDKit to covert your SMILES string into a molecule called `favorite_molecule` and draw `favorite_molecule`.\n",
    "\n",
    "Helpful methods:\n",
    "- [`rdkit.Chem.MolFromSmiles()`](https://www.rdkit.org/docs/GettingStartedInPython.html#reading-single-molecules)\n",
    "- [`Chem.Draw.MolToImage()`](https://www.rdkit.org/docs/GettingStartedInPython.html#reading-single-molecules)\n",
    "</div>"
   ]
  },
  {
   "cell_type": "code",
   "execution_count": 8,
   "metadata": {},
   "outputs": [
    {
     "data": {
      "image/jpeg": "[encoded data removed]",
      "image/png": "[encoded data removed]",
      "text/plain": [
       "<PIL.PngImagePlugin.PngImageFile image mode=RGB size=300x300>"
      ]
     },
     "execution_count": 8,
     "metadata": {},
     "output_type": "execute_result"
    }
   ],
   "source": [
    "# Create an rdkit molecule and draw its structure\n",
    "favorite_molecule = rdkit.Chem.MolFromSmiles(Camptothecin_smiles)\n",
    "rdkit.Chem.Draw.MolToImage(favorite_molecule)"
   ]
  },
  {
   "cell_type": "markdown",
   "metadata": {},
   "source": [
    "## 3D modeling\n",
    "\n",
    "Run the cell below to interact with a 3D model of your favorite molecule.\n",
    "\n",
    "Controls for the interactive py3Dmol window:\n",
    "\n",
    "|  Action   |         Control         |\n",
    "| :-------: | :---------------------: |\n",
    "|  rotate   |  `left click` + `drag`  |\n",
    "| translate | `center click` + `drag` |\n",
    "|   zoom    | `right click` + `drag`  |"
   ]
  },
  {
   "cell_type": "code",
   "execution_count": 9,
   "metadata": {},
   "outputs": [
    {
     "data": {
      "application/3dmoljs_load.v0": "<div id=\"3dmolviewer_17349043667557342\"  style=\"position: relative; width: 640px; height: 480px;\">\n        <p id=\"3dmolwarning_17349043667557342\" style=\"background-color:#ffcccc;color:black\">3Dmol.js failed to load for some reason.  Please check your browser console for error messages.<br></p>\n        </div>\n<script>\n\nvar loadScriptAsync = function(uri){\n  return new Promise((resolve, reject) => {\n    //this is to ignore the existence of requirejs amd\n    var savedexports, savedmodule;\n    if (typeof exports !== 'undefined') savedexports = exports;\n    else exports = {}\n    if (typeof module !== 'undefined') savedmodule = module;\n    else module = {}\n\n    var tag = document.createElement('script');\n    tag.src = uri;\n    tag.async = true;\n    tag.onload = () => {\n        exports = savedexports;\n        module = savedmodule;\n        resolve();\n    };\n  var firstScriptTag = document.getElementsByTagName('script')[0];\n  firstScriptTag.parentNode.insertBefore(tag, firstScriptTag);\n});\n};\n\nif(typeof $3Dmolpromise === 'undefined') {\n$3Dmolpromise = null;\n  $3Dmolpromise = loadScriptAsync('https://cdnjs.cloudflare.com/ajax/libs/3Dmol/2.4.2/3Dmol-min.js');\n}\n\nvar viewer_17349043667557342 = null;\nvar warn = document.getElementById(\"3dmolwarning_17349043667557342\");\nif(warn) {\n    warn.parentNode.removeChild(warn);\n}\n$3Dmolpromise.then(function() {\nviewer_17349043667557342 = $3Dmol.createViewer(document.getElementById(\"3dmolviewer_17349043667557342\"),{backgroundColor:\"white\"});\nviewer_17349043667557342.addModel(\"\\n     RDKit          3D\\n\\n 42 46  0  0  0  0  0  0  0  0999 V2000\\n   -0.8505   -3.9457   -0.1819 O   0  0  0  0  0  0  0  0  0  0  0  0\\n   -0.8496   -2.7212   -0.1299 C   0  0  0  0  0  0  0  0  0  0  0  0\\n    0.2846   -1.9530   -0.1952 N   0  0  0  0  0  0  0  0  0  0  0  0\\n    0.2906   -0.5743   -0.1167 C   0  0  0  0  0  0  0  0  0  0  0  0\\n   -0.8401    0.1237    0.0297 C   0  0  0  0  0  0  0  0  0  0  0  0\\n   -2.1054   -0.5917    0.1040 C   0  0  0  0  0  0  0  0  0  0  0  0\\n   -2.1158   -1.9410    0.0222 C   0  0  0  0  0  0  0  0  0  0  0  0\\n   -3.3977   -2.7020    0.0827 C   0  0  0  0  0  0  0  0  0  0  0  0\\n   -4.4901   -1.9767   -0.5219 O   0  0  0  0  0  0  0  0  0  0  0  0\\n   -4.4668   -0.6167   -0.5890 C   0  0  0  0  0  0  0  0  0  0  0  0\\n   -5.2244   -0.0285   -1.3563 O   0  0  0  0  0  0  0  0  0  0  0  0\\n   -3.4402    0.0981    0.3452 C   0  0  1  0  0  0  0  0  0  0  0  0\\n   -3.7645   -0.1494    1.7208 O   0  0  0  0  0  0  0  0  0  0  0  0\\n   -3.4627    1.6275    0.1019 C   0  0  0  0  0  0  0  0  0  0  0  0\\n   -4.7414    2.3251    0.5677 C   0  0  0  0  0  0  0  0  0  0  0  0\\n    1.6722   -0.1195   -0.2180 C   0  0  0  0  0  0  0  0  0  0  0  0\\n    2.0894    1.1524   -0.1804 N   0  0  0  0  0  0  0  0  0  0  0  0\\n    3.4204    1.3251   -0.2932 C   0  0  0  0  0  0  0  0  0  0  0  0\\n    4.3364    0.2416   -0.4404 C   0  0  0  0  0  0  0  0  0  0  0  0\\n    3.8382   -1.0717   -0.4708 C   0  0  0  0  0  0  0  0  0  0  0  0\\n    2.4767   -1.2440   -0.3562 C   0  0  0  0  0  0  0  0  0  0  0  0\\n    1.6422   -2.4869   -0.3500 C   0  0  0  0  0  0  0  0  0  0  0  0\\n    5.7131    0.4951   -0.5524 C   0  0  0  0  0  0  0  0  0  0  0  0\\n    6.1945    1.8026   -0.5209 C   0  0  0  0  0  0  0  0  0  0  0  0\\n    5.3054    2.8620   -0.3778 C   0  0  0  0  0  0  0  0  0  0  0  0\\n    3.9340    2.6135   -0.2659 C   0  0  0  0  0  0  0  0  0  0  0  0\\n   -0.7926    1.2054    0.0822 H   0  0  0  0  0  0  0  0  0  0  0  0\\n   -3.6686   -2.9503    1.1142 H   0  0  0  0  0  0  0  0  0  0  0  0\\n   -3.3248   -3.6393   -0.4778 H   0  0  0  0  0  0  0  0  0  0  0  0\\n   -3.1997    0.4298    2.2609 H   0  0  0  0  0  0  0  0  0  0  0  0\\n   -3.2953    1.8485   -0.9594 H   0  0  0  0  0  0  0  0  0  0  0  0\\n   -2.6533    2.1060    0.6659 H   0  0  0  0  0  0  0  0  0  0  0  0\\n   -5.6296    1.9569    0.0493 H   0  0  0  0  0  0  0  0  0  0  0  0\\n   -4.8951    2.1962    1.6436 H   0  0  0  0  0  0  0  0  0  0  0  0\\n   -4.6675    3.4001    0.3719 H   0  0  0  0  0  0  0  0  0  0  0  0\\n    4.4992   -1.9255   -0.5808 H   0  0  0  0  0  0  0  0  0  0  0  0\\n    1.8702   -3.1395    0.4981 H   0  0  0  0  0  0  0  0  0  0  0  0\\n    1.7055   -3.0380   -1.2932 H   0  0  0  0  0  0  0  0  0  0  0  0\\n    6.4200   -0.3240   -0.6653 H   0  0  0  0  0  0  0  0  0  0  0  0\\n    7.2612    1.9938   -0.6084 H   0  0  0  0  0  0  0  0  0  0  0  0\\n    5.6734    3.8847   -0.3530 H   0  0  0  0  0  0  0  0  0  0  0  0\\n    3.2485    3.4505   -0.1550 H   0  0  0  0  0  0  0  0  0  0  0  0\\n  1  2  2  0\\n  2  3  1  0\\n  3  4  1  0\\n  4  5  2  0\\n  5  6  1  0\\n  6  7  2  0\\n  7  8  1  0\\n  8  9  1  0\\n  9 10  1  0\\n 10 11  2  0\\n 10 12  1  0\\n 12 13  1  1\\n 12 14  1  0\\n 14 15  1  0\\n  4 16  1  0\\n 16 17  2  0\\n 17 18  1  0\\n 18 19  2  0\\n 19 20  1  0\\n 20 21  2  0\\n 21 22  1  0\\n 19 23  1  0\\n 23 24  2  0\\n 24 25  1  0\\n 25 26  2  0\\n  7  2  1  0\\n 12  6  1  0\\n 21 16  1  0\\n 22  3  1  0\\n 26 18  1  0\\n  5 27  1  0\\n  8 28  1  0\\n  8 29  1  0\\n 13 30  1  0\\n 14 31  1  0\\n 14 32  1  0\\n 15 33  1  0\\n 15 34  1  0\\n 15 35  1  0\\n 20 36  1  0\\n 22 37  1  0\\n 22 38  1  0\\n 23 39  1  0\\n 24 40  1  0\\n 25 41  1  0\\n 26 42  1  0\\nM  END\\n\");\nviewer_17349043667557342.setStyle({\"stick\": {}, \"sphere\": {\"scale\": 0.3}});\nviewer_17349043667557342.zoomTo();\nviewer_17349043667557342.render();\n});\n</script>",
      "text/html": [
       "<div id=\"3dmolviewer_17349043667557342\"  style=\"position: relative; width: 640px; height: 480px;\">\n",
       "        <p id=\"3dmolwarning_17349043667557342\" style=\"background-color:#ffcccc;color:black\">3Dmol.js failed to load for some reason.  Please check your browser console for error messages.<br></p>\n",
       "        </div>\n",
       "<script>\n",
       "\n",
       "var loadScriptAsync = function(uri){\n",
       "  return new Promise((resolve, reject) => {\n",
       "    //this is to ignore the existence of requirejs amd\n",
       "    var savedexports, savedmodule;\n",
       "    if (typeof exports !== 'undefined') savedexports = exports;\n",
       "    else exports = {}\n",
       "    if (typeof module !== 'undefined') savedmodule = module;\n",
       "    else module = {}\n",
       "\n",
       "    var tag = document.createElement('script');\n",
       "    tag.src = uri;\n",
       "    tag.async = true;\n",
       "    tag.onload = () => {\n",
       "        exports = savedexports;\n",
       "        module = savedmodule;\n",
       "        resolve();\n",
       "    };\n",
       "  var firstScriptTag = document.getElementsByTagName('script')[0];\n",
       "  firstScriptTag.parentNode.insertBefore(tag, firstScriptTag);\n",
       "});\n",
       "};\n",
       "\n",
       "if(typeof $3Dmolpromise === 'undefined') {\n",
       "$3Dmolpromise = null;\n",
       "  $3Dmolpromise = loadScriptAsync('https://cdnjs.cloudflare.com/ajax/libs/3Dmol/2.4.2/3Dmol-min.js');\n",
       "}\n",
       "\n",
       "var viewer_17349043667557342 = null;\n",
       "var warn = document.getElementById(\"3dmolwarning_17349043667557342\");\n",
       "if(warn) {\n",
       "    warn.parentNode.removeChild(warn);\n",
       "}\n",
       "$3Dmolpromise.then(function() {\n",
       "viewer_17349043667557342 = $3Dmol.createViewer(document.getElementById(\"3dmolviewer_17349043667557342\"),{backgroundColor:\"white\"});\n",
       "viewer_17349043667557342.addModel(\"\\n     RDKit          3D\\n\\n 42 46  0  0  0  0  0  0  0  0999 V2000\\n   -0.8505   -3.9457   -0.1819 O   0  0  0  0  0  0  0  0  0  0  0  0\\n   -0.8496   -2.7212   -0.1299 C   0  0  0  0  0  0  0  0  0  0  0  0\\n    0.2846   -1.9530   -0.1952 N   0  0  0  0  0  0  0  0  0  0  0  0\\n    0.2906   -0.5743   -0.1167 C   0  0  0  0  0  0  0  0  0  0  0  0\\n   -0.8401    0.1237    0.0297 C   0  0  0  0  0  0  0  0  0  0  0  0\\n   -2.1054   -0.5917    0.1040 C   0  0  0  0  0  0  0  0  0  0  0  0\\n   -2.1158   -1.9410    0.0222 C   0  0  0  0  0  0  0  0  0  0  0  0\\n   -3.3977   -2.7020    0.0827 C   0  0  0  0  0  0  0  0  0  0  0  0\\n   -4.4901   -1.9767   -0.5219 O   0  0  0  0  0  0  0  0  0  0  0  0\\n   -4.4668   -0.6167   -0.5890 C   0  0  0  0  0  0  0  0  0  0  0  0\\n   -5.2244   -0.0285   -1.3563 O   0  0  0  0  0  0  0  0  0  0  0  0\\n   -3.4402    0.0981    0.3452 C   0  0  1  0  0  0  0  0  0  0  0  0\\n   -3.7645   -0.1494    1.7208 O   0  0  0  0  0  0  0  0  0  0  0  0\\n   -3.4627    1.6275    0.1019 C   0  0  0  0  0  0  0  0  0  0  0  0\\n   -4.7414    2.3251    0.5677 C   0  0  0  0  0  0  0  0  0  0  0  0\\n    1.6722   -0.1195   -0.2180 C   0  0  0  0  0  0  0  0  0  0  0  0\\n    2.0894    1.1524   -0.1804 N   0  0  0  0  0  0  0  0  0  0  0  0\\n    3.4204    1.3251   -0.2932 C   0  0  0  0  0  0  0  0  0  0  0  0\\n    4.3364    0.2416   -0.4404 C   0  0  0  0  0  0  0  0  0  0  0  0\\n    3.8382   -1.0717   -0.4708 C   0  0  0  0  0  0  0  0  0  0  0  0\\n    2.4767   -1.2440   -0.3562 C   0  0  0  0  0  0  0  0  0  0  0  0\\n    1.6422   -2.4869   -0.3500 C   0  0  0  0  0  0  0  0  0  0  0  0\\n    5.7131    0.4951   -0.5524 C   0  0  0  0  0  0  0  0  0  0  0  0\\n    6.1945    1.8026   -0.5209 C   0  0  0  0  0  0  0  0  0  0  0  0\\n    5.3054    2.8620   -0.3778 C   0  0  0  0  0  0  0  0  0  0  0  0\\n    3.9340    2.6135   -0.2659 C   0  0  0  0  0  0  0  0  0  0  0  0\\n   -0.7926    1.2054    0.0822 H   0  0  0  0  0  0  0  0  0  0  0  0\\n   -3.6686   -2.9503    1.1142 H   0  0  0  0  0  0  0  0  0  0  0  0\\n   -3.3248   -3.6393   -0.4778 H   0  0  0  0  0  0  0  0  0  0  0  0\\n   -3.1997    0.4298    2.2609 H   0  0  0  0  0  0  0  0  0  0  0  0\\n   -3.2953    1.8485   -0.9594 H   0  0  0  0  0  0  0  0  0  0  0  0\\n   -2.6533    2.1060    0.6659 H   0  0  0  0  0  0  0  0  0  0  0  0\\n   -5.6296    1.9569    0.0493 H   0  0  0  0  0  0  0  0  0  0  0  0\\n   -4.8951    2.1962    1.6436 H   0  0  0  0  0  0  0  0  0  0  0  0\\n   -4.6675    3.4001    0.3719 H   0  0  0  0  0  0  0  0  0  0  0  0\\n    4.4992   -1.9255   -0.5808 H   0  0  0  0  0  0  0  0  0  0  0  0\\n    1.8702   -3.1395    0.4981 H   0  0  0  0  0  0  0  0  0  0  0  0\\n    1.7055   -3.0380   -1.2932 H   0  0  0  0  0  0  0  0  0  0  0  0\\n    6.4200   -0.3240   -0.6653 H   0  0  0  0  0  0  0  0  0  0  0  0\\n    7.2612    1.9938   -0.6084 H   0  0  0  0  0  0  0  0  0  0  0  0\\n    5.6734    3.8847   -0.3530 H   0  0  0  0  0  0  0  0  0  0  0  0\\n    3.2485    3.4505   -0.1550 H   0  0  0  0  0  0  0  0  0  0  0  0\\n  1  2  2  0\\n  2  3  1  0\\n  3  4  1  0\\n  4  5  2  0\\n  5  6  1  0\\n  6  7  2  0\\n  7  8  1  0\\n  8  9  1  0\\n  9 10  1  0\\n 10 11  2  0\\n 10 12  1  0\\n 12 13  1  1\\n 12 14  1  0\\n 14 15  1  0\\n  4 16  1  0\\n 16 17  2  0\\n 17 18  1  0\\n 18 19  2  0\\n 19 20  1  0\\n 20 21  2  0\\n 21 22  1  0\\n 19 23  1  0\\n 23 24  2  0\\n 24 25  1  0\\n 25 26  2  0\\n  7  2  1  0\\n 12  6  1  0\\n 21 16  1  0\\n 22  3  1  0\\n 26 18  1  0\\n  5 27  1  0\\n  8 28  1  0\\n  8 29  1  0\\n 13 30  1  0\\n 14 31  1  0\\n 14 32  1  0\\n 15 33  1  0\\n 15 34  1  0\\n 15 35  1  0\\n 20 36  1  0\\n 22 37  1  0\\n 22 38  1  0\\n 23 39  1  0\\n 24 40  1  0\\n 25 41  1  0\\n 26 42  1  0\\nM  END\\n\");\n",
       "viewer_17349043667557342.setStyle({\"stick\": {}, \"sphere\": {\"scale\": 0.3}});\n",
       "viewer_17349043667557342.zoomTo();\n",
       "viewer_17349043667557342.render();\n",
       "});\n",
       "</script>"
      ]
     },
     "metadata": {},
     "output_type": "display_data"
    },
    {
     "data": {
      "text/plain": [
       "<py3Dmol.view at 0x7f871443cf80>"
      ]
     },
     "execution_count": 9,
     "metadata": {},
     "output_type": "execute_result"
    }
   ],
   "source": [
    "# Add Hydrogen atoms to molecule\n",
    "favorite_molecule = AllChem.AddHs(favorite_molecule)\n",
    "\n",
    "# Create a 3D molecule\n",
    "AllChem.EmbedMolecule(favorite_molecule)\n",
    "\n",
    "# Minimize energy of molecular conformation\n",
    "AllChem.MMFFOptimizeMolecule(favorite_molecule)\n",
    "\n",
    "# Open RDKit molecule in an interactive py3Dmol window\n",
    "py3Dmol.view(\n",
    "    data=rdkit.Chem.MolToMolBlock(favorite_molecule),\n",
    "    style={\"stick\": {}, \"sphere\": {\"scale\": 0.3}}\n",
    ")"
   ]
  },
  {
   "cell_type": "markdown",
   "metadata": {},
   "source": [
    "<div class=\"alert alert-block alert-warning\">\n",
    "<h3>Step 3</h3>\n",
    "\n",
    "Calculate the molecular weight (using `CalcExactMolWt()`), fraction of SP<sub>3</sub> carbons (using `CalcFractionCSP3()`), and two other properties of your choice for your favorite molecule.\n",
    "\n",
    "</div>\n",
    "\n",
    "Here are some examples of descriptors that RDkit can calculate abridged from the [rdkit.Chem.rdMolDescriptors module documentation](https://www.rdkit.org/docs/source/rdkit.Chem.rdMolDescriptors.html):\n",
    "\n",
    "\n",
    "## RDKit [`rdMolDescriptors`](https://www.rdkit.org/docs/source/rdkit.Chem.rdMolDescriptors.html) Methods\n",
    "\n",
    "---\n",
    "\n",
    "### `rdMolDescriptors.CalcExactMolWt()`\n",
    "**Parameters**:  \n",
    "- **mol** : `Mol`  \n",
    "  The input molecule for which to calculate the exact molecular weight.  \n",
    "- **onlyHeavy** : `bool`, *(default: `False`)*  \n",
    "  If `True`, only the heavy atoms (non-hydrogen) are considered in the molecular weight calculation.  \n",
    "\n",
    "**Returns**:  \n",
    "- `float`  \n",
    "  The exact molecular weight of the molecule.  \n",
    "\n",
    "---\n",
    "\n",
    "### `rdMolDescriptors.CalcFractionCSP3()`\n",
    "**Parameters**:  \n",
    "- **mol** : `Mol`  \n",
    "  The input molecule for which to calculate the fraction of sp3 hybridized carbon atoms.  \n",
    "\n",
    "**Returns**:  \n",
    "- `float`  \n",
    "  The fraction of carbon atoms that are sp3 hybridized in the molecule.  \n",
    "\n",
    "---\n",
    "\n",
    "### `rdMolDescriptors.CalcMolFormula()`\n",
    "**Parameters**:  \n",
    "- **mol** : `Mol`  \n",
    "  The input molecule for which to calculate the molecular formula.  \n",
    "\n",
    "**Returns**:  \n",
    "- `str`  \n",
    "  The molecular formula of the molecule.  \n",
    "\n",
    "---\n",
    "\n",
    "### `rdMolDescriptors.CalcNumAliphaticCarbocycles()`\n",
    "**Parameters**:  \n",
    "- **mol** : `Mol`  \n",
    "  The input molecule to calculate the number of aliphatic carbocycles.  \n",
    "\n",
    "**Returns**:  \n",
    "- `int`  \n",
    "  The number of aliphatic carbocycles in the molecule.  \n",
    "\n",
    "---\n",
    "\n",
    "### `rdMolDescriptors.CalcNumAliphaticHeterocycles()`\n",
    "**Parameters**:  \n",
    "- **mol** : `Mol`  \n",
    "  The input molecule to calculate the number of aliphatic heterocycles.  \n",
    "\n",
    "**Returns**:  \n",
    "- `int`  \n",
    "  The number of aliphatic heterocycles in the molecule.  \n",
    "\n",
    "---\n",
    "\n",
    "### `rdMolDescriptors.CalcNumAromaticRings()`\n",
    "**Parameters**:  \n",
    "- **mol** : `Mol`  \n",
    "  The input molecule for which to calculate the number of aromatic rings.  \n",
    "\n",
    "**Returns**:  \n",
    "- `int`  \n",
    "  The number of aromatic rings in the molecule.  \n",
    "\n",
    "---\n",
    "\n",
    "### `rdMolDescriptors.CalcNumAtomStereoCenters()`\n",
    "**Parameters**:  \n",
    "- **mol** : `Mol`  \n",
    "  The input molecule to calculate the number of atomic stereocenters.  \n",
    "\n",
    "**Returns**:  \n",
    "- `int`  \n",
    "  The total number of atomic stereocenters in the molecule.  \n",
    "\n",
    "---\n",
    "\n",
    "### `rdMolDescriptors.CalcNumHBA()`\n",
    "**Parameters**:  \n",
    "- **mol** : `Mol`  \n",
    "  The input molecule to calculate the number of hydrogen bond acceptors.  \n",
    "\n",
    "**Returns**:  \n",
    "- `int`  \n",
    "  The number of hydrogen bond acceptors in the molecule.  \n",
    "\n",
    "---\n",
    "\n",
    "### `rdMolDescriptors.CalcNumHBD()`\n",
    "**Parameters**:  \n",
    "- **mol** : `Mol`  \n",
    "  The input molecule to calculate the number of hydrogen bond donors.  \n",
    "\n",
    "**Returns**:  \n",
    "- `int`  \n",
    "  The number of hydrogen bond donors in the molecule.  \n",
    "\n"
   ]
  },
  {
   "cell_type": "code",
   "execution_count": 5,
   "metadata": {},
   "outputs": [
    {
     "name": "stdout",
     "output_type": "stream",
     "text": [
      "molwt: 348.111006992 Fraction sp3: 0.25 Num of Stereo centers: 1 Num of aromatic rings: 3\n"
     ]
    }
   ],
   "source": [
    "# Calculate the ExactMolWt, FractionCSP3, and two other properties for your favorite molecule. Print the results.\n",
    "molwt= rdMolDescriptors.CalcExactMolWt(mol=Camptothecin)\n",
    "fractionsp3 = rdMolDescriptors.CalcFractionCSP3(mol=Camptothecin)\n",
    "stereo_centers= rdMolDescriptors.CalcNumAtomStereoCenters(mol=Camptothecin)\n",
    "num_ar_rings= rdMolDescriptors.CalcNumAromaticRings(mol=Camptothecin)\n",
    "\n",
    "print('molwt:', molwt, 'Fraction sp3:', fractionsp3, 'Num of Stereo centers:', stereo_centers, 'Num of aromatic rings:', num_ar_rings)"
   ]
  }
 ],
 "metadata": {
  "kernelspec": {
   "display_name": "nmr",
   "language": "python",
   "name": "python3"
  },
  "language_info": {
   "codemirror_mode": {
    "name": "ipython",
    "version": 3
   },
   "file_extension": ".py",
   "mimetype": "text/x-python",
   "name": "python",
   "nbconvert_exporter": "python",
   "pygments_lexer": "ipython3",
   "version": "3.12.5"
  }
 },
 "nbformat": 4,
 "nbformat_minor": 2
}
