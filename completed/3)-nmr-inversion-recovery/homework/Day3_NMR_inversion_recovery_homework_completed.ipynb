{
 "cells": [
  {
   "cell_type": "markdown",
   "metadata": {},
   "source": [
    "# NMR Inversion Recovery homework\n",
    "\n",
    "<strong>Author(s):</strong> Seth D. Veenbaas, Jessica A. Nash, The Molecular Sciences Software Institute\n",
    "\n",
    "<div class=\"alert alert-block alert-info\"> \n",
    "<h2>Overview</h2>\n",
    "\n",
    "<strong>Objective:</strong>\n",
    "\n",
    "* Use Pandas and Scipy to proceed NMR data.\n",
    "\n",
    "* Calculate the $T_1$ relaxation times.\n",
    "\n",
    "* Determine if solvent conditions affect $T_1$ relaxation times.\n",
    "\n",
    "</div>\n",
    "\n",
    "## Inversion recovery experiment\n",
    "The inversion-recovery experiment measures $T_1$ relaxation times of any nucleus. If the net magnetization is placed along the -z axis, it will gradually return to its equilibrium position along the +z axis at a rate governed by $T_1$. The equation governing this behavior as a function of the time t after its displacement is: \n",
    "\n",
    "$$ M_z(t) = M_{z,\\text{eq}} \\cdot \\left(1 - 2e^{-t/T_1}\\right) $$\n",
    "\n",
    "The basic pulse sequence consists of an 180<sup>°</sup> pulse that inverts the magnetization to the -z axis. During the following delay, relaxation along the longitudinal plane takes place. Magnetization comes back to the original equilibrium z-magnetization. A 90<sup>°</sup> pulse creates transverse magnetization. The experiment is repeated for a series of delay values taken from a variable delay list. A 1D spectrum is obtained for each value of vd and stored in a pseudo 2D dataset. The longer the relaxation delay (d<sub>1</sub>) is, the more precise the T<sub>1</sub> measurement is. An ideal relaxation time (d<sub>1</sub>) can be calculated (aq = acquisition time):\n",
    "\n",
    " $$ d_1 + \\text{aq} = 5 \\cdot T_1 $$\n",
    "\n",
    " <br>\n",
    "\n",
    "![image.png](../images/t1_relaxation_pulse_sequence.png)\n",
    "\n",
    "More information:\n",
    "https://imserc.northwestern.edu/downloads/nmr-t1.pdf\n",
    "\n",
    "\n",
    "\n",
    "## Importing Required Libraries\n",
    "\n",
    "First, let's import the python libraries/packages we need to work with the data."
   ]
  },
  {
   "cell_type": "code",
   "execution_count": null,
   "metadata": {},
   "outputs": [],
   "source": [
    "import pandas as pd\n",
    "import numpy as np\n",
    "from scipy.optimize import curve_fit\n",
    "import mnova"
   ]
  },
  {
   "cell_type": "markdown",
   "metadata": {},
   "source": [
    "Let's load, reformat, and view our data for Ibuprofen inversion recovery."
   ]
  },
  {
   "cell_type": "code",
   "execution_count": 7,
   "metadata": {},
   "outputs": [
    {
     "data": {
      "text/html": [
       "<div>\n",
       "<style scoped>\n",
       "    .dataframe tbody tr th:only-of-type {\n",
       "        vertical-align: middle;\n",
       "    }\n",
       "\n",
       "    .dataframe tbody tr th {\n",
       "        vertical-align: top;\n",
       "    }\n",
       "\n",
       "    .dataframe thead th {\n",
       "        text-align: right;\n",
       "    }\n",
       "</style>\n",
       "<table border=\"1\" class=\"dataframe\">\n",
       "  <thead>\n",
       "    <tr style=\"text-align: right;\">\n",
       "      <th></th>\n",
       "      <th>Time(s)</th>\n",
       "      <th>183.7_ppm</th>\n",
       "      <th>143.4_ppm</th>\n",
       "      <th>139.3_ppm</th>\n",
       "      <th>132.3_ppm</th>\n",
       "      <th>130.3_ppm</th>\n",
       "      <th>47.5_ppm</th>\n",
       "      <th>24.9_ppm</th>\n",
       "    </tr>\n",
       "  </thead>\n",
       "  <tbody>\n",
       "    <tr>\n",
       "      <th>1</th>\n",
       "      <td>0.0625</td>\n",
       "      <td>-4684.674918</td>\n",
       "      <td>-5499.794916</td>\n",
       "      <td>-5036.192817</td>\n",
       "      <td>-6258.796206</td>\n",
       "      <td>-5560.295376</td>\n",
       "      <td>-1331.859019</td>\n",
       "      <td>-2792.253255</td>\n",
       "    </tr>\n",
       "    <tr>\n",
       "      <th>2</th>\n",
       "      <td>0.1250</td>\n",
       "      <td>-3658.108805</td>\n",
       "      <td>-6311.520261</td>\n",
       "      <td>-5046.870771</td>\n",
       "      <td>-5070.043928</td>\n",
       "      <td>-5501.243266</td>\n",
       "      <td>-2232.157177</td>\n",
       "      <td>-718.401400</td>\n",
       "    </tr>\n",
       "    <tr>\n",
       "      <th>3</th>\n",
       "      <td>0.2500</td>\n",
       "      <td>-3931.386081</td>\n",
       "      <td>-4594.110752</td>\n",
       "      <td>-6585.526371</td>\n",
       "      <td>-4965.122729</td>\n",
       "      <td>-4204.977913</td>\n",
       "      <td>-4227.647119</td>\n",
       "      <td>-2714.233721</td>\n",
       "    </tr>\n",
       "    <tr>\n",
       "      <th>4</th>\n",
       "      <td>0.5000</td>\n",
       "      <td>-3852.769938</td>\n",
       "      <td>-3103.076230</td>\n",
       "      <td>-4563.784884</td>\n",
       "      <td>-3098.568237</td>\n",
       "      <td>-3719.213980</td>\n",
       "      <td>-2123.348926</td>\n",
       "      <td>-399.047348</td>\n",
       "    </tr>\n",
       "    <tr>\n",
       "      <th>5</th>\n",
       "      <td>1.0000</td>\n",
       "      <td>-4292.297168</td>\n",
       "      <td>-3898.901847</td>\n",
       "      <td>-6335.422168</td>\n",
       "      <td>-3270.550247</td>\n",
       "      <td>-2361.015131</td>\n",
       "      <td>600.838812</td>\n",
       "      <td>234.863806</td>\n",
       "    </tr>\n",
       "  </tbody>\n",
       "</table>\n",
       "</div>"
      ],
      "text/plain": [
       "   Time(s)    183.7_ppm    143.4_ppm    139.3_ppm    132.3_ppm    130.3_ppm  \\\n",
       "1   0.0625 -4684.674918 -5499.794916 -5036.192817 -6258.796206 -5560.295376   \n",
       "2   0.1250 -3658.108805 -6311.520261 -5046.870771 -5070.043928 -5501.243266   \n",
       "3   0.2500 -3931.386081 -4594.110752 -6585.526371 -4965.122729 -4204.977913   \n",
       "4   0.5000 -3852.769938 -3103.076230 -4563.784884 -3098.568237 -3719.213980   \n",
       "5   1.0000 -4292.297168 -3898.901847 -6335.422168 -3270.550247 -2361.015131   \n",
       "\n",
       "      47.5_ppm     24.9_ppm  \n",
       "1 -1331.859019 -2792.253255  \n",
       "2 -2232.157177  -718.401400  \n",
       "3 -4227.647119 -2714.233721  \n",
       "4 -2123.348926  -399.047348  \n",
       "5   600.838812   234.863806  "
      ]
     },
     "execution_count": 7,
     "metadata": {},
     "output_type": "execute_result"
    }
   ],
   "source": [
    "# Load the data from the CSV file\n",
    "ibuprofen_inversion_data = pd.read_csv('../data/Ibuprofen-C13-invrec-data-mnova.csv', header=1)\n",
    "\n",
    "# Runs reformating function\n",
    "ibuprofen_inversion_data = mnova.rename_columns(ibuprofen_inversion_data)\n",
    "\n",
    "# Display the first 5 row of the dataframe\n",
    "ibuprofen_inversion_data.head()"
   ]
  },
  {
   "cell_type": "markdown",
   "metadata": {},
   "source": [
    "<div class=\"alert alert-block alert-warning\">\n",
    "<h3>Step 1</h3>\n",
    "\n",
    "Load, reformat, and view the inversion recovery data for ibuprofen in **Condition X** and **Condition Y**:\n",
    "\n",
    "- **Condition X**: `'../data/Ibuprofen-Condition-X-mnova.csv'`\n",
    "- **Condition Y**: `'../data/Ibuprofen-Condition-Y-data-mnova.csv'`\n",
    "\n",
    "</div>"
   ]
  },
  {
   "cell_type": "code",
   "execution_count": null,
   "metadata": {},
   "outputs": [],
   "source": [
    "# Load the data from the Condition X CSV file\n",
    "ibuprofen_inversion_data = pd.read_csv('../data/Ibuprofen-Condition-X-mnova.csv', header=1)\n",
    "\n",
    "# Runs reformating function\n",
    "ibuprofen_inversion_data = mnova.rename_columns(ibuprofen_inversion_data)\n",
    "\n",
    "# Display the first 5 row of the dataframe\n",
    "ibuprofen_inversion_data.head()"
   ]
  },
  {
   "cell_type": "code",
   "execution_count": null,
   "metadata": {},
   "outputs": [],
   "source": [
    "# Load the data from the Condition Y CSV file\n",
    "ibuprofen_inversion_data = pd.read_csv('../data/Ibuprofen-Condition-Y-data-mnova.csv', header=1)\n",
    "\n",
    "# Runs reformating function\n",
    "ibuprofen_inversion_data = mnova.rename_columns(ibuprofen_inversion_data)\n",
    "\n",
    "# Display the first 5 row of the dataframe\n",
    "ibuprofen_inversion_data.head()"
   ]
  },
  {
   "cell_type": "markdown",
   "metadata": {},
   "source": [
    "Let's define the functions you'll need to calculate $T_1$!"
   ]
  },
  {
   "cell_type": "code",
   "execution_count": null,
   "metadata": {},
   "outputs": [],
   "source": [
    "# Define the inversion recovery model with the parameters (M, T1, and C)\n",
    "def inversion_recovery_model(time, M, T1, C):\n",
    "    return M * (1 - 2 * np.exp(-time / T1)) + C\n",
    "\n",
    "# Define function to fit data to a inversion recovery model\n",
    "def fit_relaxation_data(time_data, peak_data):\n",
    "    # Initial guess for M, T1, and C\n",
    "    initial_guess = [max(peak_data), 1.0, min(peak_data)]\n",
    "    \n",
    "    # Fit the curve\n",
    "    param_optimal, _ = curve_fit(inversion_recovery_model, time_data, peak_data, p0=initial_guess)\n",
    "    \n",
    "    return param_optimal"
   ]
  },
  {
   "cell_type": "markdown",
   "metadata": {},
   "source": [
    "<div class=\"alert alert-block alert-warning\">\n",
    "<h3>Step 2</h3>\n",
    "\n",
    "We need to use following `for` loop for each of our data sets. Modify the code in the following cell to be a reusable function. Incorporate the follow:\n",
    "\n",
    "#### 1. Function Name: `calc_t1`\n",
    "\n",
    "#### 2. Parameters:\n",
    "\n",
    "- `df` (DataFrame): Inversion recovery data.\n",
    "\n",
    "#### 3. Function body (indented code):\n",
    "\n",
    "```python\n",
    "# Create an empty DataFrame for t1_data with columns 'Peak' and 'T1(s)'\n",
    "t1_data = pd.DataFrame(columns=['Peak', 'T1(s)'])\n",
    "\n",
    "# Calculate T1 for each peak and plot the fit\n",
    "for column in df.columns[1:]:\n",
    "    \n",
    "    # Fit relaxation data to calculate T1\n",
    "    time_data = df['Time(s)']\n",
    "    peak_data = df[column]\n",
    "    param_optimal = fit_relaxation_data(time_data, peak_data)\n",
    "    T1 = param_optimal[1]\n",
    "    \n",
    "    # Add T1 time to the t1_data DataFrame\n",
    "    new_row = pd.DataFrame({'Peak': [column], 'T1(s)': [T1]})\n",
    "    t1_data = pd.concat([t1_data, new_row], ignore_index=True)\n",
    "```\n",
    "\n",
    "#### 4. Return:\n",
    "\n",
    "- `t1_data` (DataFrame): T1 relaxation times for every NMR peak.\n",
    "\n",
    "</div>\n",
    "\n",
    "### Here is what it looks like to define a function:\n",
    "```python\n",
    "def function_name(parameters):\n",
    "    # Optional: explain what your function does in a Docstring\n",
    "    \"\"\"\n",
    "    Docstring\n",
    "    \"\"\"\n",
    "    # Function body (indented code)\n",
    "    return output  # Optional: Return a result\n",
    "```"
   ]
  },
  {
   "cell_type": "code",
   "execution_count": null,
   "metadata": {},
   "outputs": [],
   "source": [
    "# Calculate T1 times from data in a Dataframe    \n",
    "def calc_t1(df):    \n",
    "    # Create an empty DataFrame for t1_data with columns 'Peak' and 'T1(s)'\n",
    "    t1_data = pd.DataFrame(columns=['Peak', 'T1(s)'])\n",
    "    \n",
    "    # Calculate T1 for each peak and plot the fit\n",
    "    for column in df.columns[1:]:\n",
    "        \n",
    "        # Fit relaxation data to calculate T1\n",
    "        time_data = df['Time(s)']\n",
    "        peak_data = df[column]\n",
    "        param_optimal = fit_relaxation_data(time_data, peak_data)\n",
    "        T1 = param_optimal[1]\n",
    "        \n",
    "        # Add T1 time to the t1_data DataFrame\n",
    "        new_row = pd.DataFrame({'Peak': [column], 'T1(s)': [T1]})\n",
    "        t1_data = pd.concat([t1_data, new_row], ignore_index=True)\n",
    "    \n",
    "    return t1_data\n",
    "    "
   ]
  },
  {
   "cell_type": "markdown",
   "metadata": {},
   "source": [
    "<div class=\"alert alert-block alert-warning\">\n",
    "<h3>Step 3</h3>\n",
    "\n",
    "Use your `calc_t1` function to calculate $T_1$ times for ibuprofen in each of the solvent conditions and save the results to their own variables.\n",
    "\n",
    "Display the results.\n",
    "\n",
    "</div>"
   ]
  },
  {
   "cell_type": "code",
   "execution_count": null,
   "metadata": {},
   "outputs": [],
   "source": [
    "ibuprofen_conidtion1_t1_data = calc_t1(ibuprofen_conidtion1)\n",
    "ibuprofen_conidtion2_t1_data = calc_t1(ibuprofen_conidtion2)\n",
    "ibuprofen_conidtion3_t1_data = calc_t1(ibuprofen_conidtion3)"
   ]
  },
  {
   "cell_type": "code",
   "execution_count": null,
   "metadata": {},
   "outputs": [],
   "source": [
    "ibuprofen_conidtion1_t1_data"
   ]
  },
  {
   "cell_type": "code",
   "execution_count": null,
   "metadata": {},
   "outputs": [],
   "source": [
    "ibuprofen_conidtion2_t1_data"
   ]
  },
  {
   "cell_type": "code",
   "execution_count": null,
   "metadata": {},
   "outputs": [],
   "source": [
    "ibuprofen_conidtion3_t1_data"
   ]
  },
  {
   "cell_type": "markdown",
   "metadata": {},
   "source": [
    "<div class=\"alert alert-block alert-warning\">\n",
    "<h3>Step 4</h3>\n",
    "\n",
    "Which condition increased $T_1$ relaxation times the most?\n",
    "\n",
    "What was the highest $T_1$ time for peak 143.4_ppm?\n",
    "\n",
    "</div>"
   ]
  },
  {
   "cell_type": "code",
   "execution_count": null,
   "metadata": {},
   "outputs": [],
   "source": [
    "condition=\n",
    "highest_T1_peak_143_ppm="
   ]
  }
 ],
 "metadata": {
  "kernelspec": {
   "display_name": "nmr",
   "language": "python",
   "name": "python3"
  },
  "language_info": {
   "codemirror_mode": {
    "name": "ipython",
    "version": 3
   },
   "file_extension": ".py",
   "mimetype": "text/x-python",
   "name": "python",
   "nbconvert_exporter": "python",
   "pygments_lexer": "ipython3",
   "version": "3.12.5"
  }
 },
 "nbformat": 4,
 "nbformat_minor": 2
}
