{
 "cells": [
  {
   "cell_type": "markdown",
   "metadata": {},
   "source": [
    "# Intro to cheminformatics with RDkit\n",
    "\n",
    "<strong>Author(s):</strong> Seth D. Veenbaas, Jessica A. Nash, The Molecular Sciences Software Institute\n",
    "\n",
    "<div class=\"alert alert-block alert-info\">\n",
    "<h2>Objectives:</h2>\n",
    "\n",
    "* Introduce SMILES strings.\n",
    "\n",
    "* Learn how to import packages/libraries.\n",
    "\n",
    "* Use RDKit library to draw and characterize molecules.\n",
    "\n",
    "* Learn how to get help with tab complete and the `help()` function.\n",
    "\n",
    "</div>\n",
    "\n",
    "There are Python libraries that are made for working just with chemical data. One commonly used library for cheminformatics is called [RDKit](https://en.wikipedia.org/wiki/RDKit).\n",
    "\n",
    "RDKit provides a molecule object that allows you to manipulate chemical structures. It has capabilities for reading and writing molecular file formats, calculating molecular properties, and performing substructure searches. In addition, it offers a wide range of cheminformatics algorithms such as molecular fingerprint generation, similarity metrics calculation, and molecular descriptor computation. This notebook will only introduce a few RDKit basics and a common molecular format called SMILES. "
   ]
  },
  {
   "cell_type": "markdown",
   "metadata": {},
   "source": [
    "## Simplified Molecular-Input Line-entry System: SMILES \n",
    "\n",
    "SMILES stands for \"Simplified Molecular-Input Line-Entry System\" and is a way to represent molecules as a string of characters. SMILES is basically the cheminformatics version of the condensed formula we learned in gen chem.\n",
    "\n",
    "You can read more about the SMILES syntax at [this tutorial](https://chemicbook.com/2021/02/13/smiles-strings-explained-for-beginners-part-1.html)\n",
    "\n",
    "### SMILES examples\n",
    "\n",
    "| Name              | SMILES      | Rule concepts                                 | Structure                                          |\n",
    "| ----------------- | ----------- | --------------------------------------------- | -------------------------------------------------- |\n",
    "| Ethanol           | CCO         | Atoms: `C` carbon, `O` oxygen<br>             | ![ethanol](images/ethanol.png)                     |\n",
    "| Propargyl bromide | C#CCBr      | Atoms: `Br` bromine<br>Bonds: `#` triple      | ![Propargyl_bromide](images/propargyl_bromide.png) |\n",
    "| 2-Propanone       | CC(=O)C     | Bonds: `=` double<br>Branches: `()`           | ![isopropanone](images/isopropanone.png)           |\n",
    "| Phenol            | c1(O)ccccc1 | Aromatics: `c` lower case<br>Rings: `1.....1` | ![phenol](images/phenol.png)                       |\n",
    "\n",
    "\n",
    "### Look up SMILES:\n",
    "\n",
    "Most of the time, you will not need to write a SMILES string by hand.\n",
    "You will be able to look up a molecule's SMILES string from a web database like:\n",
    "* [PubChem](https://pubchem.ncbi.nlm.nih.gov/compound/Eugenol#section=SMILES) - names and identifiers section\n",
    "\n",
    "    ![pubchem_eugenol](images/pubchem_eugenol.png)\n",
    "    \n",
    "* [Wikipedia](https://en.wikipedia.org/wiki/eugenol) - chemical identifiers panel\n",
    "\n",
    "    ![wiki_eugenol](images/wikipedia_eugenol.png)\n",
    "\n",
    "### SMILES and Chemdraw\n",
    "\n",
    "#### Copy SMILES\n",
    "\n",
    "You can copy a Chemdraw molecule as a SMILES string by:\n",
    "1. Selecting the molecule\n",
    "2. Open the Edit tab\n",
    "3. Copy As > SMILES\n",
    "\n",
    "#### Paste SMILES\n",
    "\n",
    "You can [paste a SMILES structure into ChemDraw](https://people.stfx.ca/blynch/CS%20ChemOffice%202004/CS%20ChemDraw/CS%20ChemDraw%20Help/CD8ch11a5.html) to visualize a structure by:\n",
    "\n",
    "1. Right-clicking\n",
    "2. Special Paste > SMILES\n",
    "\n",
    "![chemdraw_eugenol](images/chemdraw_eugenol.png)"
   ]
  },
  {
   "cell_type": "markdown",
   "metadata": {},
   "source": [
    "<div class=\"alert alert-block alert-warning\">\n",
    "<h3>Exercise</h3>\n",
    "\n",
    "<p> Use online resources to look up the SMILES string for the following structures:\n",
    "<p>\n",
    "    <ul>\n",
    "        <li> What is the SMILES for ethyl acetate?</li>\n",
    "        <li> What is the SMILES for vanillin?</li>\n",
    "        <li> What is the SMILES for amoxicillin?</li>\n",
    "    </ul>\n",
    "</p>\n",
    "\n",
    "You can look up the SMILES strings on <a href=\"https://pubchem.ncbi.nlm.nih.gov/\">PubChem</a> or <a href=\"https://en.wikipedia.org/wiki/Main_Page\">Wikipedia</a>\n",
    "</div>"
   ]
  },
  {
   "cell_type": "code",
   "execution_count": 2,
   "metadata": {},
   "outputs": [],
   "source": [
    "# Fill in your answers here as strings (remember to use quotation marks):\n",
    "ethyl_acetate_smiles = \n",
    "vanillin_smiles = \n",
    "amoxicillin_smiles = "
   ]
  },
  {
   "cell_type": "markdown",
   "metadata": {},
   "source": [
    "## Importing Packages\n",
    "In Python, we use **packages** (or libraries) to add extra functionality to our programs without having to reinvent the wheel ourselves. For example, RDKit is a library of tools specifically designed for cheminformatics.\n",
    "\n",
    "To import a package, we use the `import` statement. Below, we'll import `rdkit` and `py3Dmol`. We will also directly import some `rdkit` modules (`AllChem`, `rdMolDescriptors`, `Descriptors3D`) that we will be using later in the notebook.\n"
   ]
  },
  {
   "cell_type": "code",
   "execution_count": 3,
   "metadata": {},
   "outputs": [],
   "source": [
    "import rdkit\n",
    "import py3Dmol\n",
    "from rdkit.Chem import AllChem, rdMolDescriptors, Descriptors3D"
   ]
  },
  {
   "cell_type": "markdown",
   "metadata": {},
   "source": [
    "## Creating Molecules with RDKit\n",
    "\n",
    "Throughout this tutorial, it will be helpful to have access to the [RDKit documentation](https://www.rdkit.org/docs/index.html). \n",
    "\n",
    "To get information about molecules in RDKit, we have to first create objects representing molecules. We will use SMILES strings to load our structures into RDkit, although RDKit accepts many other file formats.\n",
    "\n",
    "### Creating molecules using SMILES\n",
    "\n",
    "We can create a representation of ibuprofen using RDKit by using the `MolFromSmiles` function in `rdkit.Chem`."
   ]
  },
  {
   "cell_type": "code",
   "execution_count": 4,
   "metadata": {},
   "outputs": [],
   "source": [
    "ibuprofen_smiles = 'CC(Cc1ccc(cc1)C(C(=O)O)C)C'\n",
    "ibuprofen = rdkit.Chem.MolFromSmiles(ibuprofen_smiles)"
   ]
  },
  {
   "cell_type": "markdown",
   "metadata": {},
   "source": [
    "Let's explore the output of the `Chem.MolFromSmiles()` function using the `print()` and `type()` functions."
   ]
  },
  {
   "cell_type": "code",
   "execution_count": null,
   "metadata": {},
   "outputs": [],
   "source": [
    "print(ibuprofen)\n",
    "type(ibuprofen)"
   ]
  },
  {
   "cell_type": "markdown",
   "metadata": {},
   "source": [
    "The `print()` function doesn't known how to represent this object. Instead it informed us that the variable `ibuprofen` is an RDkit `mol` object..\n",
    "\n",
    "<div class=\"alert alert-block alert-success\"> \n",
    "<strong>Python Skills: Python Objects</strong>\n",
    "\n",
    "Most of this functionality is achieved through the RDKit `mol` object. In Python, we use the word \"object\" to refer to a variable type with associated data and methods. \n",
    "One example of an object we have seen in notebooks is a list - we could also call it a \"list object\". An object has `attributes` (data) and `methods`. \n",
    "You access information about objects with the syntax\n",
    "```python\n",
    "object.data\n",
    "```\n",
    "where data is the attribute name.\n",
    "\n",
    "You acceess object methods with the syntax\n",
    "```python\n",
    "object.method(arguments)\n",
    "```\n",
    "\n",
    "For example, for a list \"`append` is a method that was covered in the introductory lesson.\n",
    "\n",
    "```\n",
    "my_list = []\n",
    "my_list.append(1) # \"append\" is a method\n",
    "```\n",
    "</div>   \n",
    "\n",
    "## Draw molecules\n",
    "\n",
    "To interact with our `ibuprofen` molecule object we need to use Rdkit methods associates with an `RDkit.mol` object.\n",
    "\n",
    "We can draw the molecule using the `Chem.Draw.MolToImage()` method."
   ]
  },
  {
   "cell_type": "code",
   "execution_count": null,
   "metadata": {},
   "outputs": [],
   "source": [
    "rdkit.Chem.Draw.MolToImage(ibuprofen, legend='ibuprofen')"
   ]
  },
  {
   "cell_type": "markdown",
   "metadata": {},
   "source": [
    "Luckily, Jupyter is smart! Jupyter will automatically draw an RDkit `mol` object if it is in the last line of a code cell like this:"
   ]
  },
  {
   "cell_type": "code",
   "execution_count": null,
   "metadata": {},
   "outputs": [],
   "source": [
    "lysine = rdkit.Chem.MolFromSmiles(\"C(CCN)C[C@@H](C(=O)O)N\")\n",
    "lysine"
   ]
  },
  {
   "cell_type": "markdown",
   "metadata": {},
   "source": [
    "<div class=\"alert alert-block alert-warning\"> \n",
    "<h3>Challenge</h3>\n",
    "\n",
    "- Use your smiles strings (named: `ethyl_acetate_smiles`, `vanillin_smiles` `amoxicillin_smiles`) to create RDkit molecule objects (named: `ethyl_acetate`, `vanillin`, `amoxicillin`). <br>\n",
    "- Then, draw each structure in its own code cell. (**Bonus**: try to add a legend using the `legend` argument or change the size of the image using the `size` argument.)\n",
    "\n",
    "</div>"
   ]
  },
  {
   "cell_type": "code",
   "execution_count": 8,
   "metadata": {},
   "outputs": [],
   "source": [
    "ethyl_acetate = \n",
    "vanillin = \n",
    "amoxicillin = "
   ]
  },
  {
   "cell_type": "code",
   "execution_count": null,
   "metadata": {},
   "outputs": [],
   "source": [
    "# Draw ethyl_acetate\n"
   ]
  },
  {
   "cell_type": "code",
   "execution_count": null,
   "metadata": {},
   "outputs": [],
   "source": [
    "# Draw vanillin\n"
   ]
  },
  {
   "cell_type": "code",
   "execution_count": null,
   "metadata": {},
   "outputs": [],
   "source": [
    "# Draw amoxicillin\n"
   ]
  },
  {
   "cell_type": "markdown",
   "metadata": {},
   "source": [
    "## Working with 3D Molecules\n",
    "\n",
    "Visualizing molecules in 3D requires:\n",
    "* Adding hygrogens for proper geometry\n",
    "* Creating a geomertrically accuate conformation\n",
    "* Using energy force fields to minimize the energy of the molecular conformation"
   ]
  },
  {
   "cell_type": "code",
   "execution_count": null,
   "metadata": {},
   "outputs": [],
   "source": [
    "# Add Hydrogen atoms to molecule\n",
    "amoxicillin = AllChem.AddHs(amoxicillin)\n",
    "\n",
    "# Create a 3D molecule\n",
    "AllChem.EmbedMolecule(amoxicillin)\n",
    "\n",
    "# Minimize energy of molecular conformation\n",
    "AllChem.MMFFOptimizeMolecule(amoxicillin)\n",
    "\n",
    "amoxicillin"
   ]
  },
  {
   "cell_type": "markdown",
   "metadata": {},
   "source": [
    "## Interactive molecules\n",
    "\n",
    "A package called py3Dmol can even let us interact with our 3D molecule.\n",
    "\n",
    "Controls for the interactive py3Dmol window:\n",
    "\n",
    "|  Action   |         Control         |\n",
    "| :-------: | :---------------------: |\n",
    "|  rotate   |  `left click` + `drag`  |\n",
    "| translate | `center click` + `drag` |\n",
    "|   zoom    | `right click` + `drag`  |"
   ]
  },
  {
   "cell_type": "code",
   "execution_count": null,
   "metadata": {},
   "outputs": [],
   "source": [
    "# Open RDKit molecule in an interactive py3Dmol window\n",
    "py3Dmol.view(\n",
    "    data=rdkit.Chem.MolToMolBlock(amoxicillin),\n",
    "    style={\"stick\": {}, \"sphere\": {\"scale\": 0.3}}\n",
    ")"
   ]
  },
  {
   "cell_type": "markdown",
   "metadata": {},
   "source": [
    "## Working with RDKit Molecules\n",
    "\n",
    "RDKit molecule objects have a number of methods we can use to get more information about the molecule.\n",
    "In the next few cells, we'll look at some methods that can tell us some things about the molecules we've created.\n",
    "\n",
    "<div class=\"alert alert-block alert-success\"> \n",
    "<strong>Jupyter Skills: The Tab Key</strong>\n",
    "\n",
    "When working with Python objects in the Jupyter notebook, you can type a variable or object name to see the methods available on that object.\n",
    "\n",
    "In the cell below, type `ethyl_acetate.` (include a (`.`) at the end), then press the `tab` key. \n",
    "A list of possible methods and attributes will come up.\n",
    "\n",
    "Look through the methods and select the one that gives you the number of atoms in the molecule.\n",
    "\n",
    "</div>\n",
    "\n",
    "**NOTE:** Methods are functions so they require parentheses at the end.\n",
    "\n",
    "```python\n",
    "object.method()\n",
    "```"
   ]
  },
  {
   "cell_type": "code",
   "execution_count": null,
   "metadata": {},
   "outputs": [],
   "source": [
    "# Pick a method that will determine the number of atom in ibuprofen.\n"
   ]
  },
  {
   "cell_type": "markdown",
   "metadata": {},
   "source": [
    "<div class=\"alert alert-block alert-success\"> \n",
    "<strong>Python Skills: Getting Help</strong>\n",
    "\n",
    "Is this the number of atoms you expected for ethyl acetate (including hydrogens)? \n",
    "\n",
    "We can use the `help()` function on the method you found in the previous step to find a method argument to figure out a method argument to get the number of atoms we expect.\n",
    "\n",
    "Your code should follow the following syntax:\n",
    "```python\n",
    "help(object.method)\n",
    "```\n",
    "</div>"
   ]
  },
  {
   "cell_type": "code",
   "execution_count": null,
   "metadata": {},
   "outputs": [],
   "source": []
  },
  {
   "cell_type": "markdown",
   "metadata": {},
   "source": [
    "<div class=\"alert alert-block alert-warning\"> \n",
    "<h3>Challenge</h3>\n",
    "\n",
    "Use the **onlyExplicit** argument for the `GetNumAtoms()` function to determine the total number of atoms in acetic_acid (including hydrogens).\n",
    "\n",
    "**Tip:** Some function arguments, like **onlyExplicit**, are either on or off. On: True or 1. Off: False or 0.\n",
    "</div>"
   ]
  },
  {
   "cell_type": "code",
   "execution_count": null,
   "metadata": {},
   "outputs": [],
   "source": []
  },
  {
   "cell_type": "markdown",
   "metadata": {},
   "source": [
    "## Molecular Descriptors\n",
    "\n",
    "A molecular descriptor is a numerical value that represents some property of a molecule (molecular weight, hydrogen bond donors/acceptors, polar surface area, ect...)\n",
    "\n",
    "RDKit supports the calculation of many molecular descriptors using the [`rdMolDescriptors`](https://www.rdkit.org/docs/source/rdkit.Chem.rdMolDescriptors.html) module. You can see a [full list of RDKit descriptors](https://www.rdkit.org/docs/GettingStartedInPython.html#list-of-available-descriptors).\n",
    "\n",
    "Here is a summary of the documentation for [`rdMolDescriptors.CalcExactMolWt()`](https://www.rdkit.org/docs/source/rdkit.Chem.rdMolDescriptors.html#rdkit.Chem.rdMolDescriptors.CalcExactMolWt) used to calculate molecular weight:\n",
    "\n",
    "#### [`rdMolDescriptors.CalcExactMolWt()`](https://www.rdkit.org/docs/source/rdkit.Chem.rdMolDescriptors.html#rdkit.Chem.rdMolDescriptors.CalcExactMolWt)\n",
    "- **mol** : `Mol`\n",
    "  \n",
    "    The input molecule for which to calculate the exact molecular weight.\n",
    "\n",
    "- **onlyHeavy** : `bool`, *(default: `False`)*\n",
    "\n",
    "    If `True`, only the heavy atoms (non-hydrogen) are considered in the molecular weight calculation.\n",
    "\n",
    "- **Returns** : `float`\n",
    "\n",
    "    The exact molecular weight of the molecule.\n",
    "\n",
    "\n",
    "Let's use the `rdMolDescriptors.CalcExactMolWt()` to calculate the mass of `ibuprofen`."
   ]
  },
  {
   "cell_type": "code",
   "execution_count": null,
   "metadata": {},
   "outputs": [],
   "source": [
    "# Calculate molecular weight (all atoms)\n",
    "ibuprofen_mw = rdMolDescriptors.CalcExactMolWt(mol=ibuprofen)\n",
    "print('MolWt all atoms:', ibuprofen_mw)\n",
    "\n",
    "# Calculate molecular weight (heavy atoms only)\n",
    "ibuprofen_mw_heavy = rdMolDescriptors.CalcExactMolWt(mol=ibuprofen, onlyHeavy=True)\n",
    "print('MolWt heavy atoms:', ibuprofen_mw_heavy)"
   ]
  },
  {
   "cell_type": "markdown",
   "metadata": {},
   "source": [
    "Here are some examples of other descriptors that RDkit can calculate abridged from the [rdkit.Chem.rdMolDescriptors module documentation](https://www.rdkit.org/docs/source/rdkit.Chem.rdMolDescriptors.html):\n",
    "____\n",
    "\n",
    "### RDKit [`rdMolDescriptors`](https://www.rdkit.org/docs/source/rdkit.Chem.rdMolDescriptors.html) Methods\n",
    "\n",
    "#### `rdMolDescriptors.CalcExactMolWt()`\n",
    "- **mol** : `Mol`\n",
    "  \n",
    "    The input molecule for which to calculate the exact molecular weight.\n",
    "\n",
    "- **onlyHeavy** : `bool`, *(default: `False`)*\n",
    "\n",
    "    If `True`, only the heavy atoms (non-hydrogen) are considered in the molecular weight calculation.\n",
    "\n",
    "- **Returns** : `float`\n",
    "\n",
    "    The exact molecular weight of the molecule.\n",
    "\n",
    "#### `rdMolDescriptors.CalcNumAtoms()`\n",
    "- **mol** : `Mol`\n",
    "  \n",
    "    The input molecule to calculate the total number of atoms.\n",
    "\n",
    "- **Returns** : `int`\n",
    "\n",
    "    The total number of atoms in the molecule.\n",
    "\n",
    "#### `rdMolDescriptors.CalcFractionCSP3()`\n",
    "- **mol** : `Mol`\n",
    "  \n",
    "    The input molecule for which to calculate the fraction of sp3 hybridized carbon atoms.\n",
    "\n",
    "- **Returns** : `float`\n",
    "\n",
    "    The fraction of carbon atoms that are sp3 hybridized in the molecule.\n",
    "\n",
    "#### `rdMolDescriptors.CalcMolFormula()`\n",
    "- **mol** : `Mol`\n",
    "  \n",
    "    The input molecule for which to calculate the molecular formula.\n",
    "\n",
    "- **Returns** : `str`\n",
    "\n",
    "    The molecular formula of the molecule.\n",
    "\n",
    "#### `rdMolDescriptors.CalcNumAliphaticCarbocycles()`\n",
    "- **mol** : `Mol`\n",
    "  \n",
    "    The input molecule to calculate the number of aliphatic carbocycles.\n",
    "\n",
    "- **Returns** : `int`\n",
    "\n",
    "    The number of aliphatic carbocycles in the molecule.\n",
    "\n",
    "#### `rdMolDescriptors.CalcNumAliphaticHeterocycles()`\n",
    "- **mol** : `Mol`\n",
    "  \n",
    "    The input molecule to calculate the number of aliphatic heterocycles.\n",
    "\n",
    "- **Returns** : `int`\n",
    "\n",
    "    The number of aliphatic heterocycles in the molecule.\n",
    "\n",
    "#### `rdMolDescriptors.CalcNumAromaticRings()`\n",
    "- **mol** : `Mol`\n",
    "  \n",
    "    The input molecule for which to calculate the number of aromatic rings.\n",
    "\n",
    "- **Returns** : `int`\n",
    "\n",
    "    The number of aromatic rings in the molecule.\n",
    "\n",
    "#### `rdMolDescriptors.CalcNumAtomStereoCenters()`\n",
    "- **mol** : `Mol`\n",
    "  \n",
    "    The input molecule to calculate the number of atomic stereocenters.\n",
    "\n",
    "- **Returns** : `int`\n",
    "\n",
    "    The total number of atomic stereocenters in the molecule.\n",
    "\n",
    "#### `rdMolDescriptors.CalcNumHBA()`\n",
    "- **mol** : `Mol`\n",
    "  \n",
    "    The input molecule to calculate the number of hydrogen bond acceptors.\n",
    "\n",
    "- **Returns** : `int`\n",
    "\n",
    "    The number of hydrogen bond acceptors in the molecule.\n",
    "\n",
    "#### `rdMolDescriptors.CalcNumHBD()`\n",
    "- **mol** : `Mol`\n",
    "  \n",
    "    The input molecule to calculate the number of hydrogen bond donors.\n",
    "\n",
    "- **Returns** : `int`\n",
    "\n",
    "    The number of hydrogen bond donors in the molecule.\n"
   ]
  },
  {
   "cell_type": "markdown",
   "metadata": {},
   "source": [
    "<div class=\"alert alert-block alert-warning\"> \n",
    "<h3>Challenge</h3>\n",
    "\n",
    "Uses methods from the `rdMolDescritors` module to calculate 3 properties for amoxicillin.\n",
    "\n",
    "Print all three properties.\n",
    "\n",
    "</div>"
   ]
  },
  {
   "cell_type": "code",
   "execution_count": null,
   "metadata": {},
   "outputs": [],
   "source": []
  },
  {
   "cell_type": "markdown",
   "metadata": {},
   "source": [
    "## 3D Molecular Descriptors\n",
    "\n",
    "3D molecular descriptors are numerical values that represent the spatial properties of a molecule. These include characteristics such as:\n",
    "- **Shape:** Molecular volume, surface area, and flexibility.\n",
    "- **Polarity:** Dipole moments and electrostatic properties.\n",
    "- **Accessibility:** Surface areas available for interactions.\n",
    "\n",
    "Before computing 3D descriptors, it is essential to generate a 3D conformation of the molecule (we previously [generate energy minimized conformations for `amoxicillin`](#working-with-3d-molecules)).\n",
    "\n",
    "---\n",
    "\n",
    "### `Descriptors3D.CalcMolDescriptors3D()`\n",
    "\n",
    "This method will calculate eleven 3D properties and return the results as a dictionary.\n",
    "\n",
    "**Parameters**:  \n",
    "- **mol** : `Mol`  \n",
    "  The input molecule for which to calculate 3D molecular descriptors.  \n",
    "- **confId** : `int`, *(default: `-1`)*  \n",
    "  The conformer ID to use for the calculation. If `-1`, the default conformer is used.  \n",
    "\n",
    "**Returns**:  \n",
    "- `dict`  \n",
    "  A dictionary containing calculated 3D molecular descriptors, including spatial, shape, and electrostatic properties.\n",
    "\n",
    "---\n",
    "\n",
    "<br>\n",
    "\n",
    "Let's using the `Descriptors3D.CalcMolDescriptors3D()` method to calculate serval 3D properties for `amoxicillin`:"
   ]
  },
  {
   "cell_type": "code",
   "execution_count": null,
   "metadata": {},
   "outputs": [],
   "source": [
    "amoxicillin_3D_descriptors = Descriptors3D.CalcMolDescriptors3D(mol=amoxicillin)\n",
    "amoxicillin_3D_descriptors"
   ]
  },
  {
   "cell_type": "markdown",
   "metadata": {},
   "source": [
    "## Example application of 3D descriptors: Ligand Geometry\n",
    "\n",
    "In medicinal chemistry, Normalized Principal Ratios (NPR1 and NPR2) are used to describe ligand geometries. The overall geometry and symmetry of small molecules can influence their biological activity, pharmacokinetics, and molecular interactions.\n",
    "\n",
    "<br>\n",
    "\n",
    "The geometry of molecules is typically presented like this:"
   ]
  },
  {
   "cell_type": "code",
   "execution_count": null,
   "metadata": {},
   "outputs": [],
   "source": [
    "import matplotlib.pyplot as plt\n",
    "import matplotlib.patches as patches\n",
    "\n",
    "# Extracting NPR1 and NPR2 values for plotting\n",
    "npr1_values = [amoxicillin_3D_descriptors[\"NPR1\"]]\n",
    "npr2_values = [amoxicillin_3D_descriptors[\"NPR2\"]]\n",
    "\n",
    "# FDA average values (example)\n",
    "fda_average_npr1 = 0.32\n",
    "fda_average_npr2 = 0.84\n",
    "\n",
    "# Plotting\n",
    "plt.figure(figsize=(8, 8))\n",
    "plt.gca().set_aspect('equal')\n",
    "\n",
    "# Outer triangle [0, 1], [0.5, 0.5], [1, 1]\n",
    "outer_triangle = patches.Polygon([[0, 1], [0.5, 0.5], [1, 1]], closed=True, edgecolor='black', fill=None)\n",
    "plt.gca().add_patch(outer_triangle)\n",
    "\n",
    "# Inner triangle [0.5, 1], [0.25, 0.75], [0.75, 0.75]\n",
    "inner_triangle = patches.Polygon([[0.5, 1], [0.25, 0.75], [0.75, 0.75]], closed=True, edgecolor='black', fill=None, linestyle='--')\n",
    "plt.gca().add_patch(inner_triangle)\n",
    "\n",
    "# Adding points for ligands\n",
    "plt.scatter(npr1_values, npr2_values, color='blue', label='Amoxicillin', zorder=3)\n",
    "\n",
    "# FDA average\n",
    "plt.scatter(fda_average_npr1, fda_average_npr2, color='red', s=100, label='FDA Average', zorder=3)\n",
    "\n",
    "# Region labels\n",
    "plt.text(0.25, 0.9, \"Rod-like\", fontsize=12, ha='center', va='center', color='black')\n",
    "plt.text(0.5, 0.65, \"Disc-like\", fontsize=12, ha='center', va='center', color='black')\n",
    "plt.text(0.75, 0.9, \"Sphere-like\", fontsize=12, ha='center', va='center', color='black')\n",
    "\n",
    "# Axes limits and labels\n",
    "plt.xlim(0, 1)\n",
    "plt.ylim(0.5, 1)\n",
    "plt.xlabel(\"Normalized Principal Ratio 1 (NPR1)\", fontsize=12)\n",
    "plt.ylabel(\"Normalized Principal Ratio 2 (NPR2)\", fontsize=12)\n",
    "plt.legend()\n",
    "plt.title(\"Geometry of Amoxicillin\", fontsize=14)\n",
    "\n",
    "# Show plot\n",
    "plt.show()"
   ]
  }
 ],
 "metadata": {
  "kernelspec": {
   "display_name": "nmr",
   "language": "python",
   "name": "python3"
  },
  "language_info": {
   "codemirror_mode": {
    "name": "ipython",
    "version": 3
   },
   "file_extension": ".py",
   "mimetype": "text/x-python",
   "name": "python",
   "nbconvert_exporter": "python",
   "pygments_lexer": "ipython3",
   "version": "3.12.5"
  }
 },
 "nbformat": 4,
 "nbformat_minor": 2
}
