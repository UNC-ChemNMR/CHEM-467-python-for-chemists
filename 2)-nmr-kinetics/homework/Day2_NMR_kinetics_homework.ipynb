{
 "cells": [
  {
   "cell_type": "markdown",
   "metadata": {},
   "source": [
    "# NMR kinetics homework\n",
    "\n",
    "<strong>Author(s):</strong> Seth D. Veenbaas, Jessica A. Nash, The Molecular Sciences Software Institute\n",
    "\n",
    "\n",
    "<div class=\"alert alert-block alert-info\">\n",
    "<h2>Objectives:</h2>\n",
    "\n",
    "- Make two plots with regression:\n",
    "    - **First-order**: Plot ln[reactant] vs. time.\n",
    "    - **Second-order**: Plot 1/[reactant] vs. time.\n",
    "- Use the R-value of each linear regression to determine the order of the reaction.\n",
    "- Use the slope of the linear regression to determine the rate constant (k) of the reaction.\n",
    "\n",
    "<h3>Summary:</h3>\n",
    "\n",
    "|                     |               First-order                |              Second-order               |\n",
    "| :------------------ | :--------------------------------------: | :-------------------------------------: |\n",
    "| **Rate Law**        |        $$ Rate = k [reactant] $$         |       $$  Rate = k [reactant]² $$       |\n",
    "| **Integrated Form** | $$ ln[reactant] = -kt + ln[reactant₀] $$ | $$ 1/[reactant] = kt + 1/[reactant₀] $$ |\n",
    "| **Linear Plot**     |    ln[reactant] vs. time (slope = -k)    |    1/[reactant] vs. time (slope = k)    |\n",
    "\n",
    "</div>"
   ]
  },
  {
   "cell_type": "markdown",
   "metadata": {},
   "source": [
    "# NMR kinetics: S<sub>N</sub>2\n",
    "\n",
    "The SN2 reaction between 1-bromobutane (BuBr) and iodide ion (I–) proceeds via a single-step bimolecular mechanism.\n",
    "\n",
    "Using NMR spectroscopy, the reaction's progress can be monitored by observing the disappearance of the BuBr signal (δ3.5) and the appearance of the BuI signal (δ3.3).\n",
    "\n",
    "In this homework we will analyze different reaction conditions than in class.\n",
    "\n",
    "| Reagents | Concentration |\n",
    "| :------: | :-----------: |\n",
    "|   BuBr   |    0.020 M    |\n",
    "|   NaI    |    0.30 M     |\n",
    "\n",
    "\n",
    "![reaction](../images/BuBr_reaction_scheme_full.jpeg)\n",
    "\n",
    "\n",
    "Source: [NMR Kinetics of the SN2 Reaction between BuBr and I–: An Introductory Organic Chemistry Laboratory Exercise](https://pubs.acs.org/doi/10.1021/ed500371h)"
   ]
  },
  {
   "cell_type": "code",
   "execution_count": 24,
   "metadata": {},
   "outputs": [],
   "source": [
    "# Import packages and libraries\n",
    "import pandas as pd\n",
    "import numpy as np\n",
    "import matplotlib.pyplot as plt\n",
    "from scipy.stats import linregress"
   ]
  },
  {
   "cell_type": "markdown",
   "metadata": {},
   "source": [
    "<div class=\"alert alert-block alert-warning\">\n",
    "<h3>Step 1</h3>\n",
    "\n",
    "- Import the kinetics data from `'../data/kinetics_data_condition2.xlsx'` into a DataFrame called `kinetics_data`.\n",
    "- Use the `head()` method to examine the DataFrame. \n",
    "\n",
    "<br>\n",
    "\n",
    "**Tip**: Use [`pd.read_excel()`](https://pandas.pydata.org/docs/reference/api/pandas.read_excel.html)\n",
    "\n",
    "</div>"
   ]
  },
  {
   "cell_type": "code",
   "execution_count": null,
   "metadata": {},
   "outputs": [],
   "source": [
    "# Import excel to DataFrame\n",
    "kinetics_data = \n",
    "\n",
    "# Examine DataFrame with head()"
   ]
  },
  {
   "cell_type": "markdown",
   "metadata": {},
   "source": [
    "<div class=\"alert alert-block alert-warning\">\n",
    "<h3>Step 2</h3>\n",
    "\n",
    "Did you notice that the time for this experiment is reported in minutes? We need the time to be in sconds to calculate a rate constant (k) with appropriate units.\n",
    "\n",
    "- Covert the `'Time(min)'` column into seconds and save the result to a new column called `'Time(s)'`.\n",
    "\n",
    "<br>\n",
    "\n",
    "**Tip**: syntax for [setting a column in Pandas](https://pandas.pydata.org/docs/user_guide/10min.html#setting):\n",
    "```python\n",
    "DataFrame_name['Grams'] = DataFrame_name['Kilograms'] / 1000\n",
    "```\n",
    "\n",
    "</div>"
   ]
  },
  {
   "cell_type": "code",
   "execution_count": 26,
   "metadata": {},
   "outputs": [],
   "source": [
    "# Create a new column called 'Time(s)'\n"
   ]
  },
  {
   "cell_type": "markdown",
   "metadata": {},
   "source": [
    "## Plot ln[reactant] vs. time\n",
    "\n",
    "**First-order Plot**: ln[reactant] vs. time (slope = -k)\n",
    "\n",
    "Let's use Matplotlib to create a first-order reaction plot!"
   ]
  },
  {
   "cell_type": "code",
   "execution_count": null,
   "metadata": {},
   "outputs": [],
   "source": [
    "# Create a blank figure\n",
    "plt.figure(figsize=(8, 6))\n",
    "\n",
    "# Plot ln([BuBr]) vs Time\n",
    "plt.scatter(\n",
    "    x=kinetics_data['Time(s)'],\n",
    "    y=kinetics_data['ln[BuBr]'],\n",
    "    label=\"ln[BuBr]\",\n",
    ")\n",
    "\n",
    "# Use scipy to perform linear regression\n",
    "slope, intercept, rvalue, _, _ = linregress(\n",
    "                                    kinetics_data['Time(s)'],\n",
    "                                    kinetics_data['ln[BuBr]'],\n",
    ")\n",
    "\n",
    "# Add linear regression line (line = kt + ln[reactant₀])\n",
    "regression_line = slope * kinetics_data['Time(s)'] + intercept\n",
    "\n",
    "# Plot the linear regression line\n",
    "plt.plot(\n",
    "    kinetics_data['Time(s)'],\n",
    "    regression_line,\n",
    "    label=f\"slope: {slope:.5f}\\nrvalue: {rvalue:.2f}\",\n",
    "    color='red',\n",
    "    linestyle='--'\n",
    ")\n",
    "\n",
    "# Add labels, title, and legend\n",
    "plt.title(\"First order\", fontsize=14)\n",
    "plt.xlabel(\"Time (s)\", fontsize=12)\n",
    "plt.ylabel(\"ln[BuBr]\", fontsize=12)\n",
    "plt.legend()\n",
    "\n",
    "# Show plot\n",
    "plt.show()"
   ]
  },
  {
   "cell_type": "markdown",
   "metadata": {},
   "source": [
    "<div class=\"alert alert-block alert-warning\">\n",
    "<h3>Step 3</h3>\n",
    "\n",
    "- Use matplotlib to create the plot for a second-order reaction: 1/[reactant] vs. time (slope = k).\n",
    "- **bonus**: use Matplotlib to customize your plot.\n",
    "\n",
    "\n",
    "</div>"
   ]
  },
  {
   "cell_type": "code",
   "execution_count": null,
   "metadata": {},
   "outputs": [],
   "source": [
    "# Create a blank figure\n",
    "\n",
    "\n",
    "# Plot 1/[BuBr] vs Time\n",
    "\n",
    "\n",
    "# Use scipy to perform linear regression\n",
    "\n",
    "\n",
    "# Add linear regression line (line = kt + 1/[reactant₀])\n",
    "\n",
    "\n",
    "# Plot the linear regression line\n",
    "\n",
    "\n",
    "# Add labels, title, and legend\n",
    "\n",
    "\n",
    "# Show plot"
   ]
  },
  {
   "cell_type": "markdown",
   "metadata": {},
   "source": [
    "<div class=\"alert alert-block alert-warning\">\n",
    "<h3>Step 4</h3>\n",
    "\n",
    "Pick the best linear regression form the plots to determine:\n",
    "\n",
    "1) The reaction order.\n",
    "2) The rate constant (k).\n",
    "\n",
    "- Write your answer in the Markdown cell below.\n",
    "\n",
    "</div>"
   ]
  },
  {
   "cell_type": "markdown",
   "metadata": {},
   "source": [
    "- Reaction order: \n",
    "- rate constant (k): "
   ]
  }
 ],
 "metadata": {
  "kernelspec": {
   "display_name": "nmr",
   "language": "python",
   "name": "python3"
  },
  "language_info": {
   "codemirror_mode": {
    "name": "ipython",
    "version": 3
   },
   "file_extension": ".py",
   "mimetype": "text/x-python",
   "name": "python",
   "nbconvert_exporter": "python",
   "pygments_lexer": "ipython3",
   "version": "3.12.5"
  }
 },
 "nbformat": 4,
 "nbformat_minor": 2
}
