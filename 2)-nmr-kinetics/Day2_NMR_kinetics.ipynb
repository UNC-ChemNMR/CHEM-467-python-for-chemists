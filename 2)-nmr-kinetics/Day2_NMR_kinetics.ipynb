{
 "cells": [
  {
   "cell_type": "markdown",
   "metadata": {},
   "source": [
    "Examining and Visualizing NMR Kinetics Data\n",
    "=============================\n",
    "\n",
    "<strong>Author(s):</strong> Seth D. Veenbaas, Jessica A. Nash, The Molecular Sciences Software Institute\n",
    "\n",
    "<div class=\"alert alert-block alert-info\"> \n",
    "<h2>Overview</h2>\n",
    "\n",
    "<strong>Questions:</strong>\n",
    "\n",
    "* How can I use pandas to process data?\n",
    "\n",
    "* How can I visualize relationships between different parts of my data?\n",
    "\n",
    "<strong>Objectives:</strong>\n",
    "\n",
    "* Use pandas and scipy to load and analyze NMR kinetics data\n",
    "\n",
    "* Determine the reaction order and rate constant (k) from NMR reaction monitoring data\n",
    "\n",
    "</div>"
   ]
  },
  {
   "cell_type": "markdown",
   "metadata": {},
   "source": [
    "# NMR kinetics: S<sub>N</sub>2\n",
    "\n",
    "The SN2 reaction between 1-bromobutane (BuBr) and iodide ion (I–) proceeds via a single-step bimolecular mechanism.\n",
    "\n",
    "Using NMR spectroscopy, the reaction's progress can be monitored by observing the disappearance of the BuBr signal (δ3.5) and the appearance of the BuI signal (δ3.3).\n",
    "\n",
    "| Reagents | Concentration |\n",
    "| :------: | :-----------: |\n",
    "|   BuBr   |     0.6 M     |\n",
    "|   NaI    |     0.6 M     |\n",
    "\n",
    "\n",
    "![reaction](images/BuBr_reaction_scheme.jpeg)\n",
    "\n",
    "\n",
    "Source: [NMR Kinetics of the SN2 Reaction between BuBr and I–: An Introductory Organic Chemistry Laboratory Exercise](https://pubs.acs.org/doi/10.1021/ed500371h)\n",
    "\n",
    "\n",
    "Let's dive into the data and compute the rate constant!"
   ]
  },
  {
   "cell_type": "markdown",
   "metadata": {},
   "source": [
    "## Import packages/libraries"
   ]
  },
  {
   "cell_type": "code",
   "execution_count": null,
   "metadata": {},
   "outputs": [],
   "source": [
    "from rdkit import Chem\n",
    "from rdkit.Chem import Draw, AllChem"
   ]
  },
  {
   "cell_type": "markdown",
   "metadata": {},
   "source": [
    "### Draw a reaction using RDKit\n",
    "\n",
    "`rdkit.AllChem.ReactionFromSmarts()` can draw reactions from SMILES strings formatted using these rules:\n",
    "- Separate molecules using: `.`\n",
    "- Separate reactants from products using arrows: `>>`\n",
    "- (Optional) place solvent molecules between the arrows: `>solvent1.solvent2>`\n",
    "\n",
    "Examples:\n",
    "```python\n",
    "'reactant1.reactant2>>product1.product2'\n",
    "or\n",
    "'reactant1.reactant2>solvent1.solvent2>product1.product2'\n",
    "```\n",
    "\n",
    "Let's draw a substitution reaction!"
   ]
  },
  {
   "cell_type": "code",
   "execution_count": null,
   "metadata": {},
   "outputs": [],
   "source": [
    "reaction_smiles = 'CCC(O)C.Cl>>CCC(Cl)C.O'\n",
    "AllChem.ReactionFromSmarts(reaction_smiles, useSmiles=True)"
   ]
  },
  {
   "cell_type": "markdown",
   "metadata": {},
   "source": [
    "<div class=\"alert alert-block alert-warning\">\n",
    "<h3>Challange</h3>\n",
    "\n",
    "Draw the S<sub>N</sub>2 reaction for butyl bromide `CCCCBr` and iodide `[I-]` in acetone `CC(=O)C`.\n",
    "* **Reactants**: `CCCCBr` and `[I-]`\n",
    "* **Solvent**: `CC(=O)C`\n",
    "* **Products**: `CCCCI` and `[Br-]`\n",
    "\n",
    "**Tip**: In SMILES strings ions are drawn inside `[]` (eg. `[Na+]`, `[I-]`)\n",
    "\n",
    "</div>"
   ]
  },
  {
   "cell_type": "code",
   "execution_count": null,
   "metadata": {},
   "outputs": [],
   "source": []
  },
  {
   "cell_type": "markdown",
   "metadata": {},
   "source": [
    "# Visualizing protons and chemical shifts\n",
    "\n",
    "We can monitor the progress of our reaction via NMR because the reactant and product have unique chemical shifts. \n",
    "\n",
    "Let's visualize which protons we will be integrating to monitor our reaction!"
   ]
  },
  {
   "cell_type": "code",
   "execution_count": null,
   "metadata": {},
   "outputs": [],
   "source": [
    "# Define the molecules\n",
    "butyl_bromide = Chem.MolFromSmiles(\"CCCCBr\")\n",
    "butyl_iodide = Chem.MolFromSmiles(\"CCCCI\")\n",
    "\n",
    "# Add explicit hydrogens\n",
    "butyl_bromide = Chem.AddHs(butyl_bromide)\n",
    "butyl_iodide = Chem.AddHs(butyl_iodide)\n",
    "\n",
    "# Annotate chemical shifts into unique protons\n",
    "butyl_bromide.GetAtomWithIdx(12).SetProp('atomNote', '3.5')\n",
    "butyl_bromide.GetAtomWithIdx(13).SetProp('atomNote', '3.5')\n",
    "butyl_iodide.GetAtomWithIdx(12).SetProp('atomNote', '3.3')\n",
    "butyl_iodide.GetAtomWithIdx(13).SetProp('atomNote', '3.3')\n",
    "\n",
    "# Create a combined image\n",
    "Draw.MolsToGridImage(\n",
    "    [butyl_bromide, butyl_iodide],\n",
    "    legends=['Reactant: Butyl bromide', 'Product: Butyl iodide'],\n",
    "    highlightAtomLists=[[12, 13], [12, 13]],\n",
    "    molsPerRow=2,\n",
    "    subImgSize=(300, 300),\n",
    ")"
   ]
  },
  {
   "cell_type": "markdown",
   "metadata": {},
   "source": [
    "## Pandas: Data manipulation and analysis\n",
    "\n",
    "[Pandas](https://pandas.pydata.org/) is very powerful Python library used for data analysis and manipulation. Pandas is ubiquitous in the world of data science and today we will use it to examine and analyze data from a photo NMR experiment.\n",
    "\n",
    "For more information on pandas, refer to the [pandas documentation](https://pandas.pydata.org/docs/) or the [10 minutes to pandas guide](https://pandas.pydata.org/docs/user_guide/10min.html).\n",
    "\n",
    "### Dataframe\n",
    "\n",
    "The central data structure of pandas is a `pandas.DataFrame`.\n",
    "\n",
    "You can think of a Dataframe as an Excel spreadsheet that contains data in columns and rows.\n",
    "\n",
    "|           | index | column_1 | column_2 | ... |\n",
    "| :-------: | :---: | :------: | :------: | :-: |\n",
    "| **row_1** |   0   |   data   |   data   | ... |\n",
    "| **row_2** |   1   |   data   |   data   | ... |\n",
    "| **row_3** |   2   |   data   |   data   | ... |\n",
    "|    ...    |  ...  |   ...    |   ...    | ... |"
   ]
  },
  {
   "cell_type": "markdown",
   "metadata": {},
   "source": [
    "## Import packages/libraries\n",
    "\n",
    "Let's import `pandas`, `numpy`, and the plotting package `matplotlib` using their standard abbreviations `pd`, `np`, and `plt`."
   ]
  },
  {
   "cell_type": "code",
   "execution_count": null,
   "metadata": {},
   "outputs": [],
   "source": [
    "import pandas as pd\n",
    "import numpy as np\n",
    "import matplotlib.pyplot as plt"
   ]
  },
  {
   "cell_type": "markdown",
   "metadata": {},
   "source": [
    "## Reading a CSV File\n",
    "\n",
    "[Pandas](https://pandas.pydata.org/) makes it simple to read and work with datasets in spreadsheets (CSV or Excel formats).  \n",
    "- read CSV files: `pd.read_csv()`\n",
    "- read Excel files: `pd.read_excel()`\n",
    "\n",
    "Let's create a Dataframe using our NMR kinetics data."
   ]
  },
  {
   "cell_type": "code",
   "execution_count": null,
   "metadata": {},
   "outputs": [],
   "source": [
    "kinetics_data = pd.read_csv('data/kinetics_data_condition3.csv')"
   ]
  },
  {
   "cell_type": "markdown",
   "metadata": {},
   "source": [
    "## Examining Data with `.head()` and `.tail()`\n",
    "\n",
    "You can see a preview of your Dataframe using the `.head()` or `.tail()` method. By default `.head()` or `.tail()` display the first or last 5 rows of the Dataframe. You can display more rows by passing an `int` as an argument to either method.\n",
    "\n",
    "Let's look at the first 10 rows of our `kinetics_data` DataFrame."
   ]
  },
  {
   "cell_type": "code",
   "execution_count": null,
   "metadata": {},
   "outputs": [],
   "source": [
    "kinetics_data.head(10)"
   ]
  },
  {
   "cell_type": "markdown",
   "metadata": {},
   "source": [
    "<div class=\"alert alert-block alert-warning\">\n",
    "<h3>Challange</h3>\n",
    "\n",
    "Use the `tail()` method to display the last 8 rows of our `kinetics_data` DataFrame.\n",
    "\n",
    "</div>"
   ]
  },
  {
   "cell_type": "code",
   "execution_count": null,
   "metadata": {},
   "outputs": [],
   "source": []
  },
  {
   "cell_type": "markdown",
   "metadata": {},
   "source": [
    "## Getitem (`[]`): selecting data in a DataFrame\n",
    "\n",
    "You can index data in a DataFrame by column or row. This process looks similar to indexing or slicing a list. \n",
    "\n",
    "### Index a list\n",
    "\n",
    "```python\n",
    "first_value = list[0]\n",
    "or\n",
    "first_five_values = list[0:5]\n",
    "```\n",
    "\n",
    "### Getitem in a DataFrame\n",
    "\n",
    "```python\n",
    "column = DataFrame['column_name']\n",
    "or\n",
    "first_five_rows = DataFrame[0:5]\n",
    "```\n",
    "<br>\n",
    "\n",
    "Let's see how we access data in the `Integration_3.5_ppm` column."
   ]
  },
  {
   "cell_type": "code",
   "execution_count": null,
   "metadata": {},
   "outputs": [],
   "source": [
    "kinetics_data['Integration_3.5_ppm']"
   ]
  },
  {
   "cell_type": "markdown",
   "metadata": {},
   "source": [
    "`kinetics_data['Integration_3.5_ppm']` displays every value in the `Integration_3.5_ppm` column.\n",
    "\n",
    "In Excel this operation would look something like this:\n",
    "\n",
    "![Excel_access_column](images/excel_access_column.png)\n"
   ]
  },
  {
   "cell_type": "markdown",
   "metadata": {},
   "source": [
    "Let's see how we access data in the  5<sup>th</sup> row."
   ]
  },
  {
   "cell_type": "code",
   "execution_count": null,
   "metadata": {},
   "outputs": [],
   "source": [
    "kinetics_data[4:5]"
   ]
  },
  {
   "cell_type": "markdown",
   "metadata": {},
   "source": [
    "`kinetics_data[4:5]` displays every value in the 5<sup>th</sup> row.\n",
    "\n",
    "In Excel this operation would look something like this:\n",
    "\n",
    "![Excel_access_column](images/excel_access_row.png)"
   ]
  },
  {
   "cell_type": "markdown",
   "metadata": {},
   "source": [
    "## Setting a new column\n",
    "\n",
    "You can create a new column in a DataFrame by performing mathematical operations (`+`, `-`, `*`, `/`, ect.) on an existing column. This is the equivalent of using a function for perform an operation in Excel.\n",
    "\n",
    "### Syntax\n",
    "\n",
    "```python\n",
    "DataFrame['Grams'] = DataFrame['Kilograms'] / 1000\n",
    "```\n",
    "\n",
    "<br>\n",
    "\n",
    "A time point was taken every 30 seconds in our reaction monitoring data.\n",
    "\n",
    "Let's convert our `kinetics_data['Timepoint']` column into seconds and save the results to new column called `kinetics_data['Time(s)']`!"
   ]
  },
  {
   "cell_type": "code",
   "execution_count": null,
   "metadata": {},
   "outputs": [],
   "source": [
    "kinetics_data['Time(s)'] = kinetics_data['Timepoint'] * 30\n",
    "kinetics_data.head()"
   ]
  },
  {
   "cell_type": "markdown",
   "metadata": {},
   "source": [
    "In Excel this operation would look something like this:\n",
    "\n",
    "![excel_formula](images/excel_formula.png)"
   ]
  },
  {
   "cell_type": "markdown",
   "metadata": {},
   "source": [
    "We need to create several new columns in our `kinetics_data` DataFrame to help us determine the reaction rate constant (k):\n",
    "- `kinetics_data['Normalized_BuBr]` : Mol fraction of butylbromide.\n",
    "- `kinetics_data['Normalized_BuI]` : Mol fraction of butyliodide.\n",
    "- `kinetics_data['[BuBr]']` : Concentration of butylbromide (M).\n",
    "- `kinetics_data['[BuI]']` : Concentration of butyliodide (M).\n",
    "- `kinetics_data['ln[BuBr]']` : Natural log of the concentration of butylbromide (M).\n",
    "- `kinetics_data['1/[BuBr]']` : Inversion concentration of butylbromide (M<sup>-1</sup>).\n",
    "\n",
    "Let's create these new columns now!"
   ]
  },
  {
   "cell_type": "code",
   "execution_count": null,
   "metadata": {},
   "outputs": [],
   "source": [
    "kinetics_data['Normalized_BuBr'] = kinetics_data['Integration_3.5_ppm'] / (kinetics_data['Integration_3.5_ppm'] + kinetics_data['Integration_3.3_ppm'])\n",
    "kinetics_data['Normalized_BuI'] = kinetics_data['Integration_3.3_ppm'] / (kinetics_data['Integration_3.5_ppm'] + kinetics_data['Integration_3.3_ppm'])\n",
    "kinetics_data['[BuBr]'] = kinetics_data['Normalized_BuBr'] * 0.6\n",
    "kinetics_data['[BuI]'] = kinetics_data['Normalized_BuI'] * 0.6\n",
    "kinetics_data['ln[BuBr]'] = np.log(kinetics_data['[BuBr]'])"
   ]
  },
  {
   "cell_type": "markdown",
   "metadata": {},
   "source": [
    "<div class=\"alert alert-block alert-warning\">\n",
    "<h3>Challange</h3>\n",
    "\n",
    "Create new column `kinetics_data['1/[BuBr]']` (M<sup>-1</sup>) by taking the inverse of `kinetics_data['[BuBr]']` (M).\n",
    "\n",
    "</div>"
   ]
  },
  {
   "cell_type": "code",
   "execution_count": null,
   "metadata": {},
   "outputs": [],
   "source": []
  },
  {
   "cell_type": "markdown",
   "metadata": {},
   "source": [
    "## Examining Data Part 2\n",
    "\n",
    "[Pandas](https://pandas.pydata.org/) has additional useful methods for quickly examining and summarizing date.\n",
    "\n",
    "- [`info()`](https://pandas.pydata.org/docs/reference/api/pandas.DataFrame.info.html) : Provides a summary of the DataFrame, including data types and non-null counts.\n",
    "- [`describe()`](https://pandas.pydata.org/docs/reference/api/pandas.DataFrame.describe.html) : Generates descriptive statistics for numeric columns.\n",
    "\n",
    "Now that we have more data in our DataFrame, let's use the `describe()` method to examine how our DataFrame has changed:"
   ]
  },
  {
   "cell_type": "code",
   "execution_count": null,
   "metadata": {},
   "outputs": [],
   "source": [
    "kinetics_data.describe()"
   ]
  },
  {
   "cell_type": "markdown",
   "metadata": {},
   "source": [
    "## Visualizing data with Pandas\n",
    "\n",
    "[Pandas](https://pandas.pydata.org/) makes data visualization easy with its built-in `DataFrame.plot()` method that can make plots directly from a DataFrame object.\n",
    "\n",
    "### Why plot with Pandas?\n",
    "\n",
    "- **Ease of Use**: Quickly create line plots, bar charts, scatter plots, and more.\n",
    "- **Built for DataFrames**: Automatically uses column names as labels and handles indexing seamlessly.\n",
    "\n",
    "\n",
    "### [`DataFrame.plot()`](https://pandas.pydata.org/docs/reference/api/pandas.DataFrame.plot.html)\n",
    "\n",
    "Make plots of a DataFrame.\n",
    "\n",
    "#### Parameters\n",
    "\n",
    "- **x** : `str` of column name, *(default: `None`)*\n",
    "\n",
    "    The column to use for the x-axis (independent variable).\n",
    "\n",
    "- **y** : `str` or `list` of column name(s), *(default: `None`)*\n",
    "\n",
    "    The column(s) to use for the y-axis (dependent variable).\n",
    "\n",
    "- **kind** : `str`, *(Default: `'line'`)*\n",
    "\n",
    "    The kind of plot to produce (e.g., `'bar'`, `'hist'`, `'scatter'`)\n",
    "\n",
    "\n",
    "<br>\n",
    "\n",
    "Let's plot our reaction over time!"
   ]
  },
  {
   "cell_type": "code",
   "execution_count": null,
   "metadata": {},
   "outputs": [],
   "source": [
    "kinetics_data.plot(x='Time(s)', y=['[BuBr]', '[BuI]'])"
   ]
  },
  {
   "cell_type": "markdown",
   "metadata": {},
   "source": [
    "## Introduction to Matplotlib\n",
    "\n",
    "[Matplotlib](https://matplotlib.org/stable/) is a popular Python library used for creating static, interactive, and animated visualizations. It is especially useful in scientific computing for generating publication-quality graphs and plots. Matplotlib works seamlessly with NumPy, pandas, and other data-handling libraries, making it an excellent choice for visualizing chemical data.\n",
    "\n",
    "\n",
    "### Why plot with Matplotlib?\n",
    "\n",
    "- **Versatility:** Supports various types of plots like scatter, line, bar, and histogram.\n",
    "- **Customization:** You can control every aspect of the figure, such as colors, labels, and markers.\n",
    "\n",
    "Let’s replot our reaction progress over tim using matplotlib!\n"
   ]
  },
  {
   "cell_type": "code",
   "execution_count": null,
   "metadata": {},
   "outputs": [],
   "source": [
    "# Create a blank figure\n",
    "plt.figure(figsize=(8, 6))  # Set the figure size\n",
    "\n",
    "# Plot [BuBr] as a scatter plot\n",
    "plt.scatter(\n",
    "    x=kinetics_data['Time(s)'],\n",
    "    y=kinetics_data['[BuBr]'],\n",
    "    label='[BuBr]'\n",
    ")\n",
    "\n",
    "# Plot [BuI] as a scatter plot\n",
    "plt.scatter(\n",
    "    x=kinetics_data['Time(s)'],\n",
    "    y=kinetics_data['[BuI]'],\n",
    "    label='[BuI]'\n",
    ")\n",
    "\n",
    "# Add labels, title, and legend\n",
    "plt.xlabel('Time (s)', fontsize=14)\n",
    "plt.ylabel('Concentration (M)', fontsize=14)\n",
    "\n",
    "# Show the plot\n",
    "plt.show()\n"
   ]
  },
  {
   "cell_type": "markdown",
   "metadata": {},
   "source": [
    "## Customize scatter plots with Matplotlib\n",
    "\n",
    "[Matplotlib](https://matplotlib.org/stable/) offers tons of customization. Here is a summary of some of the methods and arguments we can use to modify our scatter plot.\n",
    "\n",
    "### [`plt.scatter()`](https://matplotlib.org/stable/api/_as_gen/matplotlib.pyplot.scatter.html)\n",
    "\n",
    "A scatter plot of y vs. x with varying marker size and/or color.\n",
    "\n",
    "#### Parameters\n",
    "\n",
    "- **s** : `float`, *(default: `20`)*\n",
    "\n",
    "    The size of the markers.\n",
    "\n",
    "- **color** : `str` of [color](https://matplotlib.org/stable/users/explain/colors/colors.html#colors-def), *(default: `None`)*\n",
    "\n",
    "    The marker colors (e.g., `'red'`, `'blue'`, `'green'`, `'yellow'`).\n",
    "\n",
    "- **marker** : `str` of [marker style](https://matplotlib.org/stable/api/markers_api.html#module-matplotlib.markers), *(default: `'o'`)*\n",
    "\n",
    "    The style of the markers (e.g., `'o'`, `'v'`, `'s'`, `'*'`).\n",
    "\n",
    "- **edgecolors** : `str` of [color](https://matplotlib.org/stable/users/explain/colors/colors.html#colors-def), *(default: `'face'`)*\n",
    "\n",
    "    The edge color of the markers. Use `'face'` to match the face color or `'none'` for no edge.\n",
    "\n",
    "- **alpha** : `float`, *(default: `None`)*\n",
    "\n",
    "    The alpha blending value for markers, between 0 (transparent) and 1 (opaque).\n",
    "\n",
    "- **label** : `str`, *(default: `None`)*\n",
    "\n",
    "    A label for the legend.\n",
    "\n",
    "\n",
    "### [`plt.title()`](https://matplotlib.org/stable/api/_as_gen/matplotlib.pyplot.title.html)\n",
    "\n",
    "Set a title for the plot.\n",
    "\n",
    "#### Parameters\n",
    "\n",
    "- **label** : `str`, *(default: `None`)*\n",
    "\n",
    "    The title text to display at the top of the plot.\n",
    "\n",
    "\n",
    "- **loc** : `str`, one of `'center'`, `'left'`, or `'right'`, *(default: `'center'`)*\n",
    "\n",
    "    The alignment of the title relative to the plot.\n",
    "\n",
    "\n",
    "### [`plt.legend()`](https://matplotlib.org/stable/api/_as_gen/matplotlib.pyplot.legend.html)\n",
    "\n",
    "Place a legend on the Axes.\n",
    "\n",
    "#### Parameters\n",
    "\n",
    "- **loc** : `str`, *(default: `'best'`)*\n",
    "\n",
    "    The location of the legend (e.g., `'upper right'`, `'center'`, or `'best'`).\n",
    "\n",
    "- **title** : `str`, *(default: `None`)*\n",
    "\n",
    "    The title of the legend box.\n",
    "\n",
    "- **fontsize** : `int` or `str`, *(default: `None`)*\n",
    "\n",
    "    The size of the legend text.\n",
    "\n",
    "\n",
    "### [`plt.grid()`](https://matplotlib.org/stable/api/_as_gen/matplotlib.pyplot.grid.html)\n",
    "\n",
    "Configure the grid lines.\n",
    "\n",
    "#### Parameters\n",
    "\n",
    "- **visible** : `bool`, *(default: `None`)*\n",
    "  \n",
    "    Whether to show (`True`) or hide (`False`) the grid.\n",
    "\n",
    "- **color** : `str` of [color](https://matplotlib.org/stable/users/explain/colors/colors.html#colors-def), *(default: `None`)*\n",
    "\n",
    "    The color of the grid lines.\n",
    "\n",
    "- **linestyle** : `str` of [line style](https://matplotlib.org/stable/gallery/lines_bars_and_markers/linestyles.html), *(default: `None`)*\n",
    "\n",
    "    The style of the grid lines (e.g., `'solid'`, `'dotted'`, or `'dashed'`).\n",
    "\n",
    "\n",
    "### [`plt.xlim()`](https://matplotlib.org/stable/api/_as_gen/matplotlib.pyplot.xlim.html)\n",
    "\n",
    "Set the x limits of the current Axes.\n",
    "\n",
    "#### Parameters\n",
    "\n",
    "- **left** : `float` or `None`, *(default: `None`)*\n",
    "\n",
    "    The lower limit of the x-axis.\n",
    "\n",
    "- **right** : `float` or `None`, *(default: `None`)*\n",
    "\n",
    "    The upper limit of the x-axis.\n",
    "    \n",
    "\n",
    "### [`plt.ylim()`](https://matplotlib.org/stable/api/_as_gen/matplotlib.pyplot.ylim.html)\n",
    "\n",
    "Set the y limits of the current Axes.\n",
    "\n",
    "#### Parameters\n",
    "\n",
    "- **bottom** : `float` or `None`, *(default: `None`)*\n",
    "\n",
    "    The lower limit of the y-axis.\n",
    "\n",
    "- **top** : `float` or `None`, *(default: `None`)*\n",
    "\n",
    "    The upper limit of the y-axis."
   ]
  },
  {
   "cell_type": "markdown",
   "metadata": {},
   "source": [
    "<div class=\"alert alert-block alert-warning\">\n",
    "<h3>Challange</h3>\n",
    "\n",
    "Use the documentation summary above to customize your own scatter plot.\n",
    "\n",
    "Make a few modification to the code below and run the cell to view your new scatter plot.\n",
    "\n",
    "</div>"
   ]
  },
  {
   "cell_type": "code",
   "execution_count": null,
   "metadata": {},
   "outputs": [],
   "source": [
    "# Create a blank figure\n",
    "plt.figure(figsize=(8, 6))  # Set the figure size\n",
    "\n",
    "# Plot [BuBr] as a scatter plot\n",
    "plt.scatter(\n",
    "    x=kinetics_data['Time(s)'],\n",
    "    y=kinetics_data['[BuBr]'],\n",
    "    label='[BuBr]'\n",
    ")\n",
    "\n",
    "# Plot [BuI] as a scatter plot\n",
    "plt.scatter(\n",
    "    x=kinetics_data['Time(s)'],\n",
    "    y=kinetics_data['[BuI]'],\n",
    "    label='[BuI]'\n",
    ")\n",
    "\n",
    "# Add labels, title, and legend\n",
    "plt.xlabel('Time (s)', fontsize=14)\n",
    "plt.ylabel('Concentration (M)', fontsize=14)\n",
    "\n",
    "# Show the plot\n",
    "plt.show()"
   ]
  },
  {
   "cell_type": "markdown",
   "metadata": {},
   "source": [
    "## Determining Reaction Order and Rate Constant\n",
    "\n",
    "We can determine the reaction order and rate constant (k) of our reaction by analyzing the data and constructing specific plots.\n",
    "\n",
    "### Reaction order\n",
    "\n",
    "The reaction order is determined by finding which plot gives the best linear regression.\n",
    "\n",
    "- **First-order**: Plot ln[reactant] vs. time.\n",
    "- **Second-order**: Plot 1/[reactant] vs. time.\n",
    "\n",
    "### Rate constant\n",
    "\n",
    "The rate constant (k) can be determined from the slope of the linear regression.\n",
    "\n",
    "- **First-order**: slope = -k\n",
    "- **Second-order**: slope = k\n",
    "\n",
    "### Summary\n",
    "\n",
    "|                     |               First-order                |              Second-order               |\n",
    "| :------------------ | :--------------------------------------: | :-------------------------------------: |\n",
    "| **Rate Law**        |        $$ Rate = k [reactant] $$         |       $$  Rate = k [reactant]² $$       |\n",
    "| **Integrated Form** | $$ ln[reactant] = -kt + ln[reactant₀] $$ | $$ 1/[reactant] = kt + 1/[reactant₀] $$ |\n",
    "| **Linear Plot**     |    ln[reactant] vs. time (slope = -k)    |    1/[reactant] vs. time (slope = k)    |\n",
    "\n",
    "<br>\n",
    "\n",
    "Let's use Matplotlib to create the first-order plot (ln[reactant] vs. time) and [linregress](https://docs.scipy.org/doc/scipy/reference/generated/scipy.stats.linregress.html) from the [scipy](https://scipy.org/) library to perform a linear regression.\n"
   ]
  },
  {
   "cell_type": "code",
   "execution_count": null,
   "metadata": {},
   "outputs": [],
   "source": [
    "# Import linregress method\n",
    "from scipy.stats import linregress\n",
    "\n",
    "# Create a blank figure\n",
    "plt.figure(figsize=(8, 6))\n",
    "\n",
    "# Plot ln([BuBr]) vs Time\n",
    "plt.scatter(\n",
    "    x=kinetics_data['Time(s)'],\n",
    "    y=kinetics_data['ln[BuBr]'],\n",
    "    label=\"ln[BuBr]\",\n",
    ")\n",
    "\n",
    "# Use scipy to perform linear regression\n",
    "slope, intercept, rvalue, _, _ = linregress(\n",
    "                                    kinetics_data['Time(s)'],\n",
    "                                    kinetics_data['ln[BuBr]']\n",
    ")\n",
    "\n",
    "# Add linear regression line (line = kt + ln[reactant₀])\n",
    "regression_line = slope * kinetics_data['Time(s)'] + intercept\n",
    "\n",
    "# Plot the linear regression line\n",
    "plt.plot(\n",
    "    kinetics_data['Time(s)'],\n",
    "    regression_line,\n",
    "    label=f\"Fit: slope={slope:.4f}\\nrvalue: {rvalue:.2f}\",\n",
    "    color='red',\n",
    "    linestyle='--'\n",
    ")\n",
    "\n",
    "# Add labels, title, and legend\n",
    "plt.title(\"ln[BuBr] vs Time\", fontsize=14)\n",
    "plt.xlabel(\"Time (s)\", fontsize=12)\n",
    "plt.ylabel(\"ln[BuBr]\", fontsize=12)\n",
    "plt.legend()\n",
    "\n",
    "# Show plot\n",
    "plt.show()"
   ]
  },
  {
   "cell_type": "markdown",
   "metadata": {},
   "source": [
    "<div class=\"alert alert-block alert-warning\">\n",
    "<h3>Challange</h3>\n",
    "\n",
    "Use Matplotlib to create the second-order plot (1/[reactant] vs. time). \n",
    "\n",
    "- x: `kinetics_data['Time(s)']`\n",
    "- y: `kinetics_data['1/[BuBr]']`\n",
    "\n",
    "</div>"
   ]
  },
  {
   "cell_type": "code",
   "execution_count": null,
   "metadata": {},
   "outputs": [],
   "source": []
  },
  {
   "cell_type": "markdown",
   "metadata": {},
   "source": [
    "<div class=\"alert alert-block alert-warning\">\n",
    "<h3>Challange</h3>\n",
    "\n",
    "Use the plots and linear regressions to:\n",
    "\n",
    "1) Determine the reaction order\n",
    "2) Determine the rate constant (k)\n",
    "\n",
    "Write your answer in the Markdown cell below.\n",
    "\n",
    "</div>"
   ]
  },
  {
   "cell_type": "markdown",
   "metadata": {},
   "source": [
    "- Reaction order: \n",
    "- rate constant (k): "
   ]
  }
 ],
 "metadata": {
  "kernelspec": {
   "display_name": "nmr",
   "language": "python",
   "name": "python3"
  },
  "language_info": {
   "codemirror_mode": {
    "name": "ipython",
    "version": 3
   },
   "file_extension": ".py",
   "mimetype": "text/x-python",
   "name": "python",
   "nbconvert_exporter": "python",
   "pygments_lexer": "ipython3",
   "version": "3.12.5"
  }
 },
 "nbformat": 4,
 "nbformat_minor": 2
}
