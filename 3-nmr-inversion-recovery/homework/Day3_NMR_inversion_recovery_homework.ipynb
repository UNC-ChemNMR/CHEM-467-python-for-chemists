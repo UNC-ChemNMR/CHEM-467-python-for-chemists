{
 "cells": [
  {
   "cell_type": "markdown",
   "metadata": {},
   "source": [
    "# NMR Inversion Recovery homework\n",
    "\n",
    "<strong>Author(s):</strong> Seth D. Veenbaas, Jessica A. Nash, The Molecular Sciences Software Institute\n",
    "\n",
    "<div class=\"alert alert-block alert-info\"> \n",
    "<h2>Overview</h2>\n",
    "\n",
    "<strong>Objective:</strong>\n",
    "\n",
    "* Use Pandas and Scipy to proceed NMR data.\n",
    "\n",
    "* Calculate the $T_1$ relaxation times.\n",
    "\n",
    "* Determine if solvent conditions affect $T_1$ relaxation times.\n",
    "\n",
    "</div>\n",
    "\n",
    "## Inversion recovery experiment\n",
    "The inversion-recovery experiment measures $T_1$ relaxation times of any nucleus. If the net magnetization is placed along the -z axis, it will gradually return to its equilibrium position along the +z axis at a rate governed by $T_1$. The equation governing this behavior as a function of the time t after its displacement is: \n",
    "\n",
    "$$ M_z(t) = M_{z,\\text{eq}} \\cdot \\left(1 - 2e^{-t/T_1}\\right) $$\n",
    "\n",
    "The basic pulse sequence consists of an 180<sup>°</sup> pulse that inverts the magnetization to the -z axis. During the following delay, relaxation along the longitudinal plane takes place. Magnetization comes back to the original equilibrium z-magnetization. A 90<sup>°</sup> pulse creates transverse magnetization. The experiment is repeated for a series of delay values taken from a variable delay list. A 1D spectrum is obtained for each value of vd and stored in a pseudo 2D dataset. The longer the relaxation delay (d<sub>1</sub>) is, the more precise the T<sub>1</sub> measurement is. An ideal relaxation time (d<sub>1</sub>) can be calculated (aq = acquisition time):\n",
    "\n",
    " $$ d_1 + \\text{aq} = 5 \\cdot T_1 $$\n",
    "\n",
    " <br>\n",
    "\n",
    "![image.png](../images/t1_relaxation_pulse_sequence.png)\n",
    "\n",
    "More information:\n",
    "https://imserc.northwestern.edu/downloads/nmr-t1.pdf\n",
    "\n",
    "\n",
    "\n",
    "## Importing Required Libraries\n",
    "\n",
    "First, let's import the python libraries/packages we need to work with the data."
   ]
  },
  {
   "cell_type": "code",
   "execution_count": 57,
   "metadata": {},
   "outputs": [],
   "source": [
    "import pandas as pd\n",
    "import numpy as np\n",
    "from scipy.optimize import curve_fit\n",
    "import mnova\n",
    "\n",
    "%config InteractiveShell.ast_node_interactivity = 'all'"
   ]
  },
  {
   "cell_type": "markdown",
   "metadata": {},
   "source": [
    "Let's load, reformat, and view our data for an Ibuprofen inversion recovery experiment in chloroform (CDCl3)."
   ]
  },
  {
   "cell_type": "code",
   "execution_count": null,
   "metadata": {},
   "outputs": [],
   "source": [
    "# Load the data from the CSV file\n",
    "ibuprofen_cdcl3_inversion_data = pd.read_csv('data/Ibuprofen_CDCl3_1H_inversion_recovery.csv', header=1)\n",
    "\n",
    "# Runs reformating function\n",
    "ibuprofen_cdcl3_inversion_data = mnova.rename_columns(ibuprofen_cdcl3_inversion_data)\n",
    "\n",
    "# Plot inversion recovery data\n",
    "ibuprofen_cdcl3_inversion_data.plot(x='Time(s)')\n",
    "\n",
    "# Display the inversion recovery dataframe\n",
    "ibuprofen_cdcl3_inversion_data"
   ]
  },
  {
   "cell_type": "markdown",
   "metadata": {},
   "source": [
    "## The Effect of Solvent on NMR $T_1$ Relaxation\n",
    "\n",
    "NMR T₁ relaxation times are influenced by the choice of solvent due to differences in molecular tumbling, viscosity, and solvent-solute interactions.\n",
    "\n",
    "Let's compare the differences in $T_1$ relaxation for Ibuprofen in deuterated chloroform (CDCl<sub>3</sub>) vs. deuterated DMSO (DMSO-d<sub>6</sub>).\n"
   ]
  },
  {
   "cell_type": "markdown",
   "metadata": {},
   "source": [
    "<div class=\"alert alert-block alert-warning\">\n",
    "<h3>Step 1</h3>\n",
    "\n",
    "Load, reformat, and view the inversion recovery data for ibuprofen in DMSO (DMSO-d<sub>6</sub>).\n",
    "\n",
    "- Load data from `'data/Ibuprofen_DMSO_1H_inversion_recovery.csv'`\n",
    "- Save the data to a variable named: `ibuprofen_dmso_inversion_data`\n",
    "\n",
    "</div>"
   ]
  },
  {
   "cell_type": "code",
   "execution_count": null,
   "metadata": {},
   "outputs": [],
   "source": [
    "# Load the data from the DMSO CSV file\n",
    "\n",
    "\n",
    "# Runs reformating function\n",
    "\n",
    "\n",
    "# Plot inversion recovery data\n",
    "\n",
    "\n",
    "# Display the inversion recovery dataframe\n"
   ]
  },
  {
   "cell_type": "markdown",
   "metadata": {},
   "source": [
    "Let's define the functions you'll need to calculate $T_1$!"
   ]
  },
  {
   "cell_type": "code",
   "execution_count": 60,
   "metadata": {},
   "outputs": [],
   "source": [
    "# Define the inversion recovery model with the parameters (M, T1, and C)\n",
    "def inversion_recovery_model(time, M, T1, C):\n",
    "    return M * (1 - 2 * np.exp(-time / T1)) + C\n",
    "\n",
    "# Define function to fit data to a inversion recovery model\n",
    "def fit_relaxation_data(time_data, peak_data):\n",
    "    # Initial guess for M, T1, and C\n",
    "    initial_guess = [max(peak_data), 1.0, min(peak_data)]\n",
    "    \n",
    "    # Fit the curve\n",
    "    param_optimal, _ = curve_fit(inversion_recovery_model, time_data, peak_data, p0=initial_guess)\n",
    "    \n",
    "    return param_optimal"
   ]
  },
  {
   "cell_type": "markdown",
   "metadata": {},
   "source": [
    "<div class=\"alert alert-block alert-warning\">\n",
    "<h3>Step 2</h3>\n",
    "\n",
    "We need to use following `for` loop for each of our data sets. Modify the code in the following cell to be a reusable function. Incorporate the follow:\n",
    "\n",
    "#### 1. Function Name: `calc_t1`\n",
    "\n",
    "#### 2. Parameters:\n",
    "\n",
    "- `df` (DataFrame): Inversion recovery data.\n",
    "\n",
    "#### 3. Function body (indented code):\n",
    "\n",
    "```python\n",
    "# Create an empty DataFrame for t1_data with columns 'Peak' and 'T1(s)'\n",
    "t1_data = pd.DataFrame(columns=['Peak', 'T1(s)'])\n",
    "\n",
    "# Calculate T1 for each peak and plot the fit\n",
    "for column in df.columns[1:]:\n",
    "    \n",
    "    # Fit relaxation data to calculate T1\n",
    "    time_data = df['Time(s)']\n",
    "    peak_data = df[column]\n",
    "    param_optimal = fit_relaxation_data(time_data, peak_data)\n",
    "    T1 = param_optimal[1]\n",
    "    \n",
    "    # Add T1 time to the t1_data DataFrame\n",
    "    new_row = pd.DataFrame({'Peak': [column], 'T1(s)': [T1]})\n",
    "    t1_data = pd.concat([t1_data, new_row], ignore_index=True)\n",
    "```\n",
    "\n",
    "#### 4. Return:\n",
    "\n",
    "- `t1_data` (DataFrame): $T_1$ relaxation times for every NMR peak.\n",
    "\n",
    "</div>\n",
    "\n",
    "### Here is what it looks like to define a function:\n",
    "```python\n",
    "def function_name(parameters):\n",
    "    # Optional: explain what your function does in a Docstring\n",
    "    \"\"\"\n",
    "    Docstring\n",
    "    \"\"\"\n",
    "    # Function body (indented code)\n",
    "    return output  # Optional: Return a result\n",
    "```"
   ]
  },
  {
   "cell_type": "code",
   "execution_count": 61,
   "metadata": {},
   "outputs": [],
   "source": [
    "# Calculate T1 times from data in a Dataframe\n"
   ]
  },
  {
   "cell_type": "markdown",
   "metadata": {},
   "source": [
    "<div class=\"alert alert-block alert-warning\">\n",
    "<h3>Step 3</h3>\n",
    "\n",
    "Use your `calc_t1` function to calculate $T_1$ times for ibuprofen in each of the solvent conditions and save the results to the variables:\n",
    "* `ibuprofen_cdcl3_t1_data`\n",
    "* `ibuprofen_dmso_t1_data`\n",
    "\n",
    "Display the results.\n",
    "\n",
    "</div>"
   ]
  },
  {
   "cell_type": "code",
   "execution_count": null,
   "metadata": {},
   "outputs": [],
   "source": [
    "# Calculate T1 ibuprofen_cdcl3_inversion_data\n",
    "\n",
    "\n",
    "# Calculate T1 ibuprofen_dmso_inversion_data\n"
   ]
  },
  {
   "cell_type": "code",
   "execution_count": null,
   "metadata": {},
   "outputs": [],
   "source": [
    "# display ibuprofen_cdcl3_t1_data\n"
   ]
  },
  {
   "cell_type": "code",
   "execution_count": null,
   "metadata": {},
   "outputs": [],
   "source": []
  },
  {
   "cell_type": "markdown",
   "metadata": {},
   "source": [
    "<div class=\"alert alert-block alert-warning\">\n",
    "<h3>Step 4</h3>\n",
    "\n",
    "Use the Pandas `.describe()` method to compare the $T_1$ times in CDCl<sub>3</sub> and DMSO-d<sub>6</sub>.\n",
    "\n",
    "</div>"
   ]
  },
  {
   "cell_type": "code",
   "execution_count": null,
   "metadata": {},
   "outputs": [],
   "source": [
    "# Describe the ibuprofen_cdcl3_t1_data Dataframe\n"
   ]
  },
  {
   "cell_type": "code",
   "execution_count": null,
   "metadata": {},
   "outputs": [],
   "source": [
    "# Describe the ibuprofen_dmso_t1_data Dataframe\n"
   ]
  },
  {
   "cell_type": "markdown",
   "metadata": {},
   "source": [
    "<div class=\"alert alert-block alert-warning\">\n",
    "<h3>Step 5</h3>\n",
    "\n",
    "Which solvent condition increased $T_1$ relaxation times the most?\n",
    "\n",
    "What was the lowest $T_1$ time for peak 7.1_ppm?\n",
    "\n",
    "</div>"
   ]
  },
  {
   "cell_type": "code",
   "execution_count": 68,
   "metadata": {},
   "outputs": [],
   "source": [
    "condition =\n",
    "lowest_T1_time_7_1_ppm ="
   ]
  }
 ],
 "metadata": {
  "kernelspec": {
   "display_name": "nmr",
   "language": "python",
   "name": "python3"
  },
  "language_info": {
   "codemirror_mode": {
    "name": "ipython",
    "version": 3
   },
   "file_extension": ".py",
   "mimetype": "text/x-python",
   "name": "python",
   "nbconvert_exporter": "python",
   "pygments_lexer": "ipython3",
   "version": "3.12.5"
  }
 },
 "nbformat": 4,
 "nbformat_minor": 2
}
