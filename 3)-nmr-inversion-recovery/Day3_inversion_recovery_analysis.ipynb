{
 "cells": [
  {
   "cell_type": "markdown",
   "metadata": {},
   "source": [
    "# NMR Inversion Recovery Analysis in Python\n",
    "\n",
    "<strong>Author(s):</strong> Seth D. Veenbaas, Jessica A. Nash, The Molecular Sciences Software Institute\n",
    "\n",
    "<div class=\"alert alert-block alert-info\"> \n",
    "<h2>Overview</h2>\n",
    "\n",
    "<strong>Objective:</strong>\n",
    "\n",
    "* Use Pandas and Scipy to proceed NMR data.\n",
    "\n",
    "* Use Matplotlib to visualize data.\n",
    "\n",
    "* Calculate the T<sub>1</sub> relaxation times.\n",
    "\n",
    "* Calculate an ideal d<sub>1</sub> delay time.\n",
    "\n",
    "</div>\n",
    "\n",
    "## Inversion recovery experiment\n",
    "The inversion-recovery experiment measures $T_1$ relaxation times of any nucleus. If the net magnetization is placed along the -z axis, it will gradually return to its equilibrium position along the +z axis at a rate governed by $T_1$. The equation governing this behavior as a function of the time t after its displacement is: \n",
    "\n",
    "$$ M_z(t) = M_{z,\\text{eq}} \\cdot \\left(1 - 2e^{-t/T_1}\\right) $$\n",
    "\n",
    "The basic pulse sequence consists of an 180<sup>°</sup> pulse that inverts the magnetization to the -z axis. During the following delay, relaxation along the longitudinal plane takes place. Magnetization comes back to the original equilibrium z-magnetization. A 90<sup>°</sup> pulse creates transverse magnetization. The experiment is repeated for a series of delay values taken from a variable delay list. A 1D spectrum is obtained for each value of vd and stored in a pseudo 2D dataset. The longer the relaxation delay (d<sub>1</sub>) is, the more precise the T<sub>1</sub> measurement is. An ideal relaxation time (d<sub>1</sub>) can be calculated (aq = acquisition time):\n",
    "\n",
    " $$ d_1 + \\text{aq} = 5 \\cdot T_1 $$\n",
    "\n",
    " <br>\n",
    "\n",
    "![image.png](images/t1_relaxation_pulse_sequence.png)\n",
    "\n",
    "More information:\n",
    "https://imserc.northwestern.edu/downloads/nmr-t1.pdf\n",
    "\n",
    "\n",
    "\n",
    "## Importing Required Libraries\n",
    "\n",
    "First, let's import the python libraries/packages we need to work with the data.\n"
   ]
  },
  {
   "cell_type": "code",
   "execution_count": 1,
   "metadata": {},
   "outputs": [],
   "source": [
    "import pandas as pd\n",
    "import numpy as np\n",
    "from scipy.optimize import curve_fit\n",
    "import matplotlib.pyplot as plt\n",
    "import mnova\n",
    "import rdkit\n",
    "from rdkit.Chem import Draw\n",
    "\n",
    "# Enable inline plotting\n",
    "%matplotlib inline\n",
    "\n",
    "# Set DataFrame precision to 3 decimal places\n",
    "pd.set_option(\"display.precision\", 3)\n"
   ]
  },
  {
   "cell_type": "markdown",
   "metadata": {},
   "source": [
    "## Inversion recovery of ibuprofen\n",
    "\n",
    "We will be analyzing <sup>13</sup>C inversion recovery from ibuprofen today."
   ]
  },
  {
   "cell_type": "code",
   "execution_count": null,
   "metadata": {},
   "outputs": [],
   "source": [
    "ibuprofen = rdkit.Chem.MolFromSmiles('CC(C)Cc1ccc(cc1)[C@@H](C)C(=O)O')\n",
    "Draw.MolToImage(ibuprofen, legend='Ibuprofen')"
   ]
  },
  {
   "cell_type": "markdown",
   "metadata": {},
   "source": [
    "## Importing the Data\n",
    "\n",
    "We will now import the NMR inversion recovery data from a CSV file to a Pandas Dataframe (the excel of Python).\n",
    "\n",
    "The file `Ibuprofen-C13-invrec-data-mnova.csv` contains the experimental data from an inversion recovery experiment for ibuprofen."
   ]
  },
  {
   "cell_type": "code",
   "execution_count": null,
   "metadata": {},
   "outputs": [],
   "source": [
    "# Load the data from the CSV file\n",
    "ibuprofen_inversion_data = pd.read_csv('data/Ibuprofen-C13-invrec-data-mnova.csv', header=1)\n",
    "\n",
    "# Display the first 5 row of the dataframe\n",
    "ibuprofen_inversion_data.head()"
   ]
  },
  {
   "cell_type": "markdown",
   "metadata": {},
   "source": [
    "### Use the `mnova.rename_columns()` function to reformat the Dataframe.\n",
    "\n",
    "The format will make the data easier to work will.\n",
    "\n",
    "|        Time(s)         |           <#>_ppm            |\n",
    "| :--------------------: | :--------------------------: |\n",
    "| Time of scan (seconds) | Chemical shift of each peak. |"
   ]
  },
  {
   "cell_type": "code",
   "execution_count": null,
   "metadata": {},
   "outputs": [],
   "source": [
    "# Runs reformating function\n",
    "ibuprofen_inversion_data = mnova.rename_columns(ibuprofen_inversion_data)\n",
    "\n",
    "# Display the first 5 row of the dataframe\n",
    "ibuprofen_inversion_data.head()"
   ]
  },
  {
   "cell_type": "markdown",
   "metadata": {},
   "source": [
    "<div class=\"alert alert-block alert-warning\">\n",
    "<h3>Challange</h3>\n",
    "\n",
    "Use `plot()` to visualize the inversion recovery signals in `ibuprofen_inversion_data`.\n",
    "\n",
    "**Tip**: plot `Time(s)` on the x-axis.\n",
    "\n",
    "</div>\n",
    "\n",
    "### [`DataFrame.plot()`](https://pandas.pydata.org/docs/reference/api/pandas.DataFrame.plot.html)\n",
    "\n",
    "Make plots of a DataFrame.\n",
    "\n",
    "#### Parameters\n",
    "\n",
    "- **x** : `str` of column name, *(default: `None`)*\n",
    "\n",
    "    The column to use for the x-axis (independent variable).\n",
    "\n",
    "- **y** : `str` or `list` of column name(s), *(default: `None`)*\n",
    "\n",
    "    The column(s) to use for the y-axis (dependent variable).\n",
    "\n",
    "- **kind** : `str`, *(Default: `'line'`)*\n",
    "\n",
    "    The kind of plot to produce (e.g., `'bar'`, `'hist'`, `'scatter'`)"
   ]
  },
  {
   "cell_type": "code",
   "execution_count": null,
   "metadata": {},
   "outputs": [],
   "source": [
    "# Plot the data from all peaks vs. Time(s)\n"
   ]
  },
  {
   "cell_type": "markdown",
   "metadata": {},
   "source": [
    "## Calculate $T_1$ relaxation time\n",
    "\n",
    "We will use the `curve_fit()` function from scipy to fit our data to the exponential inversion recovery model:\n",
    "\n",
    "$$\n",
    "M_z(t) = {\\color{red} M_{z,\\text{eq}}} \\cdot \\left(1 - 2e^{-t/{\\color{red} T_1}}\\right) + {\\color{red} C}\n",
    "$$\n",
    "\n",
    "The `curve_fit()` function with optimize the three parameters in our inversion recovery model using our experimental data.\n",
    "\n",
    "$$\n",
    "parameters = {\\color{red} M_{z,\\text{eq}}}, {\\color{red} T_1}, {\\color{red} C}\n",
    "\n",
    "$$\n",
    "\n",
    "<br>\n",
    "\n",
    "Let's use `curve_fit()` with our data from the peak at 143.4 ppm to determine an optimal value for $T_1$!"
   ]
  },
  {
   "cell_type": "code",
   "execution_count": null,
   "metadata": {},
   "outputs": [],
   "source": [
    "# Extract data for the peak at 143.4 ppm\n",
    "time_data = ibuprofen_inversion_data['Time(s)']\n",
    "peak_data = ibuprofen_inversion_data['143.4_ppm']\n",
    "\n",
    "# Define the inversion recovery model with the parameters (M, T1, and C)\n",
    "def inversion_recovery_model(time, M, T1, C):\n",
    "    return M * (1 - 2 * np.exp(-time / T1)) + C\n",
    "\n",
    "# Initial guess for our three parameters (M, T1, and C)\n",
    "initial_guess = [max(peak_data), 1, min(peak_data )]\n",
    "\n",
    "# Fit the curve to get optimized parameters (M, T1, and C)\n",
    "param_optimal, _ = curve_fit(inversion_recovery_model, time_data, peak_data, p0=initial_guess)\n",
    "\n",
    "# Print optimized parameters\n",
    "print(param_optimal)\n"
   ]
  },
  {
   "cell_type": "markdown",
   "metadata": {},
   "source": [
    "To get "
   ]
  },
  {
   "cell_type": "markdown",
   "metadata": {},
   "source": [
    "## Code reusability: calculate $T_1$ for all peaks\n",
    "\n",
    "Great, We calculated $T_1$! Now just 6 more peaks to go....\n",
    "\n",
    "Don't worry, we can reuse our code to do repetitive tasks if we design it properly.\n",
    "\n",
    "Two really powerful tools for reusing code are:\n",
    "- defining custom functions\n",
    "- `for` loops\n",
    "\n",
    "## How to Define a Function\n",
    "1. **Keyword**: Use the `def` keyword to start the definition.  \n",
    "2. **Name**: Choose a descriptive name for the function (e.g., `calculate_energy`).  \n",
    "3. **Parameters**: Enclose optional input parameters in parentheses `()`.  \n",
    "4. **Colon**: Add a colon `:` to indicate the start of the function body.  \n",
    "5. **Indented Body**: Write the function's logic as an indented block (4 spaces).  \n",
    "6. **Optional Return**: Use `return` to send a result back to the caller (if needed).\n",
    "7. **Optional Docstring**: Explains what a function does, what the parameters are, and what the function returns (if any).\n",
    "\n",
    "\n",
    "### Here is what it looks like to define a function:\n",
    "```python\n",
    "def function_name(parameters):\n",
    "    # Optional: explain what your function does in a Docstring\n",
    "    \"\"\"\n",
    "    Docstring\n",
    "    \"\"\"\n",
    "    # Function body (indented code)\n",
    "    return output  # Optional: Return a result\n",
    "```\n",
    "<br>\n",
    "\n",
    "Let's create a function that we can reuse to plot our fitted data!"
   ]
  },
  {
   "cell_type": "code",
   "execution_count": 13,
   "metadata": {},
   "outputs": [],
   "source": [
    "def plot_fitted_data(df, time_col, peak_col, param_optimal):\n",
    "    \"\"\"\n",
    "    Plots the peak intensity vs. time data along with the fitted inversion recovery model.\n",
    "\n",
    "    Parameters:\n",
    "    - df (pd.DataFrame): The input DataFrame containing the data to be plotted.\n",
    "    - time_col (str): The column name in the DataFrame representing time data.\n",
    "    - peak_col (str): The column name in the DataFrame representing peak intensity data.\n",
    "    - param_optimal (np.ndarray): Optimal parameters from the curve fitting (M_z,eq, T1, C) returned by `curve_fit`.\n",
    "\n",
    "    Returns:\n",
    "    - None: This function directly displays the plot using `matplotlib.pyplot.show()`.\n",
    "\n",
    "    The function creates a scatter plot of the peak intensity vs. time and overlays a curve fit based on the \n",
    "    inversion recovery model. The fitted T1 value is displayed in the plot legend.\n",
    "    \"\"\"\n",
    "    time_data = df[time_col]\n",
    "    peak_data = df[peak_col]\n",
    "    \n",
    "    # Create a blank figure\n",
    "    plt.figure(figsize=(8, 6))\n",
    "    \n",
    "    # Plot peak intensity vs. time as a scatter plot\n",
    "    plt.scatter(time_data, peak_data, label=f'{peak_col} Data')\n",
    "    \n",
    "    # Plot curve fit\n",
    "    x_model = np.linspace(min(time_data), max(time_data), 100)\n",
    "    y_model = inversion_recovery_model(x_model, *param_optimal)\n",
    "    plt.plot(x_model, y_model, label=f'Fit: T1 = {param_optimal[1]:.3f} s', color='red')\n",
    "    \n",
    "    # Add labels, title, and legend\n",
    "    plt.xlabel('Time (s)', fontsize=12)\n",
    "    plt.ylabel('Signal intensity', fontsize=12)\n",
    "    plt.title(f'Inversion Recovery Fit for peak {peak_col}',  fontsize=14)\n",
    "    plt.legend(loc='lower right')\n",
    "    \n",
    "    # Show the plot\n",
    "    plt.show()\n"
   ]
  },
  {
   "cell_type": "markdown",
   "metadata": {},
   "source": [
    "<div class=\"alert alert-block alert-warning\">\n",
    "<h3>Challange</h3>\n",
    "\n",
    "Create a custom function that performs a curve fit to our inversion recovery model. You do not need to write a doc string but do incorporate the following:\n",
    "\n",
    "#### 1. Function Name: `fit_relaxation_data`\n",
    "\n",
    "#### 2. Parameters:\n",
    "\n",
    "- `time_data` (list): Time points for the relaxation curve.\n",
    "- `peak_data` (list): Corresponding peak intensities.\n",
    "\n",
    "#### 3. Function body (indented code):\n",
    "\n",
    "```python\n",
    "# Initial guess for our three parameters (M, T1, and C)\n",
    "initial_guess = [max(peak_data), 1, min(peak_data )]\n",
    "\n",
    "# Fit the curve to get optimized parameters (M, T1, and C)\n",
    "param_optimal, _ = curve_fit(inversion_recovery_model, time_data, peak_data, p0=initial_guess)\n",
    "```\n",
    "\n",
    "#### 4. Return:\n",
    "\n",
    "- `param_optimal` (ndarray) Optimal parameters for the inversion recovery model (M_z,eq, T1, C)\n",
    "\n",
    "</div>\n"
   ]
  },
  {
   "cell_type": "code",
   "execution_count": 8,
   "metadata": {},
   "outputs": [],
   "source": [
    "# Write the custom function `fit_relaxation_data`\n",
    "\n"
   ]
  },
  {
   "cell_type": "markdown",
   "metadata": {},
   "source": [
    "## How to Write a for Loop\n",
    "1. **Keyword**: Start with `for`.\n",
    "2. **Iterator Variable**: Specify a variable for each item.\n",
    "3. **`in` Keyword**: Use in to specify the sequence.\n",
    "4. **Colon**: Add a colon `:` to start the loop body.\n",
    "5. **Indented Body**: Indent the code to execute in each iteration.\n",
    "\n",
    "### Here is what it looks like to write a `for` loop:\n",
    "\n",
    "```python\n",
    "for each_item in your_items:\n",
    "    # Code to be executed for each_item (indented code)\n",
    "```\n",
    "\n",
    "<br>\n",
    "\n",
    "Let's create a `for` loop that:\n",
    "* Uses `fit_relaxation_data` to fit the data for every peaks.\n",
    "* Uses `plot_fitted_data` to plot the fit for every peaks.\n",
    "* Creates a DataFrame called `t1_data` to save the T<sub>1</sub> time for all our peaks."
   ]
  },
  {
   "cell_type": "code",
   "execution_count": null,
   "metadata": {},
   "outputs": [],
   "source": [
    "# Define what DataFrame to use to improve reusability.\n",
    "df = ibuprofen_inversion_data\n",
    "\n",
    "# Create an empty DataFrame for t1_data with columns 'Peak' and 'T1(s)'\n",
    "t1_data = pd.DataFrame(columns=['Peak', 'T1(s)'])\n",
    "\n",
    "# Calculate T1 for each peak and plot the fit\n",
    "for column in df.columns[1:]:\n",
    "    \n",
    "    # Fit relaxation data to calculate T1\n",
    "    time_data = df['Time(s)']\n",
    "    peak_data = df[column]\n",
    "    param_optimal = fit_relaxation_data(time_data, peak_data)\n",
    "    T1 = param_optimal[1]\n",
    "    \n",
    "    # Plot the fitted data\n",
    "    plot_fitted_data(df, 'Time(s)', column, param_optimal)\n",
    "    \n",
    "    # Add T1 time to the t1_data DataFrame\n",
    "    new_row = pd.DataFrame({'Peak': [column], 'T1(s)': [T1]})\n",
    "    t1_data = pd.concat([t1_data, new_row], ignore_index=True)\n",
    "\n",
    "# Display `t1_data` DataFrame\n",
    "t1_data\n"
   ]
  },
  {
   "cell_type": "markdown",
   "metadata": {},
   "source": [
    "## Calculate Ideal Delay Time ($d_1$)\n",
    "\n",
    "We can calculate an ideal delay time $d_1$ for future NMR experiments based on the measured $T_1$ times. The relationship is given by the formula:\n",
    "\n",
    "$ d_1 + \\text{aq} = 5 \\times T_1 $\n",
    "\n",
    "or\n",
    "\n",
    "$ d_1 = (5 \\times T_1) - \\text{aq} $\n",
    "\n",
    "Where:\n",
    "- $d_1$ is the ideal delay time (seconds).\n",
    "- $\\text{aq}$ (acquisition time) = 1.3 seconds (Bruker default for <sup>13</sup>C).\n",
    "- $T_1$ is the longitudinal relaxation time (seconds).\n",
    "\n",
    "<br>\n",
    "\n",
    "<div class=\"alert alert-block alert-warning\">\n",
    "<h3>Challange</h3>\n",
    "\n",
    "Use the $T_1 $ times in `t1_data['T1(s)']` to calculate ideal delay times $d_1$ and save the results to `t1_data['D1(s)']`.\n",
    "\n",
    "Display the `t1_data` DataFrame to check your work.\n",
    "\n",
    "</div>\n",
    "\n",
    "### Syntax for setting a new column in a DataFrame\n",
    "\n",
    "```python\n",
    "DataFrame_name['Grams'] = DataFrame_name['Kilograms'] / 1000\n",
    "```"
   ]
  },
  {
   "cell_type": "code",
   "execution_count": null,
   "metadata": {},
   "outputs": [],
   "source": [
    "# Define the acquisition time (aq)\n",
    "aq = 1.3 # Bruker default for 13C experiment\n",
    "\n",
    "# Calculate D1 delay time using vectorized operations\n",
    "\n",
    "\n",
    "# Display Dataframe\n"
   ]
  },
  {
   "cell_type": "markdown",
   "metadata": {},
   "source": [
    "## Export results\n",
    "\n",
    "You can export a DataFrame from pandas to a CSV file using the `DataFrame.to_csv()` method. \n",
    "\n",
    "### [DataFrame.to_csv()](https://pandas.pydata.org/docs/reference/api/pandas.DataFrame.to_csv.html)\n",
    "\n",
    "Write a DataFrame to a CSV file.\n",
    "\n",
    "#### Parameters\n",
    "\n",
    "- **path_or_buf** : `str`, *(default: `None`)*\n",
    "\n",
    "    The file path or object to write the CSV data. If `None`, the result is returned as a string.\n",
    "\n",
    "- **index** : `bool`, *(default: `True`)*\n",
    "\n",
    "    Whether to write row names (index). If `False`, the index is not written.\n",
    "\n",
    "<br>\n",
    "\n",
    "Let's export the formatted `ibuprofen_inversion_data` DataFrame!"
   ]
  },
  {
   "cell_type": "code",
   "execution_count": 11,
   "metadata": {},
   "outputs": [],
   "source": [
    "ibuprofen_inversion_data.to_csv(path_or_buf='results/ibuprofen_inversion_data.csv', index=False)"
   ]
  },
  {
   "cell_type": "markdown",
   "metadata": {},
   "source": [
    "<div class=\"alert alert-block alert-warning\">\n",
    "<h3>Challange</h3>\n",
    "\n",
    "Export the `t1_data` DataFrame to the path `'results/ibuprofen_t1_data.csv'`.\n",
    "\n",
    "See what happens if you set `index=True`.\n",
    "\n",
    "</div>"
   ]
  },
  {
   "cell_type": "code",
   "execution_count": 12,
   "metadata": {},
   "outputs": [],
   "source": [
    "# Export `t1_data` DataFrame to 'results/ibuprofen_t1_data.csv'\n"
   ]
  }
 ],
 "metadata": {
  "kernelspec": {
   "display_name": "nmr",
   "language": "python",
   "name": "python3"
  },
  "language_info": {
   "codemirror_mode": {
    "name": "ipython",
    "version": 3
   },
   "file_extension": ".py",
   "mimetype": "text/x-python",
   "name": "python",
   "nbconvert_exporter": "python",
   "pygments_lexer": "ipython3",
   "version": "3.12.5"
  }
 },
 "nbformat": 4,
 "nbformat_minor": 2
}
