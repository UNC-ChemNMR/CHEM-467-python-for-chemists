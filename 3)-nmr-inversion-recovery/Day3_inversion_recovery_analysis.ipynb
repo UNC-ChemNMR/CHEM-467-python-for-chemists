{
 "cells": [
  {
   "cell_type": "markdown",
   "metadata": {},
   "source": [
    "# NMR Inversion Recovery Analysis in Python\n",
    "\n",
    "* **Author:** Seth Veenbaas\n",
    "* **Last Updated:** 12/18/24\n",
    "\n",
    "## Objective\n",
    "In this notebook, we will learn the basics of working with scientific data in Python, focusing on an NMR inversion recovery experiment. We will import experimental data into a Pandas DataFrame, calculate the T<sub>1</sub> relaxation times and ideal an ideal d<sub>1</sub> delay time, and visualize the fitted data.\n",
    "\n",
    "## Inversion recovery experiment\n",
    "The inversion-recovery experiment measures T1 relaxation times of any nucleus. If the net magnetization is placed along the -z axis, it will gradually return to its equilibrium position along the +z axis at a rate governed by T1. The equation governing this behavior as a function of the time t after its displacement is: \n",
    "\n",
    "M<sub>z</sub>(t) = M<sub>z, eq</sub> * (1 - 2 e<sup>-t/T<sub>1</sub></sup>)\n",
    "\n",
    "The basic pulse sequence consists of an 180<sup>°</sup> pulse that inverts the magnetization to the -z axis. During the following delay, relaxation along the longitudinal plane takes place. Magnetization comes back to the original equilibrium z-magnetization. A 90<sup>°</sup> pulse creates transverse magnetization. The experiment is repeated for a series of delay values taken from a variable delay list. A 1D spectrum is obtained for each value of vd and stored in a pseudo 2D dataset. The longer the relaxation delay (d<sub>1</sub>) is, the more precise the T<sub>1</sub> measurement is. An ideal relaxation time (d<sub>1</sub>) can be calculated (aq = acquisition time):\n",
    "\n",
    " d<sub>1</sub> + aq = 5 * T<sub>1</sub>\n",
    "\n",
    "![image.png](images/t1_relaxation_pulse_sequence.png)\n",
    "\n",
    "More information:\n",
    "https://imserc.northwestern.edu/downloads/nmr-t1.pdf\n",
    "\n",
    "---\n",
    "\n",
    "## 1. Importing Required Libraries\n",
    "\n",
    "First, let's import the python libraries/packages we need to work with the data.\n"
   ]
  },
  {
   "cell_type": "code",
   "execution_count": null,
   "metadata": {},
   "outputs": [],
   "source": [
    "import pandas as pd\n",
    "import numpy as np\n",
    "from scipy.optimize import curve_fit\n",
    "import matplotlib.pyplot as plt\n",
    "import os\n",
    "import mnova\n",
    "\n",
    "# Enable inline plotting\n",
    "%matplotlib inline\n",
    "\n",
    "# Set DataFrame precision to 3 decimal places\n",
    "pd.set_option(\"display.precision\", 3)\n"
   ]
  },
  {
   "cell_type": "markdown",
   "metadata": {},
   "source": [
    "---\n",
    "## 2. Importing the Data\n",
    "\n",
    "We will now import the NMR inversion recovery data from a CSV file to a Pandas Dataframe (the excel of Python).\n",
    "\n",
    "The file `Ibuprofen-C13-invrec-data-mnova.csv` contains the experimental data from an inversion recovery experiment for ibuprofen."
   ]
  },
  {
   "cell_type": "code",
   "execution_count": null,
   "metadata": {},
   "outputs": [],
   "source": [
    "# Load the data from the CSV file\n",
    "df = pd.read_csv('data/Ibuprofen-C13-invrec-data-mnova.csv', header=1)\n",
    "\n",
    "# Display the first 5 row of the dataframe to understand its structure\n",
    "df.head(5)"
   ]
  },
  {
   "cell_type": "markdown",
   "metadata": {},
   "source": [
    "### Use the `mnova.rename_columns()` function to reformat the dataframe into a more user friendly format.\n",
    "\n",
    "|       Time       |            <#>_ppm           |\n",
    "| :--------------: | :--------------------------: |\n",
    "| Time of scan (s) | Chemical shift of each peak. |\n",
    "\n",
    "```python\n",
    "output = function_name(input)\n",
    "```"
   ]
  },
  {
   "cell_type": "code",
   "execution_count": null,
   "metadata": {},
   "outputs": [],
   "source": [
    "# Runs reformating function\n",
    "df = mnova.rename_columns(df)\n",
    "\n",
    "# Display the full dataframe\n",
    "df"
   ]
  },
  {
   "cell_type": "markdown",
   "metadata": {},
   "source": [
    "---\n",
    "\n",
    "## 3. Visualizing the Data\n",
    "\n",
    "We are going to use MatPlotLib to generate visualization for multiple all the peaks in our data. To make multiple plots efficiently we can create a reusable plotting function instead of type the same code multiple times.\n",
    "\n",
    "### How to Define a Function\n",
    "A function in Python is defined using the def keyword, followed by:\n",
    "\n",
    "1) **Function name**: A descriptive identifier (e.g., calculate_energy).\n",
    "2) **Parentheses**: Containing optional parameters (inputs).\n",
    "3) **Colon**: Signals the beginning of the function's body.\n",
    "4) **Indented code block**: Contains the instructions the function will execute.\n",
    "\n",
    "Here is what it looks like to define a function:\n",
    "\n",
    "```python\n",
    "def function_name(parameters):\n",
    "    # Function body (indented code)\n",
    "    return output  # Optional: Return a result\n",
    "```\n",
    "\n",
    "Let's create a function that plots data from our NMR Dataframe!\n"
   ]
  },
  {
   "cell_type": "code",
   "execution_count": null,
   "metadata": {},
   "outputs": [],
   "source": [
    "def plot_nmr_data(df : pd.DataFrame):\n",
    "    plt.figure(figsize=(10, 8))\n",
    "    \n",
    "    for column in df.columns:\n",
    "        if column != 'Time':\n",
    "            plt.plot(df['Time'], df[column], label=column)\n",
    "    \n",
    "    plt.xlabel('Time (s)')\n",
    "    plt.ylabel('Signal')\n",
    "    plt.title('NMR Inversion Recovery Data')\n",
    "    plt.legend()\n",
    "    plt.show()\n",
    "\n",
    "# Visualize the data\n",
    "plot_nmr_data(df)\n"
   ]
  },
  {
   "cell_type": "markdown",
   "metadata": {},
   "source": [
    "---\n",
    "\n",
    "## 4. Calculating T1 Relaxation Time\n",
    "\n",
    "To calculate the T1 relaxation time for each peak, we will fit the data to the inversion recovery model:\n",
    "\n",
    "M<sub>z</sub>(t) = M<sub>z, eq</sub> * (1 - 2 e<sup>-t/T1</sup>) + C\n"
   ]
  },
  {
   "cell_type": "code",
   "execution_count": null,
   "metadata": {},
   "outputs": [],
   "source": [
    "# Function to model the inversion recovery curve\n",
    "def inversion_recovery(t, M, T1, C):\n",
    "    return M * (1 - 2 * np.exp(-t / T1)) + C\n",
    "\n",
    "# Function to calculate T1 relaxation time for a given nucleus\n",
    "def calculate_T1(df : pd.DataFrame, x_col : str, y_col : str):\n",
    "    t = df[x_col].values\n",
    "    y = df[y_col].values\n",
    "    \n",
    "    # Initial guess for A, T1, and C\n",
    "    initial_guess = [max(y), 1, min(y)]\n",
    "    \n",
    "    # Fit the curve\n",
    "    popt, _ = curve_fit(inversion_recovery, t, y, p0=initial_guess)\n",
    "    \n",
    "    # Return the fitted parameters and T1 value\n",
    "    return popt, popt[1]\n"
   ]
  },
  {
   "cell_type": "markdown",
   "metadata": {},
   "source": [
    "---\n",
    "\n",
    "## 5. Visualizing the Fitted Data\n",
    "\n",
    "Let's create a function to plot the data and the fitted curve.\n"
   ]
  },
  {
   "cell_type": "code",
   "execution_count": null,
   "metadata": {},
   "outputs": [],
   "source": [
    "def plot_fitted_data(df : pd.DataFrame, x_col : str, y_col : str, popt : np.ndarray):\n",
    "    x = df[x_col].values\n",
    "    y = df[y_col].values\n",
    "    \n",
    "    plt.figure(figsize=(8, 6))\n",
    "    plt.scatter(x, y, label=f'{y_col} Data')\n",
    "    plt.plot(x, inversion_recovery(x, *popt), label=f'Fit: T1 = {popt[1]:.3f} s', color='red')\n",
    "    plt.xlabel('Time (s)')\n",
    "    plt.ylabel('Signal')\n",
    "    plt.title(f'Inversion Recovery Fit for {y_col}')\n",
    "    plt.legend()\n",
    "    plt.show()\n"
   ]
  },
  {
   "cell_type": "markdown",
   "metadata": {},
   "source": [
    "---\n",
    "\n",
    "## 6. Analyzing and Summarizing T1 Times for All Nuclei\n",
    "\n",
    "Now, let's use the functions we created to calculate the T1 relaxation time for each nucleus and visualize the fits.\n"
   ]
  },
  {
   "cell_type": "code",
   "execution_count": null,
   "metadata": {},
   "outputs": [],
   "source": [
    "# Dictionary to store the T1 times\n",
    "T1_times = {}\n",
    "\n",
    "# Calculate T1 for each nucleus and plot the fit\n",
    "for column in df.columns:\n",
    "    if column != 'Time':\n",
    "        popt, T1 = calculate_T1(df, 'Time', column)\n",
    "        T1_times[column] = T1\n",
    "        plot_fitted_data(df, 'Time', column, popt)\n",
    "\n",
    "# Create a summary table of T1 times\n",
    "T1_df = pd.DataFrame(list(T1_times.items()), columns=['Peak', 'T1_Time'])\n",
    "T1_df\n"
   ]
  },
  {
   "cell_type": "markdown",
   "metadata": {},
   "source": [
    "---\n",
    "\n",
    "## 7. Calculate an ideal delay time (d<sub>1</sub>)\n",
    "\n",
    "Now, let's calculate an ideal delay time (d<sub>1</sub>) for future NMR experiments on ibuprofen based on the (T<sub>1</sub>) times we measured.\n",
    "\n",
    "d<sub>1</sub> + aq = 5 * T<sub>1</sub>\n",
    "\n",
    "aq (acquisition time) = 1.3 seconds (Bruker default for C<sub>13</sub>)\n",
    "\n",
    "Relaxation time (d<sub>1</sub>) can not be shorter than 0 seconds:\n",
    "\n",
    "* if d<sub>1</sub> > 0 seconds:\n",
    "\n",
    "    d<sub>1</sub> = (5 * T<sub>1</sub>) - aq\n",
    "\n",
    "* else:\n",
    "\n",
    "    d<sub>1</sub> = 0 seconds"
   ]
  },
  {
   "cell_type": "code",
   "execution_count": null,
   "metadata": {},
   "outputs": [],
   "source": [
    "# Define the conditional logic for calculating the relaxation time (d1)\n",
    "def calculate_d1_time(t1_time : float, aq : float):\n",
    "    d1 = 5 * t1_time - aq\n",
    "    if d1 > 0:\n",
    "        return d1\n",
    "    else:\n",
    "        return 0\n",
    "\n",
    "T1_df['D1_Time'] = T1_df['T1_Time'].apply(calculate_d1_time, aq=1.3)\n",
    "\n",
    "# Find the largest D1\n",
    "max_d1 = T1_df['D1_Time'].max()\n",
    "\n",
    "# Round d1 time to nearest second\n",
    "max_d1 = round(max_d1)\n",
    "\n",
    "# Print the ideal d1 time using an f-string\n",
    "print(f'Ideal d1 time: {max_d1} (s)')\n",
    "T1_df"
   ]
  },
  {
   "cell_type": "markdown",
   "metadata": {},
   "source": [
    "---\n",
    "\n",
    "## 8. Export results\n",
    "\n",
    "We can save the T<sub>1</sub> and d<sub>1</sub> values we calculated by exporting our summary DataFrame as a .csv file.\n",
    "\n",
    "You can open the .csv file in excel."
   ]
  },
  {
   "cell_type": "code",
   "execution_count": null,
   "metadata": {},
   "outputs": [],
   "source": [
    "# Define output directory\n",
    "directory = 'results'\n",
    "\n",
    "# Make sure the parent directory exists\n",
    "if not os.path.isdir(directory):\n",
    "    os.makedirs(directory)\n",
    "\n",
    "# Export DataFrame to a .csv file\n",
    "T1_df.to_csv(f'{directory}/ibprofen_t1_d1_summary.csv')"
   ]
  }
 ],
 "metadata": {
  "kernelspec": {
   "display_name": "nmr",
   "language": "python",
   "name": "python3"
  },
  "language_info": {
   "codemirror_mode": {
    "name": "ipython",
    "version": 3
   },
   "file_extension": ".py",
   "mimetype": "text/x-python",
   "name": "python",
   "nbconvert_exporter": "python",
   "pygments_lexer": "ipython3",
   "version": "3.12.5"
  }
 },
 "nbformat": 4,
 "nbformat_minor": 2
}
