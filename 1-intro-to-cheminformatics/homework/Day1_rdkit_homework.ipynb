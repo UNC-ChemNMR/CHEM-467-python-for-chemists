{
 "cells": [
  {
   "cell_type": "markdown",
   "metadata": {},
   "source": [
    "# RDkit homework\n",
    "\n",
    "<strong>Author(s):</strong> Seth D. Veenbaas, Jessica A. Nash, The Molecular Sciences Software Institute\n",
    "\n",
    "<div class=\"alert alert-block alert-info\">\n",
    "<h2>Objectives:</h2>\n",
    "\n",
    "- Get the SMILES string of your favorite molecule.\n",
    "- Draw a 2D structure and 3D model of your favorite molecule.\n",
    "- Use `rdkit.Chem.Draw.SimilarityMaps.GetSimilarityMapFromWeights()` to visualize the partial charges in your favorite molecule.\n",
    "\n",
    "</div>"
   ]
  },
  {
   "cell_type": "code",
   "execution_count": 2,
   "metadata": {},
   "outputs": [],
   "source": [
    "# Import modules from the rdkit library\n",
    "import rdkit\n",
    "from rdkit.Chem import Draw, AllChem, rdMolDescriptors, Descriptors3D\n",
    "from rdkit.Chem.Draw import SimilarityMaps\n",
    "import py3Dmol"
   ]
  },
  {
   "cell_type": "markdown",
   "metadata": {},
   "source": [
    "<div class=\"alert alert-block alert-warning\">\n",
    "<h3>Step 1</h3>\n",
    "\n",
    "Determine the SMILES string for your favorite molecule (any complex molecule of your choice).\n",
    "\n",
    "You can look up the SMILES strings on <a href=\"https://pubchem.ncbi.nlm.nih.gov/\">PubChem</a> or <a href=\"https://en.wikipedia.org/wiki/Main_Page\">Wikipedia</a>\n",
    "\n",
    "**Tip**: Use quotation marks around your SMILES string like this:\n",
    "```python\n",
    "acetic_acid_smiles = \"CC(=O)O\"\n",
    "```\n",
    "</div>"
   ]
  },
  {
   "cell_type": "code",
   "execution_count": 3,
   "metadata": {},
   "outputs": [],
   "source": [
    "# Save the SMILES of your favorite molecule to a variable\n",
    "\n"
   ]
  },
  {
   "cell_type": "markdown",
   "metadata": {},
   "source": [
    "<div class=\"alert alert-block alert-warning\">\n",
    "<h3>Step 2</h3>\n",
    "\n",
    "Use RDKit to covert your SMILES string into a molecule called `favorite_molecule` and draw `favorite_molecule`.\n",
    "\n",
    "Helpful methods:\n",
    "- [`rdkit.Chem.MolFromSmiles()`](https://www.rdkit.org/docs/GettingStartedInPython.html#reading-single-molecules)\n",
    "- [`Chem.Draw.MolToImage()`](https://www.rdkit.org/docs/GettingStartedInPython.html#reading-single-molecules)\n",
    "</div>"
   ]
  },
  {
   "cell_type": "code",
   "execution_count": null,
   "metadata": {},
   "outputs": [],
   "source": [
    "# Create an rdkit molecule and draw its structure\n"
   ]
  },
  {
   "cell_type": "markdown",
   "metadata": {},
   "source": [
    "## 3D modeling\n",
    "\n",
    "Run the cell below to interact with a 3D model of your favorite molecule.\n",
    "\n",
    "Controls for the interactive py3Dmol window:\n",
    "\n",
    "|  Action   |         Control         |\n",
    "| :-------: | :---------------------: |\n",
    "|  rotate   |  `left click` + `drag`  |\n",
    "| translate | `center click` + `drag` |\n",
    "|   zoom    | `right click` + `drag`  |"
   ]
  },
  {
   "cell_type": "code",
   "execution_count": null,
   "metadata": {},
   "outputs": [],
   "source": [
    "# Add Hydrogen atoms to molecule\n",
    "favorite_molecule = AllChem.AddHs(favorite_molecule)\n",
    "\n",
    "# Create a 3D molecule\n",
    "AllChem.EmbedMolecule(favorite_molecule)\n",
    "\n",
    "# Minimize energy of molecular conformation\n",
    "AllChem.MMFFOptimizeMolecule(favorite_molecule)\n",
    "\n",
    "# Open RDKit molecule in an interactive py3Dmol window\n",
    "py3Dmol.view(\n",
    "    data=rdkit.Chem.MolToMolBlock(favorite_molecule),\n",
    "    style={\"stick\": {}, \"sphere\": {\"scale\": 0.3}}\n",
    ")"
   ]
  },
  {
   "cell_type": "markdown",
   "metadata": {},
   "source": [
    "<div class=\"alert alert-block alert-warning\">\n",
    "<h3>Step 3</h3>\n",
    "\n",
    "Visualize the partial charge of your favorite molecule using the `SimilarityMaps.GetSimilarityMapFromWeights()` function.\n",
    "\n",
    "Refer to [Day1_cheminformatics](../../../1-intro-to-cheminformatics/Day1_rdkit.ipynb#visualizing-partial-charges-with-rdkit) for help.\n",
    "\n",
    "</div>\n",
    "\n",
    "### `SimilarityMaps.GetSimilarityMapFromWeights()`:\n",
    "\n",
    "**Purpose**\n",
    "  - Creates a similarity map visualization of molecular properties (e.g., atom-based charges).\n",
    "\n",
    "**Parameters**\n",
    "  - `mol`: The molecule object (e.g., `ibuprofen`).\n",
    "  - `weights`: A list of numeric values (e.g., partial charges) for each atom in the molecule.\n",
    "  - `contourLines`: Number of contour lines to display (default: `10`).\n",
    "  - `colorMap`: Matplotlib color scheme for the map (e.g., `jet`, `seismic`, `viridis`).\n",
    "  - `size`: Size of the image in pixels (default: `(250, 250)`)\n",
    "\n",
    "**Returns**\n",
    "  - An image of the molecule with the similarity map overlaid.\n"
   ]
  },
  {
   "cell_type": "code",
   "execution_count": null,
   "metadata": {},
   "outputs": [],
   "source": [
    "# Compute Gasteiger partial charges\n",
    "\n",
    "\n",
    "# Generate a list with the charge weights (Gasteiger charges) for each atom\n",
    "\n",
    "\n",
    "# Generate a similarity map\n"
   ]
  }
 ],
 "metadata": {
  "kernelspec": {
   "display_name": "nmr",
   "language": "python",
   "name": "python3"
  },
  "language_info": {
   "codemirror_mode": {
    "name": "ipython",
    "version": 3
   },
   "file_extension": ".py",
   "mimetype": "text/x-python",
   "name": "python",
   "nbconvert_exporter": "python",
   "pygments_lexer": "ipython3",
   "version": "3.12.5"
  }
 },
 "nbformat": 4,
 "nbformat_minor": 2
}
